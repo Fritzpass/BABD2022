{
 "cells": [
  {
   "cell_type": "markdown",
   "metadata": {},
   "source": [
    "# Create a simple NN with Keras"
   ]
  },
  {
   "cell_type": "code",
   "execution_count": 118,
   "metadata": {
    "colab": {
     "base_uri": "https://localhost:8080/",
     "height": 197
    },
    "colab_type": "code",
    "executionInfo": {
     "elapsed": 843,
     "status": "ok",
     "timestamp": 1571065640210,
     "user": {
      "displayName": "ai school",
      "photoUrl": "",
      "userId": "08125262134229048618"
     },
     "user_tz": -120
    },
    "id": "kXsT2UpUzOx0",
    "outputId": "1aa9d367-169d-4f1a-d9a3-d70b7e30f2d1"
   },
   "outputs": [
    {
     "data": {
      "text/html": [
       "<div>\n",
       "<style scoped>\n",
       "    .dataframe tbody tr th:only-of-type {\n",
       "        vertical-align: middle;\n",
       "    }\n",
       "\n",
       "    .dataframe tbody tr th {\n",
       "        vertical-align: top;\n",
       "    }\n",
       "\n",
       "    .dataframe thead th {\n",
       "        text-align: right;\n",
       "    }\n",
       "</style>\n",
       "<table border=\"1\" class=\"dataframe\">\n",
       "  <thead>\n",
       "    <tr style=\"text-align: right;\">\n",
       "      <th></th>\n",
       "      <th>timespreg</th>\n",
       "      <th>gluctol</th>\n",
       "      <th>diaspb</th>\n",
       "      <th>triceps</th>\n",
       "      <th>insulin</th>\n",
       "      <th>massindex</th>\n",
       "      <th>pedigree</th>\n",
       "      <th>age</th>\n",
       "      <th>target</th>\n",
       "    </tr>\n",
       "  </thead>\n",
       "  <tbody>\n",
       "    <tr>\n",
       "      <th>0</th>\n",
       "      <td>6</td>\n",
       "      <td>148</td>\n",
       "      <td>72</td>\n",
       "      <td>35</td>\n",
       "      <td>0</td>\n",
       "      <td>33.6</td>\n",
       "      <td>0.627</td>\n",
       "      <td>50</td>\n",
       "      <td>1</td>\n",
       "    </tr>\n",
       "    <tr>\n",
       "      <th>1</th>\n",
       "      <td>1</td>\n",
       "      <td>85</td>\n",
       "      <td>66</td>\n",
       "      <td>29</td>\n",
       "      <td>0</td>\n",
       "      <td>26.6</td>\n",
       "      <td>0.351</td>\n",
       "      <td>31</td>\n",
       "      <td>0</td>\n",
       "    </tr>\n",
       "    <tr>\n",
       "      <th>2</th>\n",
       "      <td>8</td>\n",
       "      <td>183</td>\n",
       "      <td>64</td>\n",
       "      <td>0</td>\n",
       "      <td>0</td>\n",
       "      <td>23.3</td>\n",
       "      <td>0.672</td>\n",
       "      <td>32</td>\n",
       "      <td>1</td>\n",
       "    </tr>\n",
       "    <tr>\n",
       "      <th>3</th>\n",
       "      <td>1</td>\n",
       "      <td>89</td>\n",
       "      <td>66</td>\n",
       "      <td>23</td>\n",
       "      <td>94</td>\n",
       "      <td>28.1</td>\n",
       "      <td>0.167</td>\n",
       "      <td>21</td>\n",
       "      <td>0</td>\n",
       "    </tr>\n",
       "    <tr>\n",
       "      <th>4</th>\n",
       "      <td>0</td>\n",
       "      <td>137</td>\n",
       "      <td>40</td>\n",
       "      <td>35</td>\n",
       "      <td>168</td>\n",
       "      <td>43.1</td>\n",
       "      <td>2.288</td>\n",
       "      <td>33</td>\n",
       "      <td>1</td>\n",
       "    </tr>\n",
       "  </tbody>\n",
       "</table>\n",
       "</div>"
      ],
      "text/plain": [
       "   timespreg  gluctol  diaspb  triceps  insulin  massindex  pedigree  age  \\\n",
       "0          6      148      72       35        0       33.6     0.627   50   \n",
       "1          1       85      66       29        0       26.6     0.351   31   \n",
       "2          8      183      64        0        0       23.3     0.672   32   \n",
       "3          1       89      66       23       94       28.1     0.167   21   \n",
       "4          0      137      40       35      168       43.1     2.288   33   \n",
       "\n",
       "   target  \n",
       "0       1  \n",
       "1       0  \n",
       "2       1  \n",
       "3       0  \n",
       "4       1  "
      ]
     },
     "execution_count": 118,
     "metadata": {},
     "output_type": "execute_result"
    }
   ],
   "source": [
    "import pandas as pd\n",
    "df = pd.read_csv('diabetes.csv')\n",
    "\n",
    "df.head()"
   ]
  },
  {
   "cell_type": "code",
   "execution_count": 119,
   "metadata": {
    "colab": {
     "base_uri": "https://localhost:8080/",
     "height": 67
    },
    "colab_type": "code",
    "executionInfo": {
     "elapsed": 1449,
     "status": "ok",
     "timestamp": 1571065640841,
     "user": {
      "displayName": "ai school",
      "photoUrl": "",
      "userId": "08125262134229048618"
     },
     "user_tz": -120
    },
    "id": "5Vo37xSHzOx5",
    "outputId": "53be1fbe-7af5-4849-c110-efc2ec66448e"
   },
   "outputs": [
    {
     "data": {
      "text/plain": [
       "Index(['timespreg', 'gluctol', 'diaspb', 'triceps', 'insulin', 'massindex',\n",
       "       'pedigree', 'age', 'target'],\n",
       "      dtype='object')"
      ]
     },
     "execution_count": 119,
     "metadata": {},
     "output_type": "execute_result"
    }
   ],
   "source": [
    "df.columns"
   ]
  },
  {
   "cell_type": "code",
   "execution_count": 120,
   "metadata": {
    "colab": {
     "base_uri": "https://localhost:8080/",
     "height": 83
    },
    "colab_type": "code",
    "executionInfo": {
     "elapsed": 1390,
     "status": "ok",
     "timestamp": 1571065640843,
     "user": {
      "displayName": "ai school",
      "photoUrl": "",
      "userId": "08125262134229048618"
     },
     "user_tz": -120
    },
    "id": "9pb8Z-NVzOyC",
    "outputId": "dbe39823-e13b-4099-a075-7bb36d257818"
   },
   "outputs": [
    {
     "name": "stdout",
     "output_type": "stream",
     "text": [
      "target\n",
      "0    500\n",
      "1    268\n",
      "dtype: int64\n"
     ]
    }
   ],
   "source": [
    "#Print class frequencies through pandas \n",
    "print(df.groupby('target').size())"
   ]
  },
  {
   "cell_type": "code",
   "execution_count": 121,
   "metadata": {
    "colab": {
     "base_uri": "https://localhost:8080/",
     "height": 295
    },
    "colab_type": "code",
    "executionInfo": {
     "elapsed": 1805,
     "status": "ok",
     "timestamp": 1571065641280,
     "user": {
      "displayName": "ai school",
      "photoUrl": "",
      "userId": "08125262134229048618"
     },
     "user_tz": -120
    },
    "id": "_lpEzGEVzOyF",
    "outputId": "9320a723-597d-46ac-d0c8-84e981038f8e"
   },
   "outputs": [
    {
     "data": {
      "image/png": "[encoded data removed]",
      "text/plain": [
       "<Figure size 432x288 with 1 Axes>"
      ]
     },
     "metadata": {
      "needs_background": "light"
     },
     "output_type": "display_data"
    }
   ],
   "source": [
    "#Bar plot for the target variable\n",
    "%matplotlib inline\n",
    "import seaborn as sns #https://seaborn.pydata.org/\n",
    "import matplotlib.pyplot as plt #https://matplotlib.org/\n",
    "\n",
    "sns.countplot(x=\"target\", data=df)\n",
    "plt.title(\"Diabetes Dataset\")\n",
    "plt.xlabel(\"Classes\")\n",
    "plt.ylabel(\"Counts\")\n",
    "plt.show()"
   ]
  },
  {
   "cell_type": "code",
   "execution_count": 122,
   "metadata": {
    "colab": {
     "base_uri": "https://localhost:8080/",
     "height": 666
    },
    "colab_type": "code",
    "executionInfo": {
     "elapsed": 3277,
     "status": "ok",
     "timestamp": 1571065642775,
     "user": {
      "displayName": "ai school",
      "photoUrl": "",
      "userId": "08125262134229048618"
     },
     "user_tz": -120
    },
    "id": "aaXMXa1dzOyK",
    "outputId": "2557883b-9c6b-4bad-f826-40eb300002f8"
   },
   "outputs": [
    {
     "data": {
      "text/plain": [
       "array([[<AxesSubplot:title={'center':'timespreg'}>,\n",
       "        <AxesSubplot:title={'center':'gluctol'}>,\n",
       "        <AxesSubplot:title={'center':'diaspb'}>],\n",
       "       [<AxesSubplot:title={'center':'triceps'}>,\n",
       "        <AxesSubplot:title={'center':'insulin'}>,\n",
       "        <AxesSubplot:title={'center':'massindex'}>],\n",
       "       [<AxesSubplot:title={'center':'pedigree'}>,\n",
       "        <AxesSubplot:title={'center':'age'}>,\n",
       "        <AxesSubplot:title={'center':'target'}>]], dtype=object)"
      ]
     },
     "execution_count": 122,
     "metadata": {},
     "output_type": "execute_result"
    },
    {
     "data": {
      "image/png": "[encoded data removed]",
      "text/plain": [
       "<Figure size 720x576 with 9 Axes>"
      ]
     },
     "metadata": {
      "needs_background": "light"
     },
     "output_type": "display_data"
    }
   ],
   "source": [
    "df.hist(figsize=(10,8))"
   ]
  },
  {
   "cell_type": "code",
   "execution_count": 123,
   "metadata": {
    "colab": {
     "base_uri": "https://localhost:8080/",
     "height": 33
    },
    "colab_type": "code",
    "executionInfo": {
     "elapsed": 3267,
     "status": "ok",
     "timestamp": 1571065642776,
     "user": {
      "displayName": "ai school",
      "photoUrl": "",
      "userId": "08125262134229048618"
     },
     "user_tz": -120
    },
    "id": "98YzyRH1zOyN",
    "outputId": "03ade465-d41b-4116-a29f-8c090753e8a1"
   },
   "outputs": [
    {
     "name": "stdout",
     "output_type": "stream",
     "text": [
      "(768, 8)\n"
     ]
    }
   ],
   "source": [
    "# slicing the dataframe EXPL_VARs/TARGET\n",
    "import numpy as np\n",
    "df = df.values\n",
    "x=df[:,0:-1] \n",
    "y=df[:,-1]\n",
    "\n",
    "print(x.shape)"
   ]
  },
  {
   "cell_type": "code",
   "execution_count": 124,
   "metadata": {
    "colab": {
     "base_uri": "https://localhost:8080/",
     "height": 33
    },
    "colab_type": "code",
    "executionInfo": {
     "elapsed": 3258,
     "status": "ok",
     "timestamp": 1571065642777,
     "user": {
      "displayName": "ai school",
      "photoUrl": "",
      "userId": "08125262134229048618"
     },
     "user_tz": -120
    },
    "id": "P0nOG-9uzOyQ",
    "outputId": "5267c8d7-ae11-4580-c052-531df5944f38"
   },
   "outputs": [
    {
     "name": "stdout",
     "output_type": "stream",
     "text": [
      "(768,)\n"
     ]
    }
   ],
   "source": [
    "print(y.shape)"
   ]
  },
  {
   "cell_type": "code",
   "execution_count": 125,
   "metadata": {
    "colab": {
     "base_uri": "https://localhost:8080/",
     "height": 50
    },
    "colab_type": "code",
    "executionInfo": {
     "elapsed": 3396,
     "status": "ok",
     "timestamp": 1571065642926,
     "user": {
      "displayName": "ai school",
      "photoUrl": "",
      "userId": "08125262134229048618"
     },
     "user_tz": -120
    },
    "id": "Led2n3hszOyU",
    "outputId": "26d7a386-cfa5-47cf-8873-7fcf6b8d5cf0"
   },
   "outputs": [
    {
     "name": "stdout",
     "output_type": "stream",
     "text": [
      "(537, 8)\n",
      "(231, 8)\n"
     ]
    }
   ],
   "source": [
    "from sklearn.model_selection import train_test_split\n",
    "\n",
    "# Split data into training and test sets\n",
    "x_train, x_test, y_train, y_test = train_test_split(x, y, \n",
    "                                                    test_size =0.3, #by default is 75%-25%\n",
    "                                                    #shuffle is set True by default,\n",
    "                                                    stratify=y,\n",
    "                                                    random_state= 123) #fix random seed for replicability\n",
    "print(x_train.shape)\n",
    "print(x_test.shape)"
   ]
  },
  {
   "cell_type": "markdown",
   "metadata": {
    "colab_type": "text",
    "id": "Uzbc7RWVzOyX"
   },
   "source": [
    "## Create a NN model with Keras"
   ]
  },
  {
   "cell_type": "code",
   "execution_count": 126,
   "metadata": {
    "scrolled": false
   },
   "outputs": [],
   "source": [
    "# Install a conda package in the current Jupyter kernel\n",
    "#import sys\n",
    "#!conda install --yes --prefix {sys.prefix} keras tensorflow"
   ]
  },
  {
   "cell_type": "code",
   "execution_count": 236,
   "metadata": {
    "colab": {
     "base_uri": "https://localhost:8080/",
     "height": 253
    },
    "colab_type": "code",
    "executionInfo": {
     "elapsed": 4923,
     "status": "ok",
     "timestamp": 1571065644466,
     "user": {
      "displayName": "ai school",
      "photoUrl": "",
      "userId": "08125262134229048618"
     },
     "user_tz": -120
    },
    "id": "ZQ4PxlyRzOyY",
    "outputId": "bbb6bc25-784a-4b21-f0fc-0f71eaadb87a",
    "scrolled": false
   },
   "outputs": [],
   "source": [
    "from keras.models import Sequential\n",
    "from keras.layers import Dense, Dropout\n",
    "from keras import optimizers\n",
    "\n",
    "np.random.seed(123)\n",
    "\n",
    "model = Sequential()\n",
    "model.add(Dense(10, input_dim=8, activation='relu'))\n",
    "model.add(Dropout(0.5))\n",
    "model.add(Dense(5, activation='relu'))\n",
    "model.add(Dense(1, activation='sigmoid'))"
   ]
  },
  {
   "cell_type": "markdown",
   "metadata": {
    "colab_type": "text",
    "id": "BFR0o0nnzOyb"
   },
   "source": [
    "## Train the model and print a summary representation of the model"
   ]
  },
  {
   "cell_type": "code",
   "execution_count": 237,
   "metadata": {
    "colab": {
     "base_uri": "https://localhost:8080/",
     "height": 403
    },
    "colab_type": "code",
    "executionInfo": {
     "elapsed": 4912,
     "status": "ok",
     "timestamp": 1571065644467,
     "user": {
      "displayName": "ai school",
      "photoUrl": "",
      "userId": "08125262134229048618"
     },
     "user_tz": -120
    },
    "id": "5-ocmZKgzOyc",
    "outputId": "252b9b3c-598a-4096-f0fd-78ba35662d2d"
   },
   "outputs": [
    {
     "name": "stdout",
     "output_type": "stream",
     "text": [
      "Model: \"sequential_14\"\n",
      "_________________________________________________________________\n",
      "Layer (type)                 Output Shape              Param #   \n",
      "=================================================================\n",
      "dense_38 (Dense)             (None, 10)                90        \n",
      "_________________________________________________________________\n",
      "dropout_9 (Dropout)          (None, 10)                0         \n",
      "_________________________________________________________________\n",
      "dense_39 (Dense)             (None, 5)                 55        \n",
      "_________________________________________________________________\n",
      "dense_40 (Dense)             (None, 1)                 6         \n",
      "=================================================================\n",
      "Total params: 151\n",
      "Trainable params: 151\n",
      "Non-trainable params: 0\n",
      "_________________________________________________________________\n",
      "None\n"
     ]
    }
   ],
   "source": [
    "model.compile(loss='binary_crossentropy',metrics=['accuracy'])\n",
    "\n",
    "print(model.summary())"
   ]
  },
  {
   "cell_type": "markdown",
   "metadata": {
    "colab_type": "text",
    "id": "9kXdqu0DzOyf"
   },
   "source": [
    "# Fit the model"
   ]
  },
  {
   "cell_type": "code",
   "execution_count": 238,
   "metadata": {
    "colab": {
     "base_uri": "https://localhost:8080/",
     "height": 1000
    },
    "colab_type": "code",
    "executionInfo": {
     "elapsed": 15007,
     "status": "ok",
     "timestamp": 1571065654581,
     "user": {
      "displayName": "ai school",
      "photoUrl": "",
      "userId": "08125262134229048618"
     },
     "user_tz": -120
    },
    "id": "QdFEKN0qzOyg",
    "outputId": "6ffacf29-63e7-467d-9a54-f502736c075e",
    "scrolled": true
   },
   "outputs": [
    {
     "name": "stdout",
     "output_type": "stream",
     "text": [
      "Epoch 1/100\n",
      "14/14 [==============================] - 1s 29ms/step - loss: 12.8690 - accuracy: 0.6164 - val_loss: 7.7460 - val_accuracy: 0.5000\n",
      "Epoch 2/100\n",
      "14/14 [==============================] - 0s 10ms/step - loss: 11.5698 - accuracy: 0.6092 - val_loss: 6.8071 - val_accuracy: 0.5093\n",
      "Epoch 3/100\n",
      "14/14 [==============================] - 0s 12ms/step - loss: 8.8584 - accuracy: 0.6088 - val_loss: 6.0820 - val_accuracy: 0.4722\n",
      "Epoch 4/100\n",
      "14/14 [==============================] - 0s 11ms/step - loss: 8.8420 - accuracy: 0.5475 - val_loss: 5.5762 - val_accuracy: 0.4537\n",
      "Epoch 5/100\n",
      "14/14 [==============================] - 0s 10ms/step - loss: 7.5463 - accuracy: 0.5890 - val_loss: 5.0581 - val_accuracy: 0.4537\n",
      "Epoch 6/100\n",
      "14/14 [==============================] - 0s 10ms/step - loss: 7.5345 - accuracy: 0.5818 - val_loss: 4.2271 - val_accuracy: 0.4815\n",
      "Epoch 7/100\n",
      "14/14 [==============================] - 0s 13ms/step - loss: 6.1896 - accuracy: 0.6070 - val_loss: 3.6996 - val_accuracy: 0.4815\n",
      "Epoch 8/100\n",
      "14/14 [==============================] - 0s 12ms/step - loss: 6.0202 - accuracy: 0.5877 - val_loss: 3.0654 - val_accuracy: 0.5185\n",
      "Epoch 9/100\n",
      "14/14 [==============================] - 0s 10ms/step - loss: 4.1741 - accuracy: 0.6181 - val_loss: 2.8363 - val_accuracy: 0.5185\n",
      "Epoch 10/100\n",
      "14/14 [==============================] - 0s 10ms/step - loss: 4.0708 - accuracy: 0.5431 - val_loss: 2.3990 - val_accuracy: 0.5185\n",
      "Epoch 11/100\n",
      "14/14 [==============================] - 0s 11ms/step - loss: 4.9661 - accuracy: 0.5081 - val_loss: 2.0286 - val_accuracy: 0.5556\n",
      "Epoch 12/100\n",
      "14/14 [==============================] - 0s 11ms/step - loss: 3.8959 - accuracy: 0.6002 - val_loss: 1.7885 - val_accuracy: 0.5833\n",
      "Epoch 13/100\n",
      "14/14 [==============================] - 0s 12ms/step - loss: 3.7327 - accuracy: 0.5282 - val_loss: 1.6247 - val_accuracy: 0.5833\n",
      "Epoch 14/100\n",
      "14/14 [==============================] - 0s 10ms/step - loss: 3.2060 - accuracy: 0.5834 - val_loss: 1.5895 - val_accuracy: 0.5370\n",
      "Epoch 15/100\n",
      "14/14 [==============================] - 0s 10ms/step - loss: 2.2642 - accuracy: 0.5608 - val_loss: 1.4486 - val_accuracy: 0.5185\n",
      "Epoch 16/100\n",
      "14/14 [==============================] - 0s 8ms/step - loss: 3.1050 - accuracy: 0.5396 - val_loss: 1.3666 - val_accuracy: 0.5370\n",
      "Epoch 17/100\n",
      "14/14 [==============================] - 0s 10ms/step - loss: 2.7170 - accuracy: 0.5458 - val_loss: 1.3056 - val_accuracy: 0.5370\n",
      "Epoch 18/100\n",
      "14/14 [==============================] - 0s 11ms/step - loss: 1.9105 - accuracy: 0.5213 - val_loss: 1.2908 - val_accuracy: 0.5185\n",
      "Epoch 19/100\n",
      "14/14 [==============================] - 0s 11ms/step - loss: 1.4912 - accuracy: 0.5068 - val_loss: 1.2226 - val_accuracy: 0.5278\n",
      "Epoch 20/100\n",
      "14/14 [==============================] - 0s 16ms/step - loss: 1.9220 - accuracy: 0.5086 - val_loss: 1.1729 - val_accuracy: 0.5370\n",
      "Epoch 21/100\n",
      "14/14 [==============================] - 0s 11ms/step - loss: 1.4621 - accuracy: 0.5246 - val_loss: 1.1058 - val_accuracy: 0.5556\n",
      "Epoch 22/100\n",
      "14/14 [==============================] - 0s 10ms/step - loss: 1.0482 - accuracy: 0.5578 - val_loss: 1.1062 - val_accuracy: 0.5370\n",
      "Epoch 23/100\n",
      "14/14 [==============================] - 0s 10ms/step - loss: 1.5484 - accuracy: 0.4831 - val_loss: 1.0600 - val_accuracy: 0.5185\n",
      "Epoch 24/100\n",
      "14/14 [==============================] - 0s 10ms/step - loss: 1.0125 - accuracy: 0.5092 - val_loss: 1.0412 - val_accuracy: 0.5093\n",
      "Epoch 25/100\n",
      "14/14 [==============================] - 0s 8ms/step - loss: 1.3765 - accuracy: 0.5019 - val_loss: 0.9752 - val_accuracy: 0.5278\n",
      "Epoch 26/100\n",
      "14/14 [==============================] - 0s 9ms/step - loss: 1.1447 - accuracy: 0.5014 - val_loss: 0.9719 - val_accuracy: 0.5463\n",
      "Epoch 27/100\n",
      "14/14 [==============================] - 0s 9ms/step - loss: 1.0304 - accuracy: 0.4936 - val_loss: 0.9864 - val_accuracy: 0.5370\n",
      "Epoch 28/100\n",
      "14/14 [==============================] - 0s 10ms/step - loss: 1.0752 - accuracy: 0.4565 - val_loss: 0.9504 - val_accuracy: 0.5093\n",
      "Epoch 29/100\n",
      "14/14 [==============================] - 0s 10ms/step - loss: 0.8346 - accuracy: 0.4919 - val_loss: 0.9175 - val_accuracy: 0.5370\n",
      "Epoch 30/100\n",
      "14/14 [==============================] - 0s 10ms/step - loss: 0.8488 - accuracy: 0.4773 - val_loss: 0.9020 - val_accuracy: 0.5278\n",
      "Epoch 31/100\n",
      "14/14 [==============================] - 0s 10ms/step - loss: 0.8982 - accuracy: 0.4376 - val_loss: 0.9166 - val_accuracy: 0.5093\n",
      "Epoch 32/100\n",
      "14/14 [==============================] - 0s 10ms/step - loss: 0.8071 - accuracy: 0.4679 - val_loss: 0.8992 - val_accuracy: 0.5093\n",
      "Epoch 33/100\n",
      "14/14 [==============================] - 0s 11ms/step - loss: 0.8280 - accuracy: 0.4484 - val_loss: 0.8903 - val_accuracy: 0.5093\n",
      "Epoch 34/100\n",
      "14/14 [==============================] - 0s 10ms/step - loss: 0.8024 - accuracy: 0.4447 - val_loss: 0.8765 - val_accuracy: 0.5000\n",
      "Epoch 35/100\n",
      "14/14 [==============================] - 0s 11ms/step - loss: 0.7645 - accuracy: 0.4886 - val_loss: 0.8658 - val_accuracy: 0.4907\n",
      "Epoch 36/100\n",
      "14/14 [==============================] - 0s 15ms/step - loss: 0.7979 - accuracy: 0.5257 - val_loss: 0.8527 - val_accuracy: 0.5185\n",
      "Epoch 37/100\n",
      "14/14 [==============================] - 0s 11ms/step - loss: 0.7731 - accuracy: 0.6681 - val_loss: 0.8620 - val_accuracy: 0.5556\n",
      "Epoch 38/100\n",
      "14/14 [==============================] - 0s 11ms/step - loss: 0.7525 - accuracy: 0.6617 - val_loss: 0.8858 - val_accuracy: 0.5000\n",
      "Epoch 39/100\n",
      "14/14 [==============================] - 0s 7ms/step - loss: 0.7770 - accuracy: 0.7008 - val_loss: 0.8548 - val_accuracy: 0.5648\n",
      "Epoch 40/100\n",
      "14/14 [==============================] - 0s 7ms/step - loss: 0.6826 - accuracy: 0.6919 - val_loss: 0.8570 - val_accuracy: 0.5926\n",
      "Epoch 41/100\n",
      "14/14 [==============================] - 0s 6ms/step - loss: 0.7093 - accuracy: 0.6705 - val_loss: 0.8555 - val_accuracy: 0.5833\n",
      "Epoch 42/100\n",
      "14/14 [==============================] - 0s 5ms/step - loss: 0.8182 - accuracy: 0.6618 - val_loss: 0.8460 - val_accuracy: 0.5833\n",
      "Epoch 43/100\n",
      "14/14 [==============================] - 0s 5ms/step - loss: 0.6749 - accuracy: 0.7185 - val_loss: 0.8365 - val_accuracy: 0.5556\n",
      "Epoch 44/100\n",
      "14/14 [==============================] - 0s 5ms/step - loss: 0.6914 - accuracy: 0.6790 - val_loss: 0.8323 - val_accuracy: 0.5741\n",
      "Epoch 45/100\n",
      "14/14 [==============================] - 0s 5ms/step - loss: 0.6911 - accuracy: 0.6783 - val_loss: 0.8317 - val_accuracy: 0.5926\n",
      "Epoch 46/100\n",
      "14/14 [==============================] - 0s 9ms/step - loss: 0.6824 - accuracy: 0.6649 - val_loss: 0.8277 - val_accuracy: 0.5741\n",
      "Epoch 47/100\n",
      "14/14 [==============================] - 0s 5ms/step - loss: 0.6878 - accuracy: 0.6588 - val_loss: 0.8369 - val_accuracy: 0.5741\n",
      "Epoch 48/100\n",
      "14/14 [==============================] - 0s 5ms/step - loss: 0.8203 - accuracy: 0.5960 - val_loss: 0.8355 - val_accuracy: 0.5741\n",
      "Epoch 49/100\n",
      "14/14 [==============================] - 0s 8ms/step - loss: 0.6804 - accuracy: 0.6736 - val_loss: 0.8357 - val_accuracy: 0.5833\n",
      "Epoch 50/100\n",
      "14/14 [==============================] - 0s 12ms/step - loss: 0.6686 - accuracy: 0.7005 - val_loss: 0.8319 - val_accuracy: 0.5741\n",
      "Epoch 51/100\n",
      "14/14 [==============================] - 0s 15ms/step - loss: 0.6883 - accuracy: 0.6455 - val_loss: 0.8251 - val_accuracy: 0.5741\n",
      "Epoch 52/100\n",
      "14/14 [==============================] - 0s 21ms/step - loss: 0.6746 - accuracy: 0.6497 - val_loss: 0.8305 - val_accuracy: 0.5741\n",
      "Epoch 53/100\n",
      "14/14 [==============================] - 0s 18ms/step - loss: 0.6536 - accuracy: 0.6700 - val_loss: 0.8373 - val_accuracy: 0.5833\n",
      "Epoch 54/100\n",
      "14/14 [==============================] - 0s 12ms/step - loss: 0.6606 - accuracy: 0.6686 - val_loss: 0.8331 - val_accuracy: 0.5741\n",
      "Epoch 55/100\n",
      "14/14 [==============================] - 0s 18ms/step - loss: 0.6783 - accuracy: 0.6577 - val_loss: 0.8256 - val_accuracy: 0.5648\n",
      "Epoch 56/100\n",
      "14/14 [==============================] - 0s 25ms/step - loss: 0.6796 - accuracy: 0.6849 - val_loss: 0.8256 - val_accuracy: 0.5926\n",
      "Epoch 57/100\n",
      "14/14 [==============================] - 0s 16ms/step - loss: 0.6913 - accuracy: 0.6751 - val_loss: 0.8265 - val_accuracy: 0.5741\n",
      "Epoch 58/100\n"
     ]
    },
    {
     "name": "stdout",
     "output_type": "stream",
     "text": [
      "14/14 [==============================] - 0s 20ms/step - loss: 0.6416 - accuracy: 0.6851 - val_loss: 0.8299 - val_accuracy: 0.5741\n",
      "Epoch 59/100\n",
      "14/14 [==============================] - 0s 11ms/step - loss: 0.6546 - accuracy: 0.6618 - val_loss: 0.8402 - val_accuracy: 0.5741\n",
      "Epoch 60/100\n",
      "14/14 [==============================] - 0s 14ms/step - loss: 0.6825 - accuracy: 0.6722 - val_loss: 0.8226 - val_accuracy: 0.5648\n",
      "Epoch 61/100\n",
      "14/14 [==============================] - 0s 12ms/step - loss: 0.6888 - accuracy: 0.6055 - val_loss: 0.8246 - val_accuracy: 0.5741\n",
      "Epoch 62/100\n",
      "14/14 [==============================] - 0s 10ms/step - loss: 0.6672 - accuracy: 0.6655 - val_loss: 0.8279 - val_accuracy: 0.5463\n",
      "Epoch 63/100\n",
      "14/14 [==============================] - 0s 10ms/step - loss: 0.6855 - accuracy: 0.6672 - val_loss: 0.8298 - val_accuracy: 0.5463\n",
      "Epoch 64/100\n",
      "14/14 [==============================] - 0s 12ms/step - loss: 0.6404 - accuracy: 0.6958 - val_loss: 0.8263 - val_accuracy: 0.5463\n",
      "Epoch 65/100\n",
      "14/14 [==============================] - 0s 13ms/step - loss: 0.7229 - accuracy: 0.6660 - val_loss: 0.8294 - val_accuracy: 0.5463\n",
      "Epoch 66/100\n",
      "14/14 [==============================] - 0s 14ms/step - loss: 0.6389 - accuracy: 0.6605 - val_loss: 0.8293 - val_accuracy: 0.5556\n",
      "Epoch 67/100\n",
      "14/14 [==============================] - 0s 13ms/step - loss: 0.6482 - accuracy: 0.6660 - val_loss: 0.8277 - val_accuracy: 0.5370\n",
      "Epoch 68/100\n",
      "14/14 [==============================] - 0s 19ms/step - loss: 0.6510 - accuracy: 0.6587 - val_loss: 0.8246 - val_accuracy: 0.5463\n",
      "Epoch 69/100\n",
      "14/14 [==============================] - 0s 16ms/step - loss: 0.6462 - accuracy: 0.6903 - val_loss: 0.8215 - val_accuracy: 0.5463\n",
      "Epoch 70/100\n",
      "14/14 [==============================] - 0s 14ms/step - loss: 0.6498 - accuracy: 0.6641 - val_loss: 0.8179 - val_accuracy: 0.5463\n",
      "Epoch 71/100\n",
      "14/14 [==============================] - 0s 13ms/step - loss: 0.6281 - accuracy: 0.7104 - val_loss: 0.8204 - val_accuracy: 0.5648\n",
      "Epoch 72/100\n",
      "14/14 [==============================] - 0s 18ms/step - loss: 0.6342 - accuracy: 0.6813 - val_loss: 0.8137 - val_accuracy: 0.5463\n",
      "Epoch 73/100\n",
      "14/14 [==============================] - 0s 10ms/step - loss: 0.6553 - accuracy: 0.6774 - val_loss: 0.8196 - val_accuracy: 0.5648\n",
      "Epoch 74/100\n",
      "14/14 [==============================] - 0s 10ms/step - loss: 0.6334 - accuracy: 0.6818 - val_loss: 0.8221 - val_accuracy: 0.5648\n",
      "Epoch 75/100\n",
      "14/14 [==============================] - 0s 18ms/step - loss: 0.6365 - accuracy: 0.6790 - val_loss: 0.8208 - val_accuracy: 0.5741\n",
      "Epoch 76/100\n",
      "14/14 [==============================] - 0s 13ms/step - loss: 0.6666 - accuracy: 0.6514 - val_loss: 0.8088 - val_accuracy: 0.5648\n",
      "Epoch 77/100\n",
      "14/14 [==============================] - 0s 9ms/step - loss: 0.6354 - accuracy: 0.6707 - val_loss: 0.8064 - val_accuracy: 0.5741\n",
      "Epoch 78/100\n",
      "14/14 [==============================] - 0s 10ms/step - loss: 0.6380 - accuracy: 0.6865 - val_loss: 0.7969 - val_accuracy: 0.5926\n",
      "Epoch 79/100\n",
      "14/14 [==============================] - 0s 8ms/step - loss: 0.6255 - accuracy: 0.6813 - val_loss: 0.8005 - val_accuracy: 0.5648\n",
      "Epoch 80/100\n",
      "14/14 [==============================] - 0s 9ms/step - loss: 0.6343 - accuracy: 0.6638 - val_loss: 0.8052 - val_accuracy: 0.5926\n",
      "Epoch 81/100\n",
      "14/14 [==============================] - 0s 10ms/step - loss: 0.6319 - accuracy: 0.6698 - val_loss: 0.8064 - val_accuracy: 0.5926\n",
      "Epoch 82/100\n",
      "14/14 [==============================] - 0s 19ms/step - loss: 0.6422 - accuracy: 0.6469 - val_loss: 0.8048 - val_accuracy: 0.5926\n",
      "Epoch 83/100\n",
      "14/14 [==============================] - 0s 14ms/step - loss: 0.6373 - accuracy: 0.6965 - val_loss: 0.7969 - val_accuracy: 0.5926\n",
      "Epoch 84/100\n",
      "14/14 [==============================] - 0s 13ms/step - loss: 0.6286 - accuracy: 0.6947 - val_loss: 0.7974 - val_accuracy: 0.6019\n",
      "Epoch 85/100\n",
      "14/14 [==============================] - 0s 16ms/step - loss: 0.6221 - accuracy: 0.7229 - val_loss: 0.7928 - val_accuracy: 0.5926\n",
      "Epoch 86/100\n",
      "14/14 [==============================] - 0s 14ms/step - loss: 0.6273 - accuracy: 0.6767 - val_loss: 0.7991 - val_accuracy: 0.5833\n",
      "Epoch 87/100\n",
      "14/14 [==============================] - 0s 13ms/step - loss: 0.6167 - accuracy: 0.6773 - val_loss: 0.7963 - val_accuracy: 0.6019\n",
      "Epoch 88/100\n",
      "14/14 [==============================] - 0s 14ms/step - loss: 0.6459 - accuracy: 0.6378 - val_loss: 0.7918 - val_accuracy: 0.6019\n",
      "Epoch 89/100\n",
      "14/14 [==============================] - 0s 10ms/step - loss: 0.6441 - accuracy: 0.6630 - val_loss: 0.7912 - val_accuracy: 0.6019\n",
      "Epoch 90/100\n",
      "14/14 [==============================] - 0s 14ms/step - loss: 0.6307 - accuracy: 0.6557 - val_loss: 0.7867 - val_accuracy: 0.5926\n",
      "Epoch 91/100\n",
      "14/14 [==============================] - 0s 14ms/step - loss: 0.6513 - accuracy: 0.6455 - val_loss: 0.7927 - val_accuracy: 0.6019\n",
      "Epoch 92/100\n",
      "14/14 [==============================] - 0s 14ms/step - loss: 0.6136 - accuracy: 0.6792 - val_loss: 0.7937 - val_accuracy: 0.6019\n",
      "Epoch 93/100\n",
      "14/14 [==============================] - 0s 10ms/step - loss: 0.6048 - accuracy: 0.7026 - val_loss: 0.7972 - val_accuracy: 0.5833\n",
      "Epoch 94/100\n",
      "14/14 [==============================] - 0s 9ms/step - loss: 0.6402 - accuracy: 0.6423 - val_loss: 0.7979 - val_accuracy: 0.5833\n",
      "Epoch 95/100\n",
      "14/14 [==============================] - 0s 10ms/step - loss: 0.6184 - accuracy: 0.7054 - val_loss: 0.7918 - val_accuracy: 0.5833\n",
      "Epoch 96/100\n",
      "14/14 [==============================] - 0s 15ms/step - loss: 0.6229 - accuracy: 0.6712 - val_loss: 0.7893 - val_accuracy: 0.6111\n",
      "Epoch 97/100\n",
      "14/14 [==============================] - 0s 14ms/step - loss: 0.6367 - accuracy: 0.6712 - val_loss: 0.7949 - val_accuracy: 0.5926\n",
      "Epoch 98/100\n",
      "14/14 [==============================] - 0s 15ms/step - loss: 0.6574 - accuracy: 0.6325 - val_loss: 0.8028 - val_accuracy: 0.5833\n",
      "Epoch 99/100\n",
      "14/14 [==============================] - 0s 15ms/step - loss: 0.6398 - accuracy: 0.6757 - val_loss: 0.8024 - val_accuracy: 0.5833\n",
      "Epoch 100/100\n",
      "14/14 [==============================] - 0s 13ms/step - loss: 0.6428 - accuracy: 0.6452 - val_loss: 0.8075 - val_accuracy: 0.5741\n"
     ]
    }
   ],
   "source": [
    "history = model.fit(x_train, y_train, validation_split=0.2, epochs=100,\n",
    "                    batch_size=32)"
   ]
  },
  {
   "cell_type": "markdown",
   "metadata": {
    "colab_type": "text",
    "id": "sdzis8Q8zOyj"
   },
   "source": [
    "# Evaluate the model and print its loss and accuracy score"
   ]
  },
  {
   "cell_type": "code",
   "execution_count": 239,
   "metadata": {
    "colab": {
     "base_uri": "https://localhost:8080/",
     "height": 50
    },
    "colab_type": "code",
    "executionInfo": {
     "elapsed": 15141,
     "status": "ok",
     "timestamp": 1571065654734,
     "user": {
      "displayName": "ai school",
      "photoUrl": "",
      "userId": "08125262134229048618"
     },
     "user_tz": -120
    },
    "id": "-p8g_vtnzOyk",
    "outputId": "2c03448c-edbb-40ec-b79c-755d18f4b453"
   },
   "outputs": [
    {
     "name": "stdout",
     "output_type": "stream",
     "text": [
      "8/8 [==============================] - 0s 3ms/step - loss: 0.6221 - accuracy: 0.6667\n",
      "[0.6220503449440002, 0.6666666865348816]\n"
     ]
    }
   ],
   "source": [
    "score = model.evaluate(x_test, y_test)\n",
    "print(score)"
   ]
  },
  {
   "cell_type": "code",
   "execution_count": 240,
   "metadata": {},
   "outputs": [
    {
     "data": {
      "text/plain": [
       "array([[5.78917563e-02],\n",
       "       [3.21649730e-01],\n",
       "       [3.20019811e-01],\n",
       "       [3.74809206e-01],\n",
       "       [3.27231646e-01],\n",
       "       [3.35917830e-01],\n",
       "       [3.35917830e-01],\n",
       "       [2.19301939e-01],\n",
       "       [3.14155757e-01],\n",
       "       [3.74149680e-01],\n",
       "       [3.74149680e-01],\n",
       "       [3.16574216e-01],\n",
       "       [3.14774334e-01],\n",
       "       [3.74149680e-01],\n",
       "       [3.28844339e-01],\n",
       "       [3.74149680e-01],\n",
       "       [3.74149680e-01],\n",
       "       [3.27583462e-01],\n",
       "       [3.74149680e-01],\n",
       "       [3.35917830e-01],\n",
       "       [4.80124503e-01],\n",
       "       [3.17881167e-01],\n",
       "       [3.74149680e-01],\n",
       "       [3.25083733e-01],\n",
       "       [3.74149680e-01],\n",
       "       [5.06732345e-01],\n",
       "       [3.40869904e-01],\n",
       "       [3.35917830e-01],\n",
       "       [3.35917830e-01],\n",
       "       [4.92884308e-01],\n",
       "       [4.28085208e-01],\n",
       "       [3.32277417e-01],\n",
       "       [3.74149680e-01],\n",
       "       [3.74149680e-01],\n",
       "       [3.25207680e-01],\n",
       "       [4.26412880e-01],\n",
       "       [6.08218133e-01],\n",
       "       [5.82943916e-01],\n",
       "       [3.23572308e-01],\n",
       "       [3.74149680e-01],\n",
       "       [5.85657895e-01],\n",
       "       [3.30709636e-01],\n",
       "       [3.14459175e-01],\n",
       "       [5.41023493e-01],\n",
       "       [3.35917830e-01],\n",
       "       [3.74149680e-01],\n",
       "       [3.89675856e-01],\n",
       "       [4.60676461e-01],\n",
       "       [3.74149680e-01],\n",
       "       [3.35917830e-01],\n",
       "       [3.35917830e-01],\n",
       "       [1.03432238e-02],\n",
       "       [3.74149680e-01],\n",
       "       [3.35917830e-01],\n",
       "       [3.25231194e-01],\n",
       "       [3.41251254e-01],\n",
       "       [3.74149680e-01],\n",
       "       [3.74149680e-01],\n",
       "       [2.05457717e-01],\n",
       "       [7.48733580e-02],\n",
       "       [3.20088923e-01],\n",
       "       [3.15926135e-01],\n",
       "       [3.35917830e-01],\n",
       "       [3.82567823e-01],\n",
       "       [3.74149680e-01],\n",
       "       [3.25774789e-01],\n",
       "       [3.27366650e-01],\n",
       "       [3.22057009e-01],\n",
       "       [4.30577695e-01],\n",
       "       [7.62249947e-01],\n",
       "       [3.74149680e-01],\n",
       "       [1.96503490e-01],\n",
       "       [3.16382259e-01],\n",
       "       [3.35917830e-01],\n",
       "       [4.94460791e-01],\n",
       "       [5.29397845e-01],\n",
       "       [3.74149680e-01],\n",
       "       [5.05573630e-01],\n",
       "       [3.74149680e-01],\n",
       "       [3.13594609e-01],\n",
       "       [3.35917830e-01],\n",
       "       [3.24964285e-01],\n",
       "       [3.24696660e-01],\n",
       "       [3.74149680e-01],\n",
       "       [3.24433267e-01],\n",
       "       [3.28656167e-01],\n",
       "       [3.74149680e-01],\n",
       "       [3.27587128e-01],\n",
       "       [3.74149680e-01],\n",
       "       [3.16143155e-01],\n",
       "       [3.23786318e-01],\n",
       "       [4.52991962e-01],\n",
       "       [3.74149680e-01],\n",
       "       [5.21748841e-01],\n",
       "       [3.14513981e-01],\n",
       "       [3.35917830e-01],\n",
       "       [3.83917689e-02],\n",
       "       [4.70439315e-01],\n",
       "       [3.35917830e-01],\n",
       "       [3.91504884e-01],\n",
       "       [5.08468568e-01],\n",
       "       [3.23447883e-01],\n",
       "       [6.06318593e-01],\n",
       "       [4.64717448e-01],\n",
       "       [3.74149680e-01],\n",
       "       [3.25793624e-01],\n",
       "       [3.74149680e-01],\n",
       "       [3.25970441e-01],\n",
       "       [3.55142534e-01],\n",
       "       [3.18583727e-01],\n",
       "       [4.61315960e-01],\n",
       "       [3.74149680e-01],\n",
       "       [2.15895593e-01],\n",
       "       [3.13555181e-01],\n",
       "       [4.28657591e-01],\n",
       "       [3.23258996e-01],\n",
       "       [3.35917830e-01],\n",
       "       [1.06922746e-01],\n",
       "       [3.29438955e-01],\n",
       "       [4.33771670e-01],\n",
       "       [4.22371387e-01],\n",
       "       [3.24568391e-01],\n",
       "       [3.74149680e-01],\n",
       "       [3.16447049e-01],\n",
       "       [3.35917830e-01],\n",
       "       [3.35917830e-01],\n",
       "       [3.35917830e-01],\n",
       "       [3.35917830e-01],\n",
       "       [3.74149680e-01],\n",
       "       [4.99561012e-01],\n",
       "       [3.13897491e-01],\n",
       "       [3.22263807e-01],\n",
       "       [3.74149680e-01],\n",
       "       [3.74149680e-01],\n",
       "       [2.35242158e-01],\n",
       "       [3.28317910e-01],\n",
       "       [3.74149680e-01],\n",
       "       [4.88344252e-01],\n",
       "       [4.12012637e-01],\n",
       "       [3.74149680e-01],\n",
       "       [3.74149680e-01],\n",
       "       [3.35917830e-01],\n",
       "       [3.14052820e-01],\n",
       "       [5.87823033e-01],\n",
       "       [3.26167524e-01],\n",
       "       [3.14333528e-01],\n",
       "       [3.74149680e-01],\n",
       "       [3.16231132e-01],\n",
       "       [4.30015802e-01],\n",
       "       [3.13477218e-01],\n",
       "       [3.15300226e-01],\n",
       "       [6.19721472e-01],\n",
       "       [3.74149680e-01],\n",
       "       [3.35917830e-01],\n",
       "       [4.60391879e-01],\n",
       "       [3.35917830e-01],\n",
       "       [5.06494462e-01],\n",
       "       [3.74149680e-01],\n",
       "       [3.29337180e-01],\n",
       "       [3.35917830e-01],\n",
       "       [3.74149680e-01],\n",
       "       [3.74149680e-01],\n",
       "       [9.17564034e-02],\n",
       "       [5.06702006e-01],\n",
       "       [3.74149680e-01],\n",
       "       [3.74149680e-01],\n",
       "       [3.74149680e-01],\n",
       "       [3.20506245e-01],\n",
       "       [9.62282002e-01],\n",
       "       [3.95780146e-01],\n",
       "       [5.94860315e-01],\n",
       "       [5.07843494e-01],\n",
       "       [3.13353956e-01],\n",
       "       [3.32535177e-01],\n",
       "       [3.35917830e-01],\n",
       "       [3.17638636e-01],\n",
       "       [3.27371538e-01],\n",
       "       [5.91338158e-01],\n",
       "       [3.74149680e-01],\n",
       "       [3.60996664e-01],\n",
       "       [4.11374122e-01],\n",
       "       [3.15003276e-01],\n",
       "       [3.74149680e-01],\n",
       "       [3.74149680e-01],\n",
       "       [3.17178428e-01],\n",
       "       [3.74285519e-01],\n",
       "       [5.18120408e-01],\n",
       "       [3.74149680e-01],\n",
       "       [3.17645788e-01],\n",
       "       [4.97858733e-01],\n",
       "       [3.74149680e-01],\n",
       "       [3.74149680e-01],\n",
       "       [7.52533436e-01],\n",
       "       [3.74149680e-01],\n",
       "       [3.74149680e-01],\n",
       "       [3.13474745e-01],\n",
       "       [5.78786314e-01],\n",
       "       [3.35917830e-01],\n",
       "       [3.13688636e-01],\n",
       "       [3.28386486e-01],\n",
       "       [3.74149680e-01],\n",
       "       [3.35917830e-01],\n",
       "       [1.66647096e-05],\n",
       "       [5.13455629e-01],\n",
       "       [3.35917830e-01],\n",
       "       [3.74149680e-01],\n",
       "       [3.74149680e-01],\n",
       "       [3.74149680e-01],\n",
       "       [3.74149680e-01],\n",
       "       [3.74149680e-01],\n",
       "       [3.74149680e-01],\n",
       "       [3.15589994e-01],\n",
       "       [3.35917830e-01],\n",
       "       [5.74725270e-01],\n",
       "       [3.74149680e-01],\n",
       "       [5.45410395e-01],\n",
       "       [3.74149680e-01],\n",
       "       [3.74149680e-01],\n",
       "       [3.16596746e-01],\n",
       "       [3.74149680e-01],\n",
       "       [3.74149680e-01],\n",
       "       [3.74149680e-01],\n",
       "       [7.21464515e-01],\n",
       "       [3.35917830e-01],\n",
       "       [3.74149680e-01],\n",
       "       [3.74149680e-01],\n",
       "       [3.74149680e-01],\n",
       "       [3.90353262e-01],\n",
       "       [3.74149680e-01],\n",
       "       [3.35917830e-01],\n",
       "       [3.15411389e-01]], dtype=float32)"
      ]
     },
     "execution_count": 240,
     "metadata": {},
     "output_type": "execute_result"
    }
   ],
   "source": [
    "y_pred_prob=model.predict(x_test)\n",
    "y_pred_prob"
   ]
  },
  {
   "cell_type": "code",
   "execution_count": 241,
   "metadata": {},
   "outputs": [
    {
     "name": "stdout",
     "output_type": "stream",
     "text": [
      "              precision    recall  f1-score   support\n",
      "\n",
      "         0.0       0.71      0.85      0.77       150\n",
      "         1.0       0.56      0.36      0.44        81\n",
      "\n",
      "    accuracy                           0.68       231\n",
      "   macro avg       0.63      0.60      0.60       231\n",
      "weighted avg       0.66      0.68      0.65       231\n",
      "\n"
     ]
    },
    {
     "data": {
      "image/png": "[encoded data removed]",
      "text/plain": [
       "<Figure size 432x288 with 2 Axes>"
      ]
     },
     "metadata": {
      "needs_background": "light"
     },
     "output_type": "display_data"
    }
   ],
   "source": [
    "y_pred=np.where(y_pred_prob > .38, 1,0).flatten()\n",
    "\n",
    "from sklearn.metrics import confusion_matrix\n",
    "from sklearn.metrics import classification_report\n",
    "import seaborn as sn\n",
    "import pandas as pd\n",
    "\n",
    "print(classification_report(y_test, y_pred))\n",
    "\n",
    "confusion_matrix = pd.crosstab( y_test,y_pred,rownames=['Actual'], colnames=['Predicted'])\n",
    "\n",
    "sn.heatmap(confusion_matrix, annot=True,fmt='g',cmap=\"Reds\")\n",
    "plt.show()"
   ]
  },
  {
   "cell_type": "markdown",
   "metadata": {
    "colab_type": "text",
    "id": "Pq1dUnbTzOyn"
   },
   "source": [
    "# Plot model training history"
   ]
  },
  {
   "cell_type": "code",
   "execution_count": 242,
   "metadata": {},
   "outputs": [
    {
     "data": {
      "text/plain": [
       "{'loss': [13.21515941619873,\n",
       "  11.41639232635498,\n",
       "  10.060392379760742,\n",
       "  9.451117515563965,\n",
       "  7.611924648284912,\n",
       "  7.7270355224609375,\n",
       "  5.682855606079102,\n",
       "  6.145667552947998,\n",
       "  4.601775169372559,\n",
       "  4.3565216064453125,\n",
       "  4.257549285888672,\n",
       "  3.787644624710083,\n",
       "  3.5406527519226074,\n",
       "  2.8757264614105225,\n",
       "  2.5650691986083984,\n",
       "  2.8643429279327393,\n",
       "  2.201201915740967,\n",
       "  1.9308127164840698,\n",
       "  1.682616949081421,\n",
       "  1.7901750802993774,\n",
       "  1.4002773761749268,\n",
       "  1.1350003480911255,\n",
       "  1.6331720352172852,\n",
       "  1.0636985301971436,\n",
       "  1.2303547859191895,\n",
       "  1.123225212097168,\n",
       "  0.9525594115257263,\n",
       "  1.0604822635650635,\n",
       "  0.8206379413604736,\n",
       "  0.8399175405502319,\n",
       "  0.884043276309967,\n",
       "  0.8918362259864807,\n",
       "  0.8826116323471069,\n",
       "  0.8600184917449951,\n",
       "  0.8116549253463745,\n",
       "  0.8037900924682617,\n",
       "  0.7675302028656006,\n",
       "  0.728190541267395,\n",
       "  0.81424880027771,\n",
       "  0.6737480759620667,\n",
       "  0.7048655152320862,\n",
       "  0.7933427691459656,\n",
       "  0.7028746604919434,\n",
       "  0.7113060355186462,\n",
       "  0.7060962915420532,\n",
       "  0.6897241473197937,\n",
       "  0.6949626207351685,\n",
       "  0.737455427646637,\n",
       "  0.6896750926971436,\n",
       "  0.6767793893814087,\n",
       "  0.6851222515106201,\n",
       "  0.6660664081573486,\n",
       "  0.6500188112258911,\n",
       "  0.6707709431648254,\n",
       "  0.6756643652915955,\n",
       "  0.6765842437744141,\n",
       "  0.703123152256012,\n",
       "  0.6504024267196655,\n",
       "  0.6489018797874451,\n",
       "  0.6702901721000671,\n",
       "  0.6876198649406433,\n",
       "  0.6633597612380981,\n",
       "  0.6905893087387085,\n",
       "  0.6549244523048401,\n",
       "  0.6783851385116577,\n",
       "  0.6404975056648254,\n",
       "  0.6517947316169739,\n",
       "  0.6502503156661987,\n",
       "  0.6490484476089478,\n",
       "  0.6425195932388306,\n",
       "  0.6395362019538879,\n",
       "  0.6411753296852112,\n",
       "  0.6618497371673584,\n",
       "  0.6298476457595825,\n",
       "  0.6433716416358948,\n",
       "  0.650373637676239,\n",
       "  0.6370874643325806,\n",
       "  0.6626324653625488,\n",
       "  0.6322728395462036,\n",
       "  0.6365278959274292,\n",
       "  0.6391829252243042,\n",
       "  0.6315476298332214,\n",
       "  0.6502260565757751,\n",
       "  0.6424654722213745,\n",
       "  0.6304888129234314,\n",
       "  0.6321165561676025,\n",
       "  0.631246030330658,\n",
       "  0.6396327614784241,\n",
       "  0.635036826133728,\n",
       "  0.6304526329040527,\n",
       "  0.6435398459434509,\n",
       "  0.619805634021759,\n",
       "  0.6137760281562805,\n",
       "  0.6307259202003479,\n",
       "  0.6340143084526062,\n",
       "  0.6200916767120361,\n",
       "  0.6227842569351196,\n",
       "  0.6381375789642334,\n",
       "  0.6244156360626221,\n",
       "  0.6315084099769592],\n",
       " 'accuracy': [0.5827505588531494,\n",
       "  0.5850815773010254,\n",
       "  0.5850815773010254,\n",
       "  0.5407925248146057,\n",
       "  0.5710955858230591,\n",
       "  0.559440553188324,\n",
       "  0.5967366099357605,\n",
       "  0.5850815773010254,\n",
       "  0.5850815773010254,\n",
       "  0.5337995290756226,\n",
       "  0.5617715716362,\n",
       "  0.5897436141967773,\n",
       "  0.5477855205535889,\n",
       "  0.5967366099357605,\n",
       "  0.557109534740448,\n",
       "  0.5174825191497803,\n",
       "  0.5547785758972168,\n",
       "  0.5151515007019043,\n",
       "  0.5314685106277466,\n",
       "  0.5221444964408875,\n",
       "  0.5431235432624817,\n",
       "  0.5431235432624817,\n",
       "  0.48018649220466614,\n",
       "  0.5058274865150452,\n",
       "  0.501165509223938,\n",
       "  0.503496527671814,\n",
       "  0.5104895234107971,\n",
       "  0.44988346099853516,\n",
       "  0.4965035021305084,\n",
       "  0.49417248368263245,\n",
       "  0.4592074453830719,\n",
       "  0.42191141843795776,\n",
       "  0.4428904354572296,\n",
       "  0.4452214539051056,\n",
       "  0.46853145956993103,\n",
       "  0.5757575631141663,\n",
       "  0.6596736311912537,\n",
       "  0.6783216595649719,\n",
       "  0.6666666865348816,\n",
       "  0.6946386694908142,\n",
       "  0.6736596822738647,\n",
       "  0.6689976453781128,\n",
       "  0.7039626836776733,\n",
       "  0.6573426723480225,\n",
       "  0.6456876397132874,\n",
       "  0.6783216595649719,\n",
       "  0.6759907007217407,\n",
       "  0.6293706297874451,\n",
       "  0.6666666865348816,\n",
       "  0.6689976453781128,\n",
       "  0.6550116539001465,\n",
       "  0.6526806354522705,\n",
       "  0.6713286638259888,\n",
       "  0.6643356680870056,\n",
       "  0.6573426723480225,\n",
       "  0.6713286638259888,\n",
       "  0.6689976453781128,\n",
       "  0.6783216595649719,\n",
       "  0.6620046496391296,\n",
       "  0.6620046496391296,\n",
       "  0.6480186581611633,\n",
       "  0.6596736311912537,\n",
       "  0.6666666865348816,\n",
       "  0.6689976453781128,\n",
       "  0.6620046496391296,\n",
       "  0.6666666865348816,\n",
       "  0.6666666865348816,\n",
       "  0.6689976453781128,\n",
       "  0.6853147149085999,\n",
       "  0.6666666865348816,\n",
       "  0.6736596822738647,\n",
       "  0.6643356680870056,\n",
       "  0.6689976453781128,\n",
       "  0.687645673751831,\n",
       "  0.6620046496391296,\n",
       "  0.6643356680870056,\n",
       "  0.6736596822738647,\n",
       "  0.6620046496391296,\n",
       "  0.6713286638259888,\n",
       "  0.6666666865348816,\n",
       "  0.6620046496391296,\n",
       "  0.6666666865348816,\n",
       "  0.6620046496391296,\n",
       "  0.6806526780128479,\n",
       "  0.687645673751831,\n",
       "  0.6620046496391296,\n",
       "  0.6596736311912537,\n",
       "  0.6550116539001465,\n",
       "  0.6666666865348816,\n",
       "  0.6620046496391296,\n",
       "  0.6550116539001465,\n",
       "  0.6829836964607239,\n",
       "  0.6829836964607239,\n",
       "  0.6573426723480225,\n",
       "  0.6736596822738647,\n",
       "  0.6759907007217407,\n",
       "  0.6806526780128479,\n",
       "  0.6643356680870056,\n",
       "  0.6783216595649719,\n",
       "  0.6689976453781128],\n",
       " 'val_loss': [7.746014595031738,\n",
       "  6.807105541229248,\n",
       "  6.082015037536621,\n",
       "  5.576242923736572,\n",
       "  5.058140277862549,\n",
       "  4.22709321975708,\n",
       "  3.699556350708008,\n",
       "  3.0653555393218994,\n",
       "  2.8362536430358887,\n",
       "  2.3990328311920166,\n",
       "  2.0286409854888916,\n",
       "  1.788543701171875,\n",
       "  1.6246896982192993,\n",
       "  1.5894923210144043,\n",
       "  1.448582410812378,\n",
       "  1.366621494293213,\n",
       "  1.3056238889694214,\n",
       "  1.290838360786438,\n",
       "  1.222607135772705,\n",
       "  1.1728774309158325,\n",
       "  1.1058491468429565,\n",
       "  1.1062387228012085,\n",
       "  1.0599550008773804,\n",
       "  1.041195034980774,\n",
       "  0.9751662611961365,\n",
       "  0.971942126750946,\n",
       "  0.9863548278808594,\n",
       "  0.9503604769706726,\n",
       "  0.9175074100494385,\n",
       "  0.9020381569862366,\n",
       "  0.9166426658630371,\n",
       "  0.8991759419441223,\n",
       "  0.8902537226676941,\n",
       "  0.8765419721603394,\n",
       "  0.8658295273780823,\n",
       "  0.8526513576507568,\n",
       "  0.8619704246520996,\n",
       "  0.8858447074890137,\n",
       "  0.8547739386558533,\n",
       "  0.8570480346679688,\n",
       "  0.855488121509552,\n",
       "  0.845964789390564,\n",
       "  0.8365433216094971,\n",
       "  0.8323266506195068,\n",
       "  0.8317407965660095,\n",
       "  0.8276565670967102,\n",
       "  0.8368884921073914,\n",
       "  0.8354541659355164,\n",
       "  0.8357466459274292,\n",
       "  0.8319324254989624,\n",
       "  0.8251440525054932,\n",
       "  0.8304678797721863,\n",
       "  0.837344765663147,\n",
       "  0.8330722451210022,\n",
       "  0.8255584239959717,\n",
       "  0.8255740404129028,\n",
       "  0.8264931440353394,\n",
       "  0.8299237489700317,\n",
       "  0.8401893973350525,\n",
       "  0.8226010799407959,\n",
       "  0.8246123790740967,\n",
       "  0.8279292583465576,\n",
       "  0.8298004865646362,\n",
       "  0.8263370394706726,\n",
       "  0.8294034600257874,\n",
       "  0.8292703032493591,\n",
       "  0.8277090787887573,\n",
       "  0.8245693445205688,\n",
       "  0.8214535117149353,\n",
       "  0.8179023265838623,\n",
       "  0.8203969597816467,\n",
       "  0.8137068152427673,\n",
       "  0.8196056485176086,\n",
       "  0.8221308588981628,\n",
       "  0.8208091259002686,\n",
       "  0.8087764382362366,\n",
       "  0.8063618540763855,\n",
       "  0.7969021797180176,\n",
       "  0.8005294799804688,\n",
       "  0.8051621317863464,\n",
       "  0.8064302802085876,\n",
       "  0.804777204990387,\n",
       "  0.796919584274292,\n",
       "  0.797393262386322,\n",
       "  0.7927513718605042,\n",
       "  0.7991475462913513,\n",
       "  0.7963412404060364,\n",
       "  0.7918059825897217,\n",
       "  0.7912118434906006,\n",
       "  0.7867454290390015,\n",
       "  0.7926578521728516,\n",
       "  0.793728768825531,\n",
       "  0.7971881031990051,\n",
       "  0.797871470451355,\n",
       "  0.79184490442276,\n",
       "  0.7892577648162842,\n",
       "  0.794888436794281,\n",
       "  0.8027517795562744,\n",
       "  0.802392303943634,\n",
       "  0.8074840307235718],\n",
       " 'val_accuracy': [0.5,\n",
       "  0.5092592835426331,\n",
       "  0.4722222089767456,\n",
       "  0.45370370149612427,\n",
       "  0.45370370149612427,\n",
       "  0.48148149251937866,\n",
       "  0.48148149251937866,\n",
       "  0.5185185074806213,\n",
       "  0.5185185074806213,\n",
       "  0.5185185074806213,\n",
       "  0.5555555820465088,\n",
       "  0.5833333134651184,\n",
       "  0.5833333134651184,\n",
       "  0.5370370149612427,\n",
       "  0.5185185074806213,\n",
       "  0.5370370149612427,\n",
       "  0.5370370149612427,\n",
       "  0.5185185074806213,\n",
       "  0.5277777910232544,\n",
       "  0.5370370149612427,\n",
       "  0.5555555820465088,\n",
       "  0.5370370149612427,\n",
       "  0.5185185074806213,\n",
       "  0.5092592835426331,\n",
       "  0.5277777910232544,\n",
       "  0.5462962985038757,\n",
       "  0.5370370149612427,\n",
       "  0.5092592835426331,\n",
       "  0.5370370149612427,\n",
       "  0.5277777910232544,\n",
       "  0.5092592835426331,\n",
       "  0.5092592835426331,\n",
       "  0.5092592835426331,\n",
       "  0.5,\n",
       "  0.49074074625968933,\n",
       "  0.5185185074806213,\n",
       "  0.5555555820465088,\n",
       "  0.5,\n",
       "  0.5648148059844971,\n",
       "  0.5925925970077515,\n",
       "  0.5833333134651184,\n",
       "  0.5833333134651184,\n",
       "  0.5555555820465088,\n",
       "  0.5740740895271301,\n",
       "  0.5925925970077515,\n",
       "  0.5740740895271301,\n",
       "  0.5740740895271301,\n",
       "  0.5740740895271301,\n",
       "  0.5833333134651184,\n",
       "  0.5740740895271301,\n",
       "  0.5740740895271301,\n",
       "  0.5740740895271301,\n",
       "  0.5833333134651184,\n",
       "  0.5740740895271301,\n",
       "  0.5648148059844971,\n",
       "  0.5925925970077515,\n",
       "  0.5740740895271301,\n",
       "  0.5740740895271301,\n",
       "  0.5740740895271301,\n",
       "  0.5648148059844971,\n",
       "  0.5740740895271301,\n",
       "  0.5462962985038757,\n",
       "  0.5462962985038757,\n",
       "  0.5462962985038757,\n",
       "  0.5462962985038757,\n",
       "  0.5555555820465088,\n",
       "  0.5370370149612427,\n",
       "  0.5462962985038757,\n",
       "  0.5462962985038757,\n",
       "  0.5462962985038757,\n",
       "  0.5648148059844971,\n",
       "  0.5462962985038757,\n",
       "  0.5648148059844971,\n",
       "  0.5648148059844971,\n",
       "  0.5740740895271301,\n",
       "  0.5648148059844971,\n",
       "  0.5740740895271301,\n",
       "  0.5925925970077515,\n",
       "  0.5648148059844971,\n",
       "  0.5925925970077515,\n",
       "  0.5925925970077515,\n",
       "  0.5925925970077515,\n",
       "  0.5925925970077515,\n",
       "  0.6018518805503845,\n",
       "  0.5925925970077515,\n",
       "  0.5833333134651184,\n",
       "  0.6018518805503845,\n",
       "  0.6018518805503845,\n",
       "  0.6018518805503845,\n",
       "  0.5925925970077515,\n",
       "  0.6018518805503845,\n",
       "  0.6018518805503845,\n",
       "  0.5833333134651184,\n",
       "  0.5833333134651184,\n",
       "  0.5833333134651184,\n",
       "  0.6111111044883728,\n",
       "  0.5925925970077515,\n",
       "  0.5833333134651184,\n",
       "  0.5833333134651184,\n",
       "  0.5740740895271301]}"
      ]
     },
     "execution_count": 242,
     "metadata": {},
     "output_type": "execute_result"
    }
   ],
   "source": [
    "history.history"
   ]
  },
  {
   "cell_type": "code",
   "execution_count": 243,
   "metadata": {
    "colab": {
     "base_uri": "https://localhost:8080/",
     "height": 590
    },
    "colab_type": "code",
    "executionInfo": {
     "elapsed": 15780,
     "status": "ok",
     "timestamp": 1571065655386,
     "user": {
      "displayName": "ai school",
      "photoUrl": "",
      "userId": "08125262134229048618"
     },
     "user_tz": -120
    },
    "id": "9gdoKXJbzOyo",
    "outputId": "5187fae5-aa68-43c9-f7d6-a9c2c1bb2ca2"
   },
   "outputs": [
    {
     "name": "stdout",
     "output_type": "stream",
     "text": [
      "dict_keys(['loss', 'accuracy', 'val_loss', 'val_accuracy'])\n"
     ]
    },
    {
     "data": {
      "image/png": "[encoded data removed]",
      "text/plain": [
       "<Figure size 432x288 with 1 Axes>"
      ]
     },
     "metadata": {
      "needs_background": "light"
     },
     "output_type": "display_data"
    },
    {
     "data": {
      "image/png": "[encoded data removed]",
      "text/plain": [
       "<Figure size 432x288 with 1 Axes>"
      ]
     },
     "metadata": {
      "needs_background": "light"
     },
     "output_type": "display_data"
    }
   ],
   "source": [
    "import matplotlib.pyplot as plt\n",
    "\n",
    "%matplotlib inline\n",
    "\n",
    "# list all data in history\n",
    "print(history.history.keys())\n",
    "# summarize history for accuracy\n",
    "plt.plot(history.history['accuracy'])\n",
    "plt.plot(history.history['val_accuracy'])\n",
    "plt.title('model accuracy')\n",
    "plt.ylabel('accuracy')\n",
    "plt.xlabel('epoch')\n",
    "plt.legend(['train', 'val'], loc='upper left')\n",
    "plt.show()\n",
    "# summarize history for loss\n",
    "plt.plot(history.history['loss'])\n",
    "plt.plot(history.history['val_loss'])\n",
    "plt.title('model loss')\n",
    "plt.ylabel('loss')\n",
    "plt.xlabel('epoch')\n",
    "plt.legend(['train', 'val'], loc='upper left')\n",
    "plt.show()"
   ]
  },
  {
   "cell_type": "code",
   "execution_count": null,
   "metadata": {
    "colab": {},
    "colab_type": "code",
    "id": "YqeMSesLzOys"
   },
   "outputs": [],
   "source": []
  },
  {
   "cell_type": "code",
   "execution_count": null,
   "metadata": {},
   "outputs": [],
   "source": []
  },
  {
   "cell_type": "code",
   "execution_count": null,
   "metadata": {},
   "outputs": [],
   "source": []
  },
  {
   "cell_type": "code",
   "execution_count": null,
   "metadata": {},
   "outputs": [],
   "source": []
  }
 ],
 "metadata": {
  "colab": {
   "name": "Keras_MLP.ipynb",
   "provenance": [],
   "toc_visible": true
  },
  "kernelspec": {
   "display_name": "Python 3 (ipykernel)",
   "language": "python",
   "name": "python3"
  },
  "language_info": {
   "codemirror_mode": {
    "name": "ipython",
    "version": 3
   },
   "file_extension": ".py",
   "mimetype": "text/x-python",
   "name": "python",
   "nbconvert_exporter": "python",
   "pygments_lexer": "ipython3",
   "version": "3.8.8"
  }
 },
 "nbformat": 4,
 "nbformat_minor": 1
}
