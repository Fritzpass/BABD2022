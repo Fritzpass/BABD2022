{
 "cells": [
  {
   "cell_type": "code",
   "execution_count": 1,
   "metadata": {
    "colab": {
     "base_uri": "https://localhost:8080/",
     "height": 35
    },
    "colab_type": "code",
    "executionInfo": {
     "elapsed": 2711,
     "status": "ok",
     "timestamp": 1553622293735,
     "user": {
      "displayName": "Claudia Volpetti",
      "photoUrl": "https://lh4.googleusercontent.com/-nNRnd7XMX-I/AAAAAAAAAAI/AAAAAAAAAlM/V4hmQiyaZ3M/s64/photo.jpg",
      "userId": "06023719902443184902"
     },
     "user_tz": -60
    },
    "id": "vx8UySZPcl9Y",
    "outputId": "b3e6983f-6765-413e-fa9c-0012add2d30c"
   },
   "outputs": [
    {
     "name": "stdout",
     "output_type": "stream",
     "text": [
      "2.4.1\n"
     ]
    }
   ],
   "source": [
    "#IMPORT FASHION MINST DATASET BY ZALANDO https://github.com/zalandoresearch/fashion-mnist\n",
    "import tensorflow as tf\n",
    "print(tf.__version__)\n",
    "\n",
    "mnist = tf.keras.datasets.fashion_mnist\n",
    "\n",
    "(training_images, training_labels), (test_images, test_labels) = mnist.load_data()"
   ]
  },
  {
   "cell_type": "code",
   "execution_count": 84,
   "metadata": {
    "colab": {
     "base_uri": "https://localhost:8080/",
     "height": 1335
    },
    "colab_type": "code",
    "executionInfo": {
     "elapsed": 2997,
     "status": "ok",
     "timestamp": 1553622294035,
     "user": {
      "displayName": "Claudia Volpetti",
      "photoUrl": "https://lh4.googleusercontent.com/-nNRnd7XMX-I/AAAAAAAAAAI/AAAAAAAAAlM/V4hmQiyaZ3M/s64/photo.jpg",
      "userId": "06023719902443184902"
     },
     "user_tz": -60
    },
    "id": "zeUf6r5ucuXX",
    "outputId": "d0af6fc2-e9e6-487d-c8fa-a0152fa57c29",
    "scrolled": false
   },
   "outputs": [
    {
     "name": "stdout",
     "output_type": "stream",
     "text": [
      "[[  0   0   0   0   0   0   0  11 142 200 106   0   0   0   0   0   0   0\n",
      "   85 185 112   0   0   0   0   0   0   0]\n",
      " [  0   0   0   0   0   0 152 214 217 194 236 216 187 149 135 153 211 217\n",
      "  231 205 217 188  34   0   0   0   0   0]\n",
      " [  0   0   0   0   0  66 185 166 180 181 190 211 221 197 146 198 206 191\n",
      "  168 190 172 188 175   0   0   0   0   0]\n",
      " [  0   0   0   0   0 135 153 160 175 180 170 186 187 190 188 190 187 174\n",
      "  195 185 174 161 175  59   0   0   0   0]\n",
      " [  0   0   0   0   0 161 147 160 170 178 177 180 168 173 174 171 185 184\n",
      "  185 172 171 164 174 120   0   0   0   0]\n",
      " [  0   0   0   0   2 175 146 145 168 178 181 185 180 184 178 179 187 191\n",
      "  193 190 181 171 172 158   0   0   0   0]\n",
      " [  0   0   0   0  35 177 155 140 151 172 191 187 186 187 186 187 182 191\n",
      "  194 188 180 161 161 185   0   0   0   0]\n",
      " [  0   0   0   0  59 170 153 141 120 154 160 161 172 168 166 161 165 172\n",
      "  170 164 139 149 162 166  21   0   0   0]\n",
      " [  0   0   0   0  79 145 160 214 123 128 153 160 164 158 157 154 155 170\n",
      "  165 141 195 193 152 166  61   0   0   0]\n",
      " [  0   0   0   0 100 157 225 245 175 113 174 158 158 160 155 160 164 178\n",
      "  188 135 185 240 201 172 108   0   0   0]\n",
      " [  0   0   0   0   0  31 174  28 126 153 166 152 158 158 160 161 157 168\n",
      "  191 188  18 132 159   7   0   0   0   0]\n",
      " [  0   0   0   0   0   0   0   0  82 187 159 153 157 158 162 164 164 154\n",
      "  187 190   0   0   0   0   0   0   0   0]\n",
      " [  0   0   0   0   1   3   5   0  37 175 158 155 162 158 160 162 165 153\n",
      "  177 205   0   0   3   3   0   0   0   0]\n",
      " [  0   0   0   0   0   0   1   0  25 175 152 160 158 161 160 164 164 161\n",
      "  166 200   0   0   1   0   0   0   0   0]\n",
      " [  0   0   0   0   0   0   4   0  30 171 147 164 155 165 161 165 162 170\n",
      "  164 162   0   0   2   0   0   0   0   0]\n",
      " [  0   0   0   0   0   0   4   0  57 166 155 164 166 161 161 164 167 165\n",
      "  165 162  28   0   3   0   0   0   0   0]\n",
      " [  0   0   0   0   0   0   3   0 114 161 161 166 159 168 161 161 172 162\n",
      "  165 171  50   0   5   0   0   0   0   0]\n",
      " [  0   0   0   0   0   0   1   0 149 157 167 172 159 172 164 161 172 170\n",
      "  160 171  89   0   4   0   0   0   0   0]\n",
      " [  0   0   0   0   0   2   0   4 171 164 166 173 159 179 166 160 174 167\n",
      "  162 166 128   0   2   0   0   0   0   0]\n",
      " [  0   0   0   0   0   3   0  18 152 173 160 179 154 181 166 164 175 170\n",
      "  166 170 164   0   0   1   0   0   0   0]\n",
      " [  0   0   0   0   0   4   0  47 165 172 167 185 153 187 173 165 174 179\n",
      "  166 166 158   5   0   3   0   0   0   0]\n",
      " [  0   0   0   0   0   4   0  87 180 162 179 179 157 191 182 165 168 190\n",
      "  173 165 166  20   0   4   0   0   0   0]\n",
      " [  0   0   0   0   0   4   0 105 187 157 194 175 161 190 184 170 158 205\n",
      "  177 168 171  44   0   4   0   0   0   0]\n",
      " [  0   0   0   0   0   5   0 138 181 158 205 160 167 190 198 167 152 218\n",
      "  186 170 172  57   0   5   0   0   0   0]\n",
      " [  0   0   0   0   0   5   0 135 174 167 199 155 166 201 219 165 158 218\n",
      "  188 167 175  56   0   7   0   0   0   0]\n",
      " [  0   0   0   0   0   5   0 129 171 172 177 153 159 206 216 148 157 206\n",
      "  190 165 175  48   0   5   0   0   0   0]\n",
      " [  0   0   0   0   0   5   0 167 187 182 198 194 200 226 240 184 206 255\n",
      "  197 178 179  42   0   5   0   0   0   0]\n",
      " [  0   0   0   0   0   3   0 115 135 113 106  85  82 108 133  83  90 121\n",
      "  120 110 158  18   0   3   0   0   0   0]]\n",
      "Label: 0\n"
     ]
    }
   ],
   "source": [
    "import matplotlib.pyplot as plt\n",
    "\n",
    "i=10\n",
    "print(training_images[i]) #SHOW THE FIRST IMAGE \n",
    "print(\"Label: \"+ str(training_labels[i])) #SHOW THE LABEL OF THE FIRST IMAGE "
   ]
  },
  {
   "cell_type": "markdown",
   "metadata": {},
   "source": [
    "Label | Description \n",
    "--- | --- |\n",
    "0 |\tT-shirt/top\n",
    "1 |\tTrouser\n",
    "2 |\tPullover\n",
    "3 |\tDress\n",
    "4 |\tCoat\n",
    "5 |\tSandal\n",
    "6 |\tShirt\n",
    "7 |\tSneaker\n",
    "8 |\tBag\n",
    "9 |\tAnkle boot"
   ]
  },
  {
   "cell_type": "code",
   "execution_count": 85,
   "metadata": {
    "scrolled": false
   },
   "outputs": [
    {
     "data": {
      "text/plain": [
       "<matplotlib.image.AxesImage at 0x7f54a97a8b80>"
      ]
     },
     "execution_count": 85,
     "metadata": {},
     "output_type": "execute_result"
    },
    {
     "data": {
      "image/png": "[encoded data removed]",
      "text/plain": [
       "<Figure size 432x288 with 1 Axes>"
      ]
     },
     "metadata": {
      "needs_background": "light"
     },
     "output_type": "display_data"
    }
   ],
   "source": [
    "plt.imshow(training_images[i], cmap='gray') #SHOW THE FIRST IMAGE "
   ]
  },
  {
   "cell_type": "code",
   "execution_count": 66,
   "metadata": {
    "colab": {
     "base_uri": "https://localhost:8080/",
     "height": 297
    },
    "colab_type": "code",
    "executionInfo": {
     "elapsed": 35029,
     "status": "ok",
     "timestamp": 1553622326089,
     "user": {
      "displayName": "Claudia Volpetti",
      "photoUrl": "https://lh4.googleusercontent.com/-nNRnd7XMX-I/AAAAAAAAAAI/AAAAAAAAAlM/V4hmQiyaZ3M/s64/photo.jpg",
      "userId": "06023719902443184902"
     },
     "user_tz": -60
    },
    "id": "179P3IHCczaj",
    "outputId": "5688ecff-6e4d-4dd7-be16-0044bd566e0d"
   },
   "outputs": [
    {
     "name": "stdout",
     "output_type": "stream",
     "text": [
      "Epoch 1/5\n",
      "1875/1875 [==============================] - 10s 5ms/step - loss: 0.6505 - accuracy: 0.7748\n",
      "Epoch 2/5\n",
      "1875/1875 [==============================] - 17s 9ms/step - loss: 0.4198 - accuracy: 0.8507\n",
      "Epoch 3/5\n",
      "1875/1875 [==============================] - 16s 9ms/step - loss: 0.4087 - accuracy: 0.8533\n",
      "Epoch 4/5\n",
      "1875/1875 [==============================] - 15s 8ms/step - loss: 0.4001 - accuracy: 0.8579\n",
      "Epoch 5/5\n",
      "1875/1875 [==============================] - 13s 7ms/step - loss: 0.3939 - accuracy: 0.8599\n",
      "313/313 [==============================] - 3s 8ms/step - loss: 0.4520 - accuracy: 0.8437\n"
     ]
    },
    {
     "data": {
      "text/plain": [
       "[0.45196500420570374, 0.8436999917030334]"
      ]
     },
     "execution_count": 66,
     "metadata": {},
     "output_type": "execute_result"
    }
   ],
   "source": [
    "training_images  = training_images / 255.0\n",
    "test_images = test_images / 255.0\n",
    "\n",
    "model = tf.keras.models.Sequential([tf.keras.layers.Flatten(), \n",
    "                                    tf.keras.layers.Dense(128, activation=tf.nn.relu), \n",
    "                                    tf.keras.layers.Dense(10, activation=tf.nn.softmax)])\n",
    "\n",
    "opt = tf.keras.optimizers.Adam(learning_rate=0.01)\n",
    "\n",
    "model.compile(optimizer = opt,\n",
    "              loss = 'sparse_categorical_crossentropy',\n",
    "              metrics=['accuracy'])\n",
    "\n",
    "model.fit(training_images, training_labels, epochs=5)\n",
    "\n",
    "model.evaluate(test_images, test_labels)"
   ]
  },
  {
   "cell_type": "code",
   "execution_count": 67,
   "metadata": {
    "colab": {
     "base_uri": "https://localhost:8080/",
     "height": 277
    },
    "colab_type": "code",
    "executionInfo": {
     "elapsed": 80696,
     "status": "ok",
     "timestamp": 1553622371783,
     "user": {
      "displayName": "Claudia Volpetti",
      "photoUrl": "https://lh4.googleusercontent.com/-nNRnd7XMX-I/AAAAAAAAAAI/AAAAAAAAAlM/V4hmQiyaZ3M/s64/photo.jpg",
      "userId": "06023719902443184902"
     },
     "user_tz": -60
    },
    "id": "aKAVJJuBdkms",
    "outputId": "14082ca5-8da4-4c7d-ee98-0767fd2856dd"
   },
   "outputs": [
    {
     "name": "stdout",
     "output_type": "stream",
     "text": [
      "2.4.1\n",
      "Epoch 1/5\n",
      "1875/1875 [==============================] - 25s 13ms/step - loss: 0.5804\n",
      "Epoch 2/5\n",
      "1875/1875 [==============================] - 22s 12ms/step - loss: 0.3647\n",
      "Epoch 3/5\n",
      "1875/1875 [==============================] - 38s 21ms/step - loss: 0.3220\n",
      "Epoch 4/5\n",
      "1875/1875 [==============================] - 31s 16ms/step - loss: 0.2958\n",
      "Epoch 5/5\n",
      "1875/1875 [==============================] - 33s 17ms/step - loss: 0.2774\n",
      "313/313 [==============================] - 3s 8ms/step - loss: 0.3298\n",
      "[2.2435361e-07 1.1787044e-08 6.7672206e-09 1.4264665e-08 1.5511075e-08\n",
      " 2.8604746e-03 1.7752164e-07 5.9021648e-02 1.7014898e-08 9.3811750e-01]\n",
      "9\n"
     ]
    }
   ],
   "source": [
    "#EXERCISE ADD MORE NEURONS\n",
    "import tensorflow as tf\n",
    "print(tf.__version__)\n",
    "\n",
    "#mnist = tf.keras.datasets.mnist\n",
    "\n",
    "(training_images, training_labels) ,  (test_images, test_labels) = mnist.load_data()\n",
    "\n",
    "training_images = training_images/255.0\n",
    "test_images = test_images/255.0\n",
    "\n",
    "model = tf.keras.models.Sequential([tf.keras.layers.Flatten(),\n",
    "                                    tf.keras.layers.Dense(1024, activation=tf.nn.relu),\n",
    "                                    tf.keras.layers.Dense(10, activation=tf.nn.softmax)])\n",
    "\n",
    "model.compile(optimizer = 'adam',\n",
    "              loss = 'sparse_categorical_crossentropy')\n",
    "\n",
    "model.fit(training_images, training_labels, epochs=5)\n",
    "\n",
    "model.evaluate(test_images, test_labels)\n",
    "\n",
    "classifications = model.predict(test_images)\n",
    "\n",
    "print(classifications[0])\n",
    "print(test_labels[0])"
   ]
  },
  {
   "cell_type": "code",
   "execution_count": 99,
   "metadata": {},
   "outputs": [
    {
     "name": "stdout",
     "output_type": "stream",
     "text": [
      "[[2.2435361e-07 1.1787044e-08 6.7672206e-09 1.4264665e-08 1.5511075e-08\n",
      "  2.8604746e-03 1.7752164e-07 5.9021648e-02 1.7014898e-08 9.3811750e-01]\n",
      " [3.8186387e-05 2.7063223e-13 9.9889368e-01 3.3847134e-09 2.3625587e-04\n",
      "  1.7962334e-13 8.3184941e-04 1.0796816e-17 6.0327077e-09 1.7435752e-12]\n",
      " [1.4078628e-09 1.0000000e+00 3.1903271e-12 1.8469509e-09 5.2757398e-10\n",
      "  3.1955076e-17 5.5672543e-11 6.9162684e-22 5.4938514e-13 2.1081515e-15]\n",
      " [1.2504905e-10 9.9999976e-01 1.7323815e-12 2.0143516e-07 7.0364897e-10\n",
      "  2.0000865e-17 3.2356149e-11 9.6910493e-21 5.3943352e-13 8.7181951e-16]\n",
      " [2.1573886e-01 6.4340429e-06 3.3594318e-02 2.9234807e-03 5.4550655e-03\n",
      "  3.3736938e-05 7.4146664e-01 6.1982821e-05 7.1138208e-04 8.1939806e-06]]\n"
     ]
    }
   ],
   "source": [
    "print(classifications[0:5])"
   ]
  },
  {
   "cell_type": "code",
   "execution_count": 98,
   "metadata": {},
   "outputs": [
    {
     "data": {
      "image/png": "[encoded data removed]",
      "text/plain": [
       "<Figure size 432x288 with 1 Axes>"
      ]
     },
     "metadata": {
      "needs_background": "light"
     },
     "output_type": "display_data"
    },
    {
     "name": "stdout",
     "output_type": "stream",
     "text": [
      "[9 2 1 1 6 1 4 6 5 7]\n"
     ]
    }
   ],
   "source": [
    "import matplotlib.pyplot as plt\n",
    "import numpy as np\n",
    "\n",
    "plt.imshow(classifications[0:20], cmap='gray', interpolation='nearest')\n",
    "plt.show()\n",
    "\n",
    "predictions=classifications.argmax(axis=1)\n",
    "print(predictions[:10])"
   ]
  },
  {
   "cell_type": "code",
   "execution_count": 92,
   "metadata": {},
   "outputs": [
    {
     "data": {
      "image/png": "[encoded data removed]",
      "text/plain": [
       "<Figure size 432x288 with 2 Axes>"
      ]
     },
     "metadata": {
      "needs_background": "light"
     },
     "output_type": "display_data"
    }
   ],
   "source": [
    "from sklearn.metrics import confusion_matrix\n",
    "import seaborn as sn\n",
    "import pandas as pd\n",
    "\n",
    "plt.imshow(confusion_matrix(test_labels, predictions), cmap='gray', interpolation='nearest')\n",
    "\n",
    "\n",
    "#df = pd.DataFrame(data, columns=['y_Actual','y_Predicted'])\n",
    "confusion_matrix = pd.crosstab(test_labels, predictions, rownames=['Actual'], colnames=['Predicted'])\n",
    "\n",
    "sn.heatmap(confusion_matrix, annot=True,fmt='g',cmap=\"Blues\")\n",
    "plt.show()\n",
    "\n"
   ]
  }
 ],
 "metadata": {
  "accelerator": "GPU",
  "colab": {
   "collapsed_sections": [],
   "name": "BABD_FashionIMAGES_1.ipynb",
   "provenance": [],
   "version": "0.3.2"
  },
  "kernelspec": {
   "display_name": "Python 3 (ipykernel)",
   "language": "python",
   "name": "python3"
  },
  "language_info": {
   "codemirror_mode": {
    "name": "ipython",
    "version": 3
   },
   "file_extension": ".py",
   "mimetype": "text/x-python",
   "name": "python",
   "nbconvert_exporter": "python",
   "pygments_lexer": "ipython3",
   "version": "3.8.8"
  }
 },
 "nbformat": 4,
 "nbformat_minor": 1
}
