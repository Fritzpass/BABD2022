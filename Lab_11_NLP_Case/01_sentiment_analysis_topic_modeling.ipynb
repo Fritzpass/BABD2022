{
  "cells": [
    {
      "cell_type": "markdown",
      "metadata": {
        "_cell_guid": "b1076dfc-b9ad-4769-8c92-a6c4dae69d19",
        "_uuid": "8f2839f25d086af736a60e9eeb907d3b93b6e0e5",
        "execution": {
          "iopub.execute_input": "2021-10-08T12:58:11.812902Z",
          "iopub.status.busy": "2021-10-08T12:58:11.812144Z",
          "iopub.status.idle": "2021-10-08T12:58:11.829075Z",
          "shell.execute_reply": "2021-10-08T12:58:11.828148Z",
          "shell.execute_reply.started": "2021-10-08T12:58:11.812847Z"
        },
        "id": "BMum3SC256bz"
      },
      "source": [
        "# Twitter Sentiment Analysis and Topic modeling"
      ]
    },
    {
      "cell_type": "code",
      "source": [
        "!pip install lime\n",
        "!pip install tensorflow"
      ],
      "metadata": {
        "colab": {
          "base_uri": "https://localhost:8080/"
        },
        "id": "82iYSbAn6X1B",
        "outputId": "400ed417-19bc-471c-d64c-f854d630510c"
      },
      "execution_count": 3,
      "outputs": [
        {
          "output_type": "stream",
          "name": "stdout",
          "text": [
            "Requirement already satisfied: lime in /usr/local/lib/python3.7/dist-packages (0.2.0.1)\n",
            "Requirement already satisfied: scikit-image>=0.12 in /usr/local/lib/python3.7/dist-packages (from lime) (0.18.3)\n",
            "Requirement already satisfied: numpy in /usr/local/lib/python3.7/dist-packages (from lime) (1.21.5)\n",
            "Requirement already satisfied: tqdm in /usr/local/lib/python3.7/dist-packages (from lime) (4.63.0)\n",
            "Requirement already satisfied: matplotlib in /usr/local/lib/python3.7/dist-packages (from lime) (3.2.2)\n",
            "Requirement already satisfied: scipy in /usr/local/lib/python3.7/dist-packages (from lime) (1.4.1)\n",
            "Requirement already satisfied: scikit-learn>=0.18 in /usr/local/lib/python3.7/dist-packages (from lime) (1.0.2)\n",
            "Requirement already satisfied: tifffile>=2019.7.26 in /usr/local/lib/python3.7/dist-packages (from scikit-image>=0.12->lime) (2021.11.2)\n",
            "Requirement already satisfied: pillow!=7.1.0,!=7.1.1,>=4.3.0 in /usr/local/lib/python3.7/dist-packages (from scikit-image>=0.12->lime) (7.1.2)\n",
            "Requirement already satisfied: networkx>=2.0 in /usr/local/lib/python3.7/dist-packages (from scikit-image>=0.12->lime) (2.6.3)\n",
            "Requirement already satisfied: PyWavelets>=1.1.1 in /usr/local/lib/python3.7/dist-packages (from scikit-image>=0.12->lime) (1.2.0)\n",
            "Requirement already satisfied: imageio>=2.3.0 in /usr/local/lib/python3.7/dist-packages (from scikit-image>=0.12->lime) (2.4.1)\n",
            "Requirement already satisfied: kiwisolver>=1.0.1 in /usr/local/lib/python3.7/dist-packages (from matplotlib->lime) (1.3.2)\n",
            "Requirement already satisfied: python-dateutil>=2.1 in /usr/local/lib/python3.7/dist-packages (from matplotlib->lime) (2.8.2)\n",
            "Requirement already satisfied: pyparsing!=2.0.4,!=2.1.2,!=2.1.6,>=2.0.1 in /usr/local/lib/python3.7/dist-packages (from matplotlib->lime) (3.0.7)\n",
            "Requirement already satisfied: cycler>=0.10 in /usr/local/lib/python3.7/dist-packages (from matplotlib->lime) (0.11.0)\n",
            "Requirement already satisfied: six>=1.5 in /usr/local/lib/python3.7/dist-packages (from python-dateutil>=2.1->matplotlib->lime) (1.15.0)\n",
            "Requirement already satisfied: joblib>=0.11 in /usr/local/lib/python3.7/dist-packages (from scikit-learn>=0.18->lime) (1.1.0)\n",
            "Requirement already satisfied: threadpoolctl>=2.0.0 in /usr/local/lib/python3.7/dist-packages (from scikit-learn>=0.18->lime) (3.1.0)\n",
            "Requirement already satisfied: tensorflow in /usr/local/lib/python3.7/dist-packages (2.8.0)\n",
            "Requirement already satisfied: gast>=0.2.1 in /usr/local/lib/python3.7/dist-packages (from tensorflow) (0.5.3)\n",
            "Requirement already satisfied: keras<2.9,>=2.8.0rc0 in /usr/local/lib/python3.7/dist-packages (from tensorflow) (2.8.0)\n",
            "Requirement already satisfied: tensorboard<2.9,>=2.8 in /usr/local/lib/python3.7/dist-packages (from tensorflow) (2.8.0)\n",
            "Requirement already satisfied: numpy>=1.20 in /usr/local/lib/python3.7/dist-packages (from tensorflow) (1.21.5)\n",
            "Requirement already satisfied: h5py>=2.9.0 in /usr/local/lib/python3.7/dist-packages (from tensorflow) (3.1.0)\n",
            "Requirement already satisfied: absl-py>=0.4.0 in /usr/local/lib/python3.7/dist-packages (from tensorflow) (1.0.0)\n",
            "Requirement already satisfied: keras-preprocessing>=1.1.1 in /usr/local/lib/python3.7/dist-packages (from tensorflow) (1.1.2)\n",
            "Requirement already satisfied: termcolor>=1.1.0 in /usr/local/lib/python3.7/dist-packages (from tensorflow) (1.1.0)\n",
            "Requirement already satisfied: flatbuffers>=1.12 in /usr/local/lib/python3.7/dist-packages (from tensorflow) (2.0)\n",
            "Requirement already satisfied: google-pasta>=0.1.1 in /usr/local/lib/python3.7/dist-packages (from tensorflow) (0.2.0)\n",
            "Requirement already satisfied: protobuf>=3.9.2 in /usr/local/lib/python3.7/dist-packages (from tensorflow) (3.17.3)\n",
            "Requirement already satisfied: six>=1.12.0 in /usr/local/lib/python3.7/dist-packages (from tensorflow) (1.15.0)\n",
            "Requirement already satisfied: astunparse>=1.6.0 in /usr/local/lib/python3.7/dist-packages (from tensorflow) (1.6.3)\n",
            "Requirement already satisfied: grpcio<2.0,>=1.24.3 in /usr/local/lib/python3.7/dist-packages (from tensorflow) (1.44.0)\n",
            "Requirement already satisfied: tf-estimator-nightly==2.8.0.dev2021122109 in /usr/local/lib/python3.7/dist-packages (from tensorflow) (2.8.0.dev2021122109)\n",
            "Requirement already satisfied: libclang>=9.0.1 in /usr/local/lib/python3.7/dist-packages (from tensorflow) (13.0.0)\n",
            "Requirement already satisfied: tensorflow-io-gcs-filesystem>=0.23.1 in /usr/local/lib/python3.7/dist-packages (from tensorflow) (0.24.0)\n",
            "Requirement already satisfied: setuptools in /usr/local/lib/python3.7/dist-packages (from tensorflow) (57.4.0)\n",
            "Requirement already satisfied: opt-einsum>=2.3.2 in /usr/local/lib/python3.7/dist-packages (from tensorflow) (3.3.0)\n",
            "Requirement already satisfied: wrapt>=1.11.0 in /usr/local/lib/python3.7/dist-packages (from tensorflow) (1.13.3)\n",
            "Requirement already satisfied: typing-extensions>=3.6.6 in /usr/local/lib/python3.7/dist-packages (from tensorflow) (3.10.0.2)\n",
            "Requirement already satisfied: wheel<1.0,>=0.23.0 in /usr/local/lib/python3.7/dist-packages (from astunparse>=1.6.0->tensorflow) (0.37.1)\n",
            "Requirement already satisfied: cached-property in /usr/local/lib/python3.7/dist-packages (from h5py>=2.9.0->tensorflow) (1.5.2)\n",
            "Requirement already satisfied: markdown>=2.6.8 in /usr/local/lib/python3.7/dist-packages (from tensorboard<2.9,>=2.8->tensorflow) (3.3.6)\n",
            "Requirement already satisfied: tensorboard-data-server<0.7.0,>=0.6.0 in /usr/local/lib/python3.7/dist-packages (from tensorboard<2.9,>=2.8->tensorflow) (0.6.1)\n",
            "Requirement already satisfied: werkzeug>=0.11.15 in /usr/local/lib/python3.7/dist-packages (from tensorboard<2.9,>=2.8->tensorflow) (1.0.1)\n",
            "Requirement already satisfied: requests<3,>=2.21.0 in /usr/local/lib/python3.7/dist-packages (from tensorboard<2.9,>=2.8->tensorflow) (2.23.0)\n",
            "Requirement already satisfied: tensorboard-plugin-wit>=1.6.0 in /usr/local/lib/python3.7/dist-packages (from tensorboard<2.9,>=2.8->tensorflow) (1.8.1)\n",
            "Requirement already satisfied: google-auth-oauthlib<0.5,>=0.4.1 in /usr/local/lib/python3.7/dist-packages (from tensorboard<2.9,>=2.8->tensorflow) (0.4.6)\n",
            "Requirement already satisfied: google-auth<3,>=1.6.3 in /usr/local/lib/python3.7/dist-packages (from tensorboard<2.9,>=2.8->tensorflow) (1.35.0)\n",
            "Requirement already satisfied: pyasn1-modules>=0.2.1 in /usr/local/lib/python3.7/dist-packages (from google-auth<3,>=1.6.3->tensorboard<2.9,>=2.8->tensorflow) (0.2.8)\n",
            "Requirement already satisfied: rsa<5,>=3.1.4 in /usr/local/lib/python3.7/dist-packages (from google-auth<3,>=1.6.3->tensorboard<2.9,>=2.8->tensorflow) (4.8)\n",
            "Requirement already satisfied: cachetools<5.0,>=2.0.0 in /usr/local/lib/python3.7/dist-packages (from google-auth<3,>=1.6.3->tensorboard<2.9,>=2.8->tensorflow) (4.2.4)\n",
            "Requirement already satisfied: requests-oauthlib>=0.7.0 in /usr/local/lib/python3.7/dist-packages (from google-auth-oauthlib<0.5,>=0.4.1->tensorboard<2.9,>=2.8->tensorflow) (1.3.1)\n",
            "Requirement already satisfied: importlib-metadata>=4.4 in /usr/local/lib/python3.7/dist-packages (from markdown>=2.6.8->tensorboard<2.9,>=2.8->tensorflow) (4.11.2)\n",
            "Requirement already satisfied: zipp>=0.5 in /usr/local/lib/python3.7/dist-packages (from importlib-metadata>=4.4->markdown>=2.6.8->tensorboard<2.9,>=2.8->tensorflow) (3.7.0)\n",
            "Requirement already satisfied: pyasn1<0.5.0,>=0.4.6 in /usr/local/lib/python3.7/dist-packages (from pyasn1-modules>=0.2.1->google-auth<3,>=1.6.3->tensorboard<2.9,>=2.8->tensorflow) (0.4.8)\n",
            "Requirement already satisfied: idna<3,>=2.5 in /usr/local/lib/python3.7/dist-packages (from requests<3,>=2.21.0->tensorboard<2.9,>=2.8->tensorflow) (2.10)\n",
            "Requirement already satisfied: urllib3!=1.25.0,!=1.25.1,<1.26,>=1.21.1 in /usr/local/lib/python3.7/dist-packages (from requests<3,>=2.21.0->tensorboard<2.9,>=2.8->tensorflow) (1.24.3)\n",
            "Requirement already satisfied: certifi>=2017.4.17 in /usr/local/lib/python3.7/dist-packages (from requests<3,>=2.21.0->tensorboard<2.9,>=2.8->tensorflow) (2021.10.8)\n",
            "Requirement already satisfied: chardet<4,>=3.0.2 in /usr/local/lib/python3.7/dist-packages (from requests<3,>=2.21.0->tensorboard<2.9,>=2.8->tensorflow) (3.0.4)\n",
            "Requirement already satisfied: oauthlib>=3.0.0 in /usr/local/lib/python3.7/dist-packages (from requests-oauthlib>=0.7.0->google-auth-oauthlib<0.5,>=0.4.1->tensorboard<2.9,>=2.8->tensorflow) (3.2.0)\n"
          ]
        }
      ]
    },
    {
      "cell_type": "code",
      "execution_count": 4,
      "metadata": {
        "execution": {
          "iopub.execute_input": "2022-01-06T07:19:23.689094Z",
          "iopub.status.busy": "2022-01-06T07:19:23.688808Z",
          "iopub.status.idle": "2022-01-06T07:19:29.655528Z",
          "shell.execute_reply": "2022-01-06T07:19:29.654784Z",
          "shell.execute_reply.started": "2022-01-06T07:19:23.689021Z"
        },
        "trusted": true,
        "colab": {
          "base_uri": "https://localhost:8080/"
        },
        "id": "h9c0aSuT56cG",
        "outputId": "431046bc-6164-4bd2-e776-13a60c706602"
      },
      "outputs": [
        {
          "output_type": "stream",
          "name": "stdout",
          "text": [
            "[nltk_data] Downloading package punkt to /root/nltk_data...\n",
            "[nltk_data]   Package punkt is already up-to-date!\n",
            "[nltk_data] Downloading package stopwords to /root/nltk_data...\n",
            "[nltk_data]   Package stopwords is already up-to-date!\n"
          ]
        }
      ],
      "source": [
        "# importing libraries\n",
        "\n",
        "import pandas as pd\n",
        "import seaborn as sns\n",
        "sns.color_palette(\"viridis\", as_cmap=True)\n",
        "import numpy as np\n",
        "\n",
        "import re, nltk\n",
        "import string\n",
        "from nltk.corpus import stopwords\n",
        "nltk.download('punkt')\n",
        "nltk.download('stopwords')\n",
        "\n",
        "import matplotlib.pyplot as plt\n",
        "#plt.style.use('fivethirtyeight')\n",
        "#plt.style.use('dark_background')\n",
        "\n",
        "from sklearn import model_selection, naive_bayes, svm\n",
        "from sklearn.model_selection import train_test_split, StratifiedKFold, cross_val_score, GridSearchCV\n",
        "from sklearn.metrics import classification_report\n",
        "from sklearn.metrics import roc_auc_score\n",
        "from sklearn.metrics import recall_score\n",
        "from sklearn.metrics import f1_score\n",
        "from sklearn.metrics import confusion_matrix, accuracy_score\n",
        "from sklearn.metrics import auc\n",
        "from sklearn.metrics import roc_curve\n",
        "from sklearn.feature_extraction.text import CountVectorizer, TfidfVectorizer\n",
        "\n",
        "from sklearn.naive_bayes import MultinomialNB, GaussianNB\n",
        "from sklearn.ensemble import AdaBoostClassifier\n",
        "from sklearn.ensemble import BaggingClassifier\n",
        "from sklearn.ensemble import RandomForestClassifier\n",
        "\n",
        "from tensorflow.keras.layers import Embedding\n",
        "from tensorflow.keras.preprocessing.sequence import pad_sequences\n",
        "from tensorflow.keras.models import Sequential\n",
        "from tensorflow.keras.preprocessing.text import one_hot\n",
        "from tensorflow.keras.layers import LSTM, Bidirectional\n",
        "from tensorflow.keras.layers import Dense, Dropout"
      ]
    },
    {
      "cell_type": "code",
      "execution_count": 5,
      "metadata": {
        "execution": {
          "iopub.execute_input": "2022-01-06T07:19:29.658972Z",
          "iopub.status.busy": "2022-01-06T07:19:29.658775Z",
          "iopub.status.idle": "2022-01-06T07:19:29.800728Z",
          "shell.execute_reply": "2022-01-06T07:19:29.800061Z",
          "shell.execute_reply.started": "2022-01-06T07:19:29.658949Z"
        },
        "trusted": true,
        "colab": {
          "base_uri": "https://localhost:8080/",
          "height": 983
        },
        "id": "Q-59D0Am56cT",
        "outputId": "7ed13586-908b-4303-cf6d-9968358e3e23"
      },
      "outputs": [
        {
          "output_type": "stream",
          "name": "stdout",
          "text": [
            "(14640, 15)\n"
          ]
        },
        {
          "output_type": "execute_result",
          "data": {
            "text/plain": [
              "                 tweet_id airline_sentiment  airline_sentiment_confidence  \\\n",
              "10531  569220920218296320          negative                        1.0000   \n",
              "10734  568929010966765568          negative                        1.0000   \n",
              "9197   570073507465469952          negative                        1.0000   \n",
              "11390  568151138421207040          negative                        1.0000   \n",
              "10872  568809407120855041          negative                        1.0000   \n",
              "7541   569538135916351489          positive                        1.0000   \n",
              "9579   569867947130421249           neutral                        0.6629   \n",
              "11393  568148808993013761          negative                        1.0000   \n",
              "6572   567774100299739138          positive                        1.0000   \n",
              "7524   569543615862722561          positive                        1.0000   \n",
              "\n",
              "               negativereason  negativereason_confidence     airline  \\\n",
              "10531        Cancelled Flight                     1.0000  US Airways   \n",
              "10734  Customer Service Issue                     0.6885  US Airways   \n",
              "9197   Customer Service Issue                     0.6813  US Airways   \n",
              "11390        Cancelled Flight                     1.0000  US Airways   \n",
              "10872             Late Flight                     1.0000  US Airways   \n",
              "7541                      NaN                        NaN       Delta   \n",
              "9579                      NaN                     0.0000  US Airways   \n",
              "11393            Lost Luggage                     0.6635  US Airways   \n",
              "6572                      NaN                        NaN   Southwest   \n",
              "7524                      NaN                        NaN       Delta   \n",
              "\n",
              "      airline_sentiment_gold           name negativereason_gold  \\\n",
              "10531                    NaN       Marci_DZ                 NaN   \n",
              "10734                    NaN    scottsalkin                 NaN   \n",
              "9197                     NaN   worldwideweg                 NaN   \n",
              "11390                    NaN         as4438                 NaN   \n",
              "10872                    NaN  G_Will_Eye_Am                 NaN   \n",
              "7541                     NaN   2littlebirds                 NaN   \n",
              "9579                     NaN      DonIrvine                 NaN   \n",
              "11393                    NaN  tannapistolis                 NaN   \n",
              "6572                     NaN    smckenna719                 NaN   \n",
              "7524                     NaN      KShay1985                 NaN   \n",
              "\n",
              "       retweet_count                                               text  \\\n",
              "10531              0  @USAirways now what? You Cancelled Flightled m...   \n",
              "10734              0  @USAirways your team was just terrifyingly rud...   \n",
              "9197               0  @USAirways - No live person to speak with all ...   \n",
              "11390              0  @USAirways stop Cancelled Flighting flights ov...   \n",
              "10872              0      @USAirways delayed I'm charlotte big surprise   \n",
              "7541               0  “@JetBlue: @2littlebirds Beautiful shot.. Than...   \n",
              "9579               0  @USAirways 4473.  She just called to say it's ...   \n",
              "11393              0  @USAirways What's the point of a baggage claim...   \n",
              "6572               0  @SouthwestAir - just talking to customer servi...   \n",
              "7524               0    @JetBlue thank you. We are finally at the gate.   \n",
              "\n",
              "                        tweet_coord              tweet_created  \\\n",
              "10531                           NaN  2015-02-21 11:43:37 -0800   \n",
              "10734                           NaN  2015-02-20 16:23:41 -0800   \n",
              "9197                            NaN  2015-02-23 20:11:30 -0800   \n",
              "11390                           NaN  2015-02-18 12:52:41 -0800   \n",
              "10872                           NaN  2015-02-20 08:28:25 -0800   \n",
              "7541   [38.69255098, -121.58854512]  2015-02-22 08:44:07 -0800   \n",
              "9579                            NaN  2015-02-23 06:34:40 -0800   \n",
              "11393                           NaN  2015-02-18 12:43:26 -0800   \n",
              "6572                            NaN  2015-02-17 11:54:28 -0800   \n",
              "7524                            NaN  2015-02-22 09:05:54 -0800   \n",
              "\n",
              "                   tweet_location               user_timezone  \n",
              "10531                         NaN  Eastern Time (US & Canada)  \n",
              "10734  San Francisco & Scottsdale  Pacific Time (US & Canada)  \n",
              "9197                          NaN                         NaN  \n",
              "11390                         NaN                         NaN  \n",
              "10872                         NaN                         NaN  \n",
              "7541                    LA CA USA  Pacific Time (US & Canada)  \n",
              "9579                Washington DC  Eastern Time (US & Canada)  \n",
              "11393                         NaN  Eastern Time (US & Canada)  \n",
              "6572                Washington DC                         NaN  \n",
              "7524            New York City, NY                         NaN  "
            ],
            "text/html": [
              "\n",
              "  <div id=\"df-76323eac-8a48-425a-a657-b0e76e63eaed\">\n",
              "    <div class=\"colab-df-container\">\n",
              "      <div>\n",
              "<style scoped>\n",
              "    .dataframe tbody tr th:only-of-type {\n",
              "        vertical-align: middle;\n",
              "    }\n",
              "\n",
              "    .dataframe tbody tr th {\n",
              "        vertical-align: top;\n",
              "    }\n",
              "\n",
              "    .dataframe thead th {\n",
              "        text-align: right;\n",
              "    }\n",
              "</style>\n",
              "<table border=\"1\" class=\"dataframe\">\n",
              "  <thead>\n",
              "    <tr style=\"text-align: right;\">\n",
              "      <th></th>\n",
              "      <th>tweet_id</th>\n",
              "      <th>airline_sentiment</th>\n",
              "      <th>airline_sentiment_confidence</th>\n",
              "      <th>negativereason</th>\n",
              "      <th>negativereason_confidence</th>\n",
              "      <th>airline</th>\n",
              "      <th>airline_sentiment_gold</th>\n",
              "      <th>name</th>\n",
              "      <th>negativereason_gold</th>\n",
              "      <th>retweet_count</th>\n",
              "      <th>text</th>\n",
              "      <th>tweet_coord</th>\n",
              "      <th>tweet_created</th>\n",
              "      <th>tweet_location</th>\n",
              "      <th>user_timezone</th>\n",
              "    </tr>\n",
              "  </thead>\n",
              "  <tbody>\n",
              "    <tr>\n",
              "      <th>10531</th>\n",
              "      <td>569220920218296320</td>\n",
              "      <td>negative</td>\n",
              "      <td>1.0000</td>\n",
              "      <td>Cancelled Flight</td>\n",
              "      <td>1.0000</td>\n",
              "      <td>US Airways</td>\n",
              "      <td>NaN</td>\n",
              "      <td>Marci_DZ</td>\n",
              "      <td>NaN</td>\n",
              "      <td>0</td>\n",
              "      <td>@USAirways now what? You Cancelled Flightled m...</td>\n",
              "      <td>NaN</td>\n",
              "      <td>2015-02-21 11:43:37 -0800</td>\n",
              "      <td>NaN</td>\n",
              "      <td>Eastern Time (US &amp; Canada)</td>\n",
              "    </tr>\n",
              "    <tr>\n",
              "      <th>10734</th>\n",
              "      <td>568929010966765568</td>\n",
              "      <td>negative</td>\n",
              "      <td>1.0000</td>\n",
              "      <td>Customer Service Issue</td>\n",
              "      <td>0.6885</td>\n",
              "      <td>US Airways</td>\n",
              "      <td>NaN</td>\n",
              "      <td>scottsalkin</td>\n",
              "      <td>NaN</td>\n",
              "      <td>0</td>\n",
              "      <td>@USAirways your team was just terrifyingly rud...</td>\n",
              "      <td>NaN</td>\n",
              "      <td>2015-02-20 16:23:41 -0800</td>\n",
              "      <td>San Francisco &amp; Scottsdale</td>\n",
              "      <td>Pacific Time (US &amp; Canada)</td>\n",
              "    </tr>\n",
              "    <tr>\n",
              "      <th>9197</th>\n",
              "      <td>570073507465469952</td>\n",
              "      <td>negative</td>\n",
              "      <td>1.0000</td>\n",
              "      <td>Customer Service Issue</td>\n",
              "      <td>0.6813</td>\n",
              "      <td>US Airways</td>\n",
              "      <td>NaN</td>\n",
              "      <td>worldwideweg</td>\n",
              "      <td>NaN</td>\n",
              "      <td>0</td>\n",
              "      <td>@USAirways - No live person to speak with all ...</td>\n",
              "      <td>NaN</td>\n",
              "      <td>2015-02-23 20:11:30 -0800</td>\n",
              "      <td>NaN</td>\n",
              "      <td>NaN</td>\n",
              "    </tr>\n",
              "    <tr>\n",
              "      <th>11390</th>\n",
              "      <td>568151138421207040</td>\n",
              "      <td>negative</td>\n",
              "      <td>1.0000</td>\n",
              "      <td>Cancelled Flight</td>\n",
              "      <td>1.0000</td>\n",
              "      <td>US Airways</td>\n",
              "      <td>NaN</td>\n",
              "      <td>as4438</td>\n",
              "      <td>NaN</td>\n",
              "      <td>0</td>\n",
              "      <td>@USAirways stop Cancelled Flighting flights ov...</td>\n",
              "      <td>NaN</td>\n",
              "      <td>2015-02-18 12:52:41 -0800</td>\n",
              "      <td>NaN</td>\n",
              "      <td>NaN</td>\n",
              "    </tr>\n",
              "    <tr>\n",
              "      <th>10872</th>\n",
              "      <td>568809407120855041</td>\n",
              "      <td>negative</td>\n",
              "      <td>1.0000</td>\n",
              "      <td>Late Flight</td>\n",
              "      <td>1.0000</td>\n",
              "      <td>US Airways</td>\n",
              "      <td>NaN</td>\n",
              "      <td>G_Will_Eye_Am</td>\n",
              "      <td>NaN</td>\n",
              "      <td>0</td>\n",
              "      <td>@USAirways delayed I'm charlotte big surprise</td>\n",
              "      <td>NaN</td>\n",
              "      <td>2015-02-20 08:28:25 -0800</td>\n",
              "      <td>NaN</td>\n",
              "      <td>NaN</td>\n",
              "    </tr>\n",
              "    <tr>\n",
              "      <th>7541</th>\n",
              "      <td>569538135916351489</td>\n",
              "      <td>positive</td>\n",
              "      <td>1.0000</td>\n",
              "      <td>NaN</td>\n",
              "      <td>NaN</td>\n",
              "      <td>Delta</td>\n",
              "      <td>NaN</td>\n",
              "      <td>2littlebirds</td>\n",
              "      <td>NaN</td>\n",
              "      <td>0</td>\n",
              "      <td>“@JetBlue: @2littlebirds Beautiful shot.. Than...</td>\n",
              "      <td>[38.69255098, -121.58854512]</td>\n",
              "      <td>2015-02-22 08:44:07 -0800</td>\n",
              "      <td>LA CA USA</td>\n",
              "      <td>Pacific Time (US &amp; Canada)</td>\n",
              "    </tr>\n",
              "    <tr>\n",
              "      <th>9579</th>\n",
              "      <td>569867947130421249</td>\n",
              "      <td>neutral</td>\n",
              "      <td>0.6629</td>\n",
              "      <td>NaN</td>\n",
              "      <td>0.0000</td>\n",
              "      <td>US Airways</td>\n",
              "      <td>NaN</td>\n",
              "      <td>DonIrvine</td>\n",
              "      <td>NaN</td>\n",
              "      <td>0</td>\n",
              "      <td>@USAirways 4473.  She just called to say it's ...</td>\n",
              "      <td>NaN</td>\n",
              "      <td>2015-02-23 06:34:40 -0800</td>\n",
              "      <td>Washington DC</td>\n",
              "      <td>Eastern Time (US &amp; Canada)</td>\n",
              "    </tr>\n",
              "    <tr>\n",
              "      <th>11393</th>\n",
              "      <td>568148808993013761</td>\n",
              "      <td>negative</td>\n",
              "      <td>1.0000</td>\n",
              "      <td>Lost Luggage</td>\n",
              "      <td>0.6635</td>\n",
              "      <td>US Airways</td>\n",
              "      <td>NaN</td>\n",
              "      <td>tannapistolis</td>\n",
              "      <td>NaN</td>\n",
              "      <td>0</td>\n",
              "      <td>@USAirways What's the point of a baggage claim...</td>\n",
              "      <td>NaN</td>\n",
              "      <td>2015-02-18 12:43:26 -0800</td>\n",
              "      <td>NaN</td>\n",
              "      <td>Eastern Time (US &amp; Canada)</td>\n",
              "    </tr>\n",
              "    <tr>\n",
              "      <th>6572</th>\n",
              "      <td>567774100299739138</td>\n",
              "      <td>positive</td>\n",
              "      <td>1.0000</td>\n",
              "      <td>NaN</td>\n",
              "      <td>NaN</td>\n",
              "      <td>Southwest</td>\n",
              "      <td>NaN</td>\n",
              "      <td>smckenna719</td>\n",
              "      <td>NaN</td>\n",
              "      <td>0</td>\n",
              "      <td>@SouthwestAir - just talking to customer servi...</td>\n",
              "      <td>NaN</td>\n",
              "      <td>2015-02-17 11:54:28 -0800</td>\n",
              "      <td>Washington DC</td>\n",
              "      <td>NaN</td>\n",
              "    </tr>\n",
              "    <tr>\n",
              "      <th>7524</th>\n",
              "      <td>569543615862722561</td>\n",
              "      <td>positive</td>\n",
              "      <td>1.0000</td>\n",
              "      <td>NaN</td>\n",
              "      <td>NaN</td>\n",
              "      <td>Delta</td>\n",
              "      <td>NaN</td>\n",
              "      <td>KShay1985</td>\n",
              "      <td>NaN</td>\n",
              "      <td>0</td>\n",
              "      <td>@JetBlue thank you. We are finally at the gate.</td>\n",
              "      <td>NaN</td>\n",
              "      <td>2015-02-22 09:05:54 -0800</td>\n",
              "      <td>New York City, NY</td>\n",
              "      <td>NaN</td>\n",
              "    </tr>\n",
              "  </tbody>\n",
              "</table>\n",
              "</div>\n",
              "      <button class=\"colab-df-convert\" onclick=\"convertToInteractive('df-76323eac-8a48-425a-a657-b0e76e63eaed')\"\n",
              "              title=\"Convert this dataframe to an interactive table.\"\n",
              "              style=\"display:none;\">\n",
              "        \n",
              "  <svg xmlns=\"http://www.w3.org/2000/svg\" height=\"24px\"viewBox=\"0 0 24 24\"\n",
              "       width=\"24px\">\n",
              "    <path d=\"M0 0h24v24H0V0z\" fill=\"none\"/>\n",
              "    <path d=\"M18.56 5.44l.94 2.06.94-2.06 2.06-.94-2.06-.94-.94-2.06-.94 2.06-2.06.94zm-11 1L8.5 8.5l.94-2.06 2.06-.94-2.06-.94L8.5 2.5l-.94 2.06-2.06.94zm10 10l.94 2.06.94-2.06 2.06-.94-2.06-.94-.94-2.06-.94 2.06-2.06.94z\"/><path d=\"M17.41 7.96l-1.37-1.37c-.4-.4-.92-.59-1.43-.59-.52 0-1.04.2-1.43.59L10.3 9.45l-7.72 7.72c-.78.78-.78 2.05 0 2.83L4 21.41c.39.39.9.59 1.41.59.51 0 1.02-.2 1.41-.59l7.78-7.78 2.81-2.81c.8-.78.8-2.07 0-2.86zM5.41 20L4 18.59l7.72-7.72 1.47 1.35L5.41 20z\"/>\n",
              "  </svg>\n",
              "      </button>\n",
              "      \n",
              "  <style>\n",
              "    .colab-df-container {\n",
              "      display:flex;\n",
              "      flex-wrap:wrap;\n",
              "      gap: 12px;\n",
              "    }\n",
              "\n",
              "    .colab-df-convert {\n",
              "      background-color: #E8F0FE;\n",
              "      border: none;\n",
              "      border-radius: 50%;\n",
              "      cursor: pointer;\n",
              "      display: none;\n",
              "      fill: #1967D2;\n",
              "      height: 32px;\n",
              "      padding: 0 0 0 0;\n",
              "      width: 32px;\n",
              "    }\n",
              "\n",
              "    .colab-df-convert:hover {\n",
              "      background-color: #E2EBFA;\n",
              "      box-shadow: 0px 1px 2px rgba(60, 64, 67, 0.3), 0px 1px 3px 1px rgba(60, 64, 67, 0.15);\n",
              "      fill: #174EA6;\n",
              "    }\n",
              "\n",
              "    [theme=dark] .colab-df-convert {\n",
              "      background-color: #3B4455;\n",
              "      fill: #D2E3FC;\n",
              "    }\n",
              "\n",
              "    [theme=dark] .colab-df-convert:hover {\n",
              "      background-color: #434B5C;\n",
              "      box-shadow: 0px 1px 3px 1px rgba(0, 0, 0, 0.15);\n",
              "      filter: drop-shadow(0px 1px 2px rgba(0, 0, 0, 0.3));\n",
              "      fill: #FFFFFF;\n",
              "    }\n",
              "  </style>\n",
              "\n",
              "      <script>\n",
              "        const buttonEl =\n",
              "          document.querySelector('#df-76323eac-8a48-425a-a657-b0e76e63eaed button.colab-df-convert');\n",
              "        buttonEl.style.display =\n",
              "          google.colab.kernel.accessAllowed ? 'block' : 'none';\n",
              "\n",
              "        async function convertToInteractive(key) {\n",
              "          const element = document.querySelector('#df-76323eac-8a48-425a-a657-b0e76e63eaed');\n",
              "          const dataTable =\n",
              "            await google.colab.kernel.invokeFunction('convertToInteractive',\n",
              "                                                     [key], {});\n",
              "          if (!dataTable) return;\n",
              "\n",
              "          const docLinkHtml = 'Like what you see? Visit the ' +\n",
              "            '<a target=\"_blank\" href=https://colab.research.google.com/notebooks/data_table.ipynb>data table notebook</a>'\n",
              "            + ' to learn more about interactive tables.';\n",
              "          element.innerHTML = '';\n",
              "          dataTable['output_type'] = 'display_data';\n",
              "          await google.colab.output.renderOutput(dataTable, element);\n",
              "          const docLink = document.createElement('div');\n",
              "          docLink.innerHTML = docLinkHtml;\n",
              "          element.appendChild(docLink);\n",
              "        }\n",
              "      </script>\n",
              "    </div>\n",
              "  </div>\n",
              "  "
            ]
          },
          "metadata": {},
          "execution_count": 5
        }
      ],
      "source": [
        "df = pd.read_csv('https://raw.githubusercontent.com/mauriciosotogomez/BABD2022/main/Lab_11_NLP_Case/Tweets.csv')\n",
        "print(df.shape)\n",
        "df.sample(10)"
      ]
    },
    {
      "cell_type": "code",
      "source": [
        "print(df['text'][42])\n",
        "print()\n",
        "print(df['text'][222])"
      ],
      "metadata": {
        "colab": {
          "base_uri": "https://localhost:8080/"
        },
        "id": "z8g1GMz1eEo9",
        "outputId": "29313be4-ebbb-4bc9-e3e4-1f6e70c0e17a"
      },
      "execution_count": 6,
      "outputs": [
        {
          "output_type": "stream",
          "name": "stdout",
          "text": [
            "@VirginAmerica plz help me win my bid upgrade for my flight 2/27 LAX---&gt;SEA!!!  🍷👍💺✈️\n",
            "\n",
            "@VirginAmerica when are you putting some great deals from PDX to LAS or from LAS to PDX show me your love! http://t.co/enIQg0buzj\n"
          ]
        }
      ]
    },
    {
      "cell_type": "code",
      "source": [
        "df.columns"
      ],
      "metadata": {
        "colab": {
          "base_uri": "https://localhost:8080/"
        },
        "id": "3bhjC0uskA_0",
        "outputId": "97bfa8d4-0838-4580-d08f-9a19ff0098b1"
      },
      "execution_count": 7,
      "outputs": [
        {
          "output_type": "execute_result",
          "data": {
            "text/plain": [
              "Index(['tweet_id', 'airline_sentiment', 'airline_sentiment_confidence',\n",
              "       'negativereason', 'negativereason_confidence', 'airline',\n",
              "       'airline_sentiment_gold', 'name', 'negativereason_gold',\n",
              "       'retweet_count', 'text', 'tweet_coord', 'tweet_created',\n",
              "       'tweet_location', 'user_timezone'],\n",
              "      dtype='object')"
            ]
          },
          "metadata": {},
          "execution_count": 7
        }
      ]
    },
    {
      "cell_type": "code",
      "execution_count": 8,
      "metadata": {
        "execution": {
          "iopub.execute_input": "2022-01-06T07:19:29.802425Z",
          "iopub.status.busy": "2022-01-06T07:19:29.801793Z",
          "iopub.status.idle": "2022-01-06T07:19:29.812622Z",
          "shell.execute_reply": "2022-01-06T07:19:29.811929Z",
          "shell.execute_reply.started": "2022-01-06T07:19:29.802388Z"
        },
        "trusted": true,
        "colab": {
          "base_uri": "https://localhost:8080/"
        },
        "id": "iogwqyC256ca",
        "outputId": "55912517-267c-4d3f-ee47-117759a013f8"
      },
      "outputs": [
        {
          "output_type": "execute_result",
          "data": {
            "text/plain": [
              "array(['neutral', 'positive', 'negative'], dtype=object)"
            ]
          },
          "metadata": {},
          "execution_count": 8
        }
      ],
      "source": [
        "# Unique values of sentiment\n",
        "df['airline_sentiment'].unique()"
      ]
    },
    {
      "cell_type": "code",
      "source": [
        "df.shape"
      ],
      "metadata": {
        "colab": {
          "base_uri": "https://localhost:8080/"
        },
        "id": "FYe2xa-Fu8Xa",
        "outputId": "3cddbb63-34e9-4183-fba1-3c7f8940bd0e"
      },
      "execution_count": 9,
      "outputs": [
        {
          "output_type": "execute_result",
          "data": {
            "text/plain": [
              "(14640, 15)"
            ]
          },
          "metadata": {},
          "execution_count": 9
        }
      ]
    },
    {
      "cell_type": "code",
      "execution_count": 10,
      "metadata": {
        "execution": {
          "iopub.execute_input": "2022-01-06T07:19:29.816619Z",
          "iopub.status.busy": "2022-01-06T07:19:29.815972Z",
          "iopub.status.idle": "2022-01-06T07:19:30.020444Z",
          "shell.execute_reply": "2022-01-06T07:19:30.019659Z",
          "shell.execute_reply.started": "2022-01-06T07:19:29.816591Z"
        },
        "trusted": true,
        "colab": {
          "base_uri": "https://localhost:8080/",
          "height": 280
        },
        "id": "GvhOjRa056cf",
        "outputId": "b0da52a4-3ee2-46b4-b711-664a2fd24fb5"
      },
      "outputs": [
        {
          "output_type": "display_data",
          "data": {
            "text/plain": [
              "<Figure size 432x288 with 1 Axes>"
            ],
            "image/png": "[encoded data removed]"
          },
          "metadata": {
            "needs_background": "light"
          }
        }
      ],
      "source": [
        "# Unique values of sentiment plot\n",
        "\n",
        "ax = sns.countplot(x=\"airline_sentiment\", data=df)"
      ]
    },
    {
      "cell_type": "code",
      "execution_count": 11,
      "metadata": {
        "execution": {
          "iopub.execute_input": "2022-01-06T07:19:30.021988Z",
          "iopub.status.busy": "2022-01-06T07:19:30.021605Z",
          "iopub.status.idle": "2022-01-06T07:19:30.256143Z",
          "shell.execute_reply": "2022-01-06T07:19:30.255496Z",
          "shell.execute_reply.started": "2022-01-06T07:19:30.021954Z"
        },
        "trusted": true,
        "id": "NMRI7oLV56ck",
        "outputId": "d0331e2e-620f-472c-c093-0f47f084c4c7",
        "colab": {
          "base_uri": "https://localhost:8080/",
          "height": 608
        }
      },
      "outputs": [
        {
          "output_type": "display_data",
          "data": {
            "text/plain": [
              "<Figure size 720x720 with 1 Axes>"
            ],
            "image/png": "[encoded data removed]"
          },
          "metadata": {
            "needs_background": "light"
          }
        }
      ],
      "source": [
        "# Unique values of airline\n",
        "\n",
        "plt.figure(figsize=(10,10))\n",
        "ax = sns.countplot(x=\"airline\", data=df)"
      ]
    },
    {
      "cell_type": "markdown",
      "metadata": {
        "id": "5Bv5bk5r56cs"
      },
      "source": [
        "### Text cleaning"
      ]
    },
    {
      "cell_type": "code",
      "source": [
        "stop_words = stopwords.words('english')\n",
        "stop_words.extend(['get','hour','http','co'])\n",
        "\n",
        "def clean_text(text):\n",
        "  text = re.sub(\"&[a-z]*;\", \" \",text)                                           # html tags such as &gt; \n",
        "  text = re.sub(\"[^a-zA-Z]\", \" \",text)                                          # keep only letters\n",
        "  text = text.lower()                                                           # lower case                                              \n",
        "  # Remove stop_word\n",
        "  words = word_tokenize(text)\n",
        "  new_text = \"\"\n",
        "  for i,w in enumerate(words):\n",
        "    if i == 0:                                                                  # first token is always airline name\n",
        "      continue\n",
        "    if w == 'flightled':\n",
        "      w = 'flight'\n",
        "    if w not in stop_words and len(w) > 1:\n",
        "      new_text = new_text + \" \" + w\n",
        "  return new_text\n",
        "  #return ' '.join([word for word in text.split() if word.lower() not in stopwords.words('english')])                             \n",
        "\n",
        "from nltk.stem import WordNetLemmatizer\n",
        "wnl = WordNetLemmatizer()\n",
        "\n",
        "from nltk import word_tokenize, pos_tag\n",
        "\n",
        "nltk.download('averaged_perceptron_tagger')\n",
        "nltk.download('wordnet')\n",
        "\n",
        "def lemmatize_tag(text):\n",
        "    lemma=[]\n",
        "    for i,j in pos_tag(word_tokenize(text)) :\n",
        "        p=j[0].lower()\n",
        "        lm = ''\n",
        "        if p in ['j','n','v']:\n",
        "            if p == 'j':\n",
        "                p = 'a'\n",
        "            lm = wnl.lemmatize(i,p)\n",
        "            \n",
        "        else :\n",
        "            lm = wnl.lemmatize(i)\n",
        "        if len(lm) > 1:\n",
        "          lemma.append(lm)\n",
        "    return ' '.join(lemma)"
      ],
      "metadata": {
        "colab": {
          "base_uri": "https://localhost:8080/"
        },
        "id": "z9ECL7nOb1d_",
        "outputId": "f4d41666-956c-4270-e447-7f4db68c07c4"
      },
      "execution_count": 12,
      "outputs": [
        {
          "output_type": "stream",
          "name": "stdout",
          "text": [
            "[nltk_data] Downloading package averaged_perceptron_tagger to\n",
            "[nltk_data]     /root/nltk_data...\n",
            "[nltk_data]   Package averaged_perceptron_tagger is already up-to-\n",
            "[nltk_data]       date!\n",
            "[nltk_data] Downloading package wordnet to /root/nltk_data...\n",
            "[nltk_data]   Package wordnet is already up-to-date!\n"
          ]
        }
      ]
    },
    {
      "cell_type": "code",
      "source": [
        "i = 5\n",
        "\n",
        "print(\"BEFORE:        \"+df['text'][i])\n",
        "print(\"CLEAN:         \"+clean_text(df['text'][i]))\n",
        "print(\"CLEAN & LEMM:  \"+lemmatize_tag(clean_text(df['text'][i])))"
      ],
      "metadata": {
        "colab": {
          "base_uri": "https://localhost:8080/"
        },
        "id": "xENZQJfib3oF",
        "outputId": "bea3608a-03b3-48d3-8108-3bae0f6362f2"
      },
      "execution_count": 13,
      "outputs": [
        {
          "output_type": "stream",
          "name": "stdout",
          "text": [
            "BEFORE:        @VirginAmerica seriously would pay $30 a flight for seats that didn't have this playing.\n",
            "it's really the only bad thing about flying VA\n",
            "CLEAN:          seriously would pay flight seats playing really bad thing flying va\n",
            "CLEAN & LEMM:  seriously would pay flight seat play really bad thing fly va\n"
          ]
        }
      ]
    },
    {
      "cell_type": "code",
      "execution_count": 14,
      "metadata": {
        "execution": {
          "iopub.execute_input": "2022-01-06T07:19:30.276071Z",
          "iopub.status.busy": "2022-01-06T07:19:30.275754Z",
          "iopub.status.idle": "2022-01-06T07:19:32.796339Z",
          "shell.execute_reply": "2022-01-06T07:19:32.795646Z",
          "shell.execute_reply.started": "2022-01-06T07:19:30.276036Z"
        },
        "trusted": true,
        "id": "pCPwwbAa56c3",
        "outputId": "3c2a05b1-96c8-4d13-ccc8-a17edb66a2b0",
        "colab": {
          "base_uri": "https://localhost:8080/",
          "height": 670
        }
      },
      "outputs": [
        {
          "output_type": "stream",
          "name": "stdout",
          "text": [
            "(14640, 15)\n",
            "(11541, 15)\n"
          ]
        },
        {
          "output_type": "stream",
          "name": "stderr",
          "text": [
            "/usr/local/lib/python3.7/dist-packages/ipykernel_launcher.py:8: SettingWithCopyWarning: \n",
            "A value is trying to be set on a copy of a slice from a DataFrame.\n",
            "Try using .loc[row_indexer,col_indexer] = value instead\n",
            "\n",
            "See the caveats in the documentation: https://pandas.pydata.org/pandas-docs/stable/user_guide/indexing.html#returning-a-view-versus-a-copy\n",
            "  \n"
          ]
        },
        {
          "output_type": "stream",
          "name": "stdout",
          "text": [
            "(11529, 16)\n"
          ]
        },
        {
          "output_type": "execute_result",
          "data": {
            "text/plain": [
              "             tweet_id  airline_sentiment  airline_sentiment_confidence  \\\n",
              "1  570301130888122368                  1                        0.3486   \n",
              "3  570301031407624196                  0                        1.0000   \n",
              "4  570300817074462722                  0                        1.0000   \n",
              "5  570300767074181121                  0                        1.0000   \n",
              "6  570300616901320704                  1                        0.6745   \n",
              "\n",
              "  negativereason  negativereason_confidence         airline  \\\n",
              "1            NaN                     0.0000  Virgin America   \n",
              "3     Bad Flight                     0.7033  Virgin America   \n",
              "4     Can't Tell                     1.0000  Virgin America   \n",
              "5     Can't Tell                     0.6842  Virgin America   \n",
              "6            NaN                     0.0000  Virgin America   \n",
              "\n",
              "  airline_sentiment_gold        name negativereason_gold  retweet_count  \\\n",
              "1                    NaN    jnardino                 NaN              0   \n",
              "3                    NaN    jnardino                 NaN              0   \n",
              "4                    NaN    jnardino                 NaN              0   \n",
              "5                    NaN    jnardino                 NaN              0   \n",
              "6                    NaN  cjmcginnis                 NaN              0   \n",
              "\n",
              "                                                text tweet_coord  \\\n",
              "1  @VirginAmerica plus you've added commercials t...         NaN   \n",
              "3  @VirginAmerica it's really aggressive to blast...         NaN   \n",
              "4  @VirginAmerica and it's a really big bad thing...         NaN   \n",
              "5  @VirginAmerica seriously would pay $30 a fligh...         NaN   \n",
              "6  @VirginAmerica yes, nearly every time I fly VX...         NaN   \n",
              "\n",
              "               tweet_created    tweet_location               user_timezone  \\\n",
              "1  2015-02-24 11:15:59 -0800               NaN  Pacific Time (US & Canada)   \n",
              "3  2015-02-24 11:15:36 -0800               NaN  Pacific Time (US & Canada)   \n",
              "4  2015-02-24 11:14:45 -0800               NaN  Pacific Time (US & Canada)   \n",
              "5  2015-02-24 11:14:33 -0800               NaN  Pacific Time (US & Canada)   \n",
              "6  2015-02-24 11:13:57 -0800  San Francisco CA  Pacific Time (US & Canada)   \n",
              "\n",
              "                                       cleaned_tweet  \n",
              "1             plus added commercial experience tacky  \n",
              "3  really aggressive blast obnoxious entertainmen...  \n",
              "4                               really big bad thing  \n",
              "5  seriously would pay flight seat play really ba...  \n",
              "6      yes nearly every time fly vx ear worm go away  "
            ],
            "text/html": [
              "\n",
              "  <div id=\"df-f1416b69-0bde-4783-9c04-e149fad3e0b7\">\n",
              "    <div class=\"colab-df-container\">\n",
              "      <div>\n",
              "<style scoped>\n",
              "    .dataframe tbody tr th:only-of-type {\n",
              "        vertical-align: middle;\n",
              "    }\n",
              "\n",
              "    .dataframe tbody tr th {\n",
              "        vertical-align: top;\n",
              "    }\n",
              "\n",
              "    .dataframe thead th {\n",
              "        text-align: right;\n",
              "    }\n",
              "</style>\n",
              "<table border=\"1\" class=\"dataframe\">\n",
              "  <thead>\n",
              "    <tr style=\"text-align: right;\">\n",
              "      <th></th>\n",
              "      <th>tweet_id</th>\n",
              "      <th>airline_sentiment</th>\n",
              "      <th>airline_sentiment_confidence</th>\n",
              "      <th>negativereason</th>\n",
              "      <th>negativereason_confidence</th>\n",
              "      <th>airline</th>\n",
              "      <th>airline_sentiment_gold</th>\n",
              "      <th>name</th>\n",
              "      <th>negativereason_gold</th>\n",
              "      <th>retweet_count</th>\n",
              "      <th>text</th>\n",
              "      <th>tweet_coord</th>\n",
              "      <th>tweet_created</th>\n",
              "      <th>tweet_location</th>\n",
              "      <th>user_timezone</th>\n",
              "      <th>cleaned_tweet</th>\n",
              "    </tr>\n",
              "  </thead>\n",
              "  <tbody>\n",
              "    <tr>\n",
              "      <th>1</th>\n",
              "      <td>570301130888122368</td>\n",
              "      <td>1</td>\n",
              "      <td>0.3486</td>\n",
              "      <td>NaN</td>\n",
              "      <td>0.0000</td>\n",
              "      <td>Virgin America</td>\n",
              "      <td>NaN</td>\n",
              "      <td>jnardino</td>\n",
              "      <td>NaN</td>\n",
              "      <td>0</td>\n",
              "      <td>@VirginAmerica plus you've added commercials t...</td>\n",
              "      <td>NaN</td>\n",
              "      <td>2015-02-24 11:15:59 -0800</td>\n",
              "      <td>NaN</td>\n",
              "      <td>Pacific Time (US &amp; Canada)</td>\n",
              "      <td>plus added commercial experience tacky</td>\n",
              "    </tr>\n",
              "    <tr>\n",
              "      <th>3</th>\n",
              "      <td>570301031407624196</td>\n",
              "      <td>0</td>\n",
              "      <td>1.0000</td>\n",
              "      <td>Bad Flight</td>\n",
              "      <td>0.7033</td>\n",
              "      <td>Virgin America</td>\n",
              "      <td>NaN</td>\n",
              "      <td>jnardino</td>\n",
              "      <td>NaN</td>\n",
              "      <td>0</td>\n",
              "      <td>@VirginAmerica it's really aggressive to blast...</td>\n",
              "      <td>NaN</td>\n",
              "      <td>2015-02-24 11:15:36 -0800</td>\n",
              "      <td>NaN</td>\n",
              "      <td>Pacific Time (US &amp; Canada)</td>\n",
              "      <td>really aggressive blast obnoxious entertainmen...</td>\n",
              "    </tr>\n",
              "    <tr>\n",
              "      <th>4</th>\n",
              "      <td>570300817074462722</td>\n",
              "      <td>0</td>\n",
              "      <td>1.0000</td>\n",
              "      <td>Can't Tell</td>\n",
              "      <td>1.0000</td>\n",
              "      <td>Virgin America</td>\n",
              "      <td>NaN</td>\n",
              "      <td>jnardino</td>\n",
              "      <td>NaN</td>\n",
              "      <td>0</td>\n",
              "      <td>@VirginAmerica and it's a really big bad thing...</td>\n",
              "      <td>NaN</td>\n",
              "      <td>2015-02-24 11:14:45 -0800</td>\n",
              "      <td>NaN</td>\n",
              "      <td>Pacific Time (US &amp; Canada)</td>\n",
              "      <td>really big bad thing</td>\n",
              "    </tr>\n",
              "    <tr>\n",
              "      <th>5</th>\n",
              "      <td>570300767074181121</td>\n",
              "      <td>0</td>\n",
              "      <td>1.0000</td>\n",
              "      <td>Can't Tell</td>\n",
              "      <td>0.6842</td>\n",
              "      <td>Virgin America</td>\n",
              "      <td>NaN</td>\n",
              "      <td>jnardino</td>\n",
              "      <td>NaN</td>\n",
              "      <td>0</td>\n",
              "      <td>@VirginAmerica seriously would pay $30 a fligh...</td>\n",
              "      <td>NaN</td>\n",
              "      <td>2015-02-24 11:14:33 -0800</td>\n",
              "      <td>NaN</td>\n",
              "      <td>Pacific Time (US &amp; Canada)</td>\n",
              "      <td>seriously would pay flight seat play really ba...</td>\n",
              "    </tr>\n",
              "    <tr>\n",
              "      <th>6</th>\n",
              "      <td>570300616901320704</td>\n",
              "      <td>1</td>\n",
              "      <td>0.6745</td>\n",
              "      <td>NaN</td>\n",
              "      <td>0.0000</td>\n",
              "      <td>Virgin America</td>\n",
              "      <td>NaN</td>\n",
              "      <td>cjmcginnis</td>\n",
              "      <td>NaN</td>\n",
              "      <td>0</td>\n",
              "      <td>@VirginAmerica yes, nearly every time I fly VX...</td>\n",
              "      <td>NaN</td>\n",
              "      <td>2015-02-24 11:13:57 -0800</td>\n",
              "      <td>San Francisco CA</td>\n",
              "      <td>Pacific Time (US &amp; Canada)</td>\n",
              "      <td>yes nearly every time fly vx ear worm go away</td>\n",
              "    </tr>\n",
              "  </tbody>\n",
              "</table>\n",
              "</div>\n",
              "      <button class=\"colab-df-convert\" onclick=\"convertToInteractive('df-f1416b69-0bde-4783-9c04-e149fad3e0b7')\"\n",
              "              title=\"Convert this dataframe to an interactive table.\"\n",
              "              style=\"display:none;\">\n",
              "        \n",
              "  <svg xmlns=\"http://www.w3.org/2000/svg\" height=\"24px\"viewBox=\"0 0 24 24\"\n",
              "       width=\"24px\">\n",
              "    <path d=\"M0 0h24v24H0V0z\" fill=\"none\"/>\n",
              "    <path d=\"M18.56 5.44l.94 2.06.94-2.06 2.06-.94-2.06-.94-.94-2.06-.94 2.06-2.06.94zm-11 1L8.5 8.5l.94-2.06 2.06-.94-2.06-.94L8.5 2.5l-.94 2.06-2.06.94zm10 10l.94 2.06.94-2.06 2.06-.94-2.06-.94-.94-2.06-.94 2.06-2.06.94z\"/><path d=\"M17.41 7.96l-1.37-1.37c-.4-.4-.92-.59-1.43-.59-.52 0-1.04.2-1.43.59L10.3 9.45l-7.72 7.72c-.78.78-.78 2.05 0 2.83L4 21.41c.39.39.9.59 1.41.59.51 0 1.02-.2 1.41-.59l7.78-7.78 2.81-2.81c.8-.78.8-2.07 0-2.86zM5.41 20L4 18.59l7.72-7.72 1.47 1.35L5.41 20z\"/>\n",
              "  </svg>\n",
              "      </button>\n",
              "      \n",
              "  <style>\n",
              "    .colab-df-container {\n",
              "      display:flex;\n",
              "      flex-wrap:wrap;\n",
              "      gap: 12px;\n",
              "    }\n",
              "\n",
              "    .colab-df-convert {\n",
              "      background-color: #E8F0FE;\n",
              "      border: none;\n",
              "      border-radius: 50%;\n",
              "      cursor: pointer;\n",
              "      display: none;\n",
              "      fill: #1967D2;\n",
              "      height: 32px;\n",
              "      padding: 0 0 0 0;\n",
              "      width: 32px;\n",
              "    }\n",
              "\n",
              "    .colab-df-convert:hover {\n",
              "      background-color: #E2EBFA;\n",
              "      box-shadow: 0px 1px 2px rgba(60, 64, 67, 0.3), 0px 1px 3px 1px rgba(60, 64, 67, 0.15);\n",
              "      fill: #174EA6;\n",
              "    }\n",
              "\n",
              "    [theme=dark] .colab-df-convert {\n",
              "      background-color: #3B4455;\n",
              "      fill: #D2E3FC;\n",
              "    }\n",
              "\n",
              "    [theme=dark] .colab-df-convert:hover {\n",
              "      background-color: #434B5C;\n",
              "      box-shadow: 0px 1px 3px 1px rgba(0, 0, 0, 0.15);\n",
              "      filter: drop-shadow(0px 1px 2px rgba(0, 0, 0, 0.3));\n",
              "      fill: #FFFFFF;\n",
              "    }\n",
              "  </style>\n",
              "\n",
              "      <script>\n",
              "        const buttonEl =\n",
              "          document.querySelector('#df-f1416b69-0bde-4783-9c04-e149fad3e0b7 button.colab-df-convert');\n",
              "        buttonEl.style.display =\n",
              "          google.colab.kernel.accessAllowed ? 'block' : 'none';\n",
              "\n",
              "        async function convertToInteractive(key) {\n",
              "          const element = document.querySelector('#df-f1416b69-0bde-4783-9c04-e149fad3e0b7');\n",
              "          const dataTable =\n",
              "            await google.colab.kernel.invokeFunction('convertToInteractive',\n",
              "                                                     [key], {});\n",
              "          if (!dataTable) return;\n",
              "\n",
              "          const docLinkHtml = 'Like what you see? Visit the ' +\n",
              "            '<a target=\"_blank\" href=https://colab.research.google.com/notebooks/data_table.ipynb>data table notebook</a>'\n",
              "            + ' to learn more about interactive tables.';\n",
              "          element.innerHTML = '';\n",
              "          dataTable['output_type'] = 'display_data';\n",
              "          await google.colab.output.renderOutput(dataTable, element);\n",
              "          const docLink = document.createElement('div');\n",
              "          docLink.innerHTML = docLinkHtml;\n",
              "          element.appendChild(docLink);\n",
              "        }\n",
              "      </script>\n",
              "    </div>\n",
              "  </div>\n",
              "  "
            ]
          },
          "metadata": {},
          "execution_count": 14
        }
      ],
      "source": [
        "print(df.shape)\n",
        "\n",
        "# removing neutral tweets\n",
        "df = df[df['airline_sentiment']!='neutral']\n",
        "print(df.shape)\n",
        "\n",
        "# positive negative codification\n",
        "df['airline_sentiment'] = df['airline_sentiment'].apply(lambda x: 1 if x =='positive' else 0)\n",
        "\n",
        "# removing neutral tweets\n",
        "df['cleaned_tweet'] = df['text'].apply(clean_text)\n",
        "df['cleaned_tweet'] = df['cleaned_tweet'].apply(lemmatize_tag)\n",
        "\n",
        "# remove rows with empty clean tweets\n",
        "df = df[df['cleaned_tweet'].apply(len)>0]\n",
        "\n",
        "print(df.shape)\n",
        "df.head()\n"
      ]
    },
    {
      "cell_type": "code",
      "execution_count": 15,
      "metadata": {
        "execution": {
          "iopub.execute_input": "2022-01-06T07:19:55.618486Z",
          "iopub.status.busy": "2022-01-06T07:19:55.618017Z",
          "iopub.status.idle": "2022-01-06T07:19:55.625580Z",
          "shell.execute_reply": "2022-01-06T07:19:55.624831Z",
          "shell.execute_reply.started": "2022-01-06T07:19:55.618450Z"
        },
        "trusted": true,
        "id": "qMSEE26K56c7",
        "outputId": "e98ea7b2-637f-4539-d3ac-9c8c5e926ba6",
        "colab": {
          "base_uri": "https://localhost:8080/"
        }
      },
      "outputs": [
        {
          "output_type": "execute_result",
          "data": {
            "text/plain": [
              "array([1, 0])"
            ]
          },
          "metadata": {},
          "execution_count": 15
        }
      ],
      "source": [
        "df['airline_sentiment'].unique()"
      ]
    },
    {
      "cell_type": "markdown",
      "metadata": {
        "id": "qimFkoNh56c-"
      },
      "source": [
        "# Custom sentiment model\n"
      ]
    },
    {
      "cell_type": "code",
      "source": [
        "def check_scores(clf, X_train, X_test, y_train, y_test):\n",
        "\n",
        "  model=clf.fit(X_train, y_train)\n",
        "  predicted_class=model.predict(X_test)\n",
        "  predicted_class_train=model.predict(X_train)\n",
        "  test_probs = model.predict_proba(X_test)\n",
        "  test_probs = test_probs[:, 1]\n",
        "\n",
        "  print('Train confusion matrix is: ',)\n",
        "  print(confusion_matrix(y_train, predicted_class_train))\n",
        "\n",
        "  print()\n",
        "  print('Test confusion matrix is: ')\n",
        "  print(confusion_matrix(y_test, predicted_class))\n",
        "  print()\n",
        "  print(classification_report(y_test,predicted_class)) \n",
        "  print() \n",
        "  train_accuracy = accuracy_score(y_train,predicted_class_train)\n",
        "  test_accuracy = accuracy_score(y_test,predicted_class)\n",
        "\n",
        "  print()\n",
        "  print(\"Train f1: \", f1_score(y_train, predicted_class_train))\n",
        "  print(\"Test f1: \", f1_score(y_test, predicted_class))\n",
        "  print()\n",
        "  print(\"Train accuracy score: \", train_accuracy)\n",
        "  print(\"Test accuracy score: \",test_accuracy )\n",
        "  print()\n",
        "  train_auc = roc_auc_score(y_train, clf.predict_proba(X_train)[:,1])\n",
        "  test_auc = roc_auc_score(y_test, clf.predict_proba(X_test)[:,1])\n",
        "\n",
        "  print(\"Train ROC-AUC score: \", train_auc)\n",
        "  print(\"Test ROC-AUC score: \", test_auc)\n",
        "  \n",
        "  fig, ax1 = plt.subplots(1,1)\n",
        "\n",
        "  plt.subplots_adjust(left=0.5,\n",
        "                    bottom=0.1, \n",
        "                    right=1.5, \n",
        "                    top=0.9, \n",
        "                    wspace=0.4, \n",
        "                    hspace=0.4)\n",
        "  plt.plot([0, 1], [0, 1], color='darkblue', linestyle='--')\n",
        "  fpr, tpr, _ = roc_curve(y_test, test_probs)\n",
        "  ax1.plot(fpr, tpr)\n",
        "  ax1.set(xlabel='False Positive Rate', ylabel='True Positive Rate')\n",
        "\n",
        "  return train_accuracy, test_accuracy, train_auc, test_auc\n",
        "\n",
        "\n",
        "\n",
        "def grid_search(model, parameters, X_train, Y_train):\n",
        "  #Doing a grid\n",
        "  grid = GridSearchCV(estimator=model,\n",
        "                      param_grid = parameters,\n",
        "                      cv=3, scoring = 'f1', verbose=0, n_jobs=-1)\n",
        "  #Fitting the grid \n",
        "  grid.fit(X_train,Y_train)\n",
        "  # Best model found using grid search\n",
        "  optimal_model = grid.best_estimator_\n",
        "  print('Best parameters are: ')\n",
        "  print( grid.best_params_)\n",
        "\n",
        "  return optimal_model\n",
        "\n",
        "\n"
      ],
      "metadata": {
        "id": "ol5lFRe_iCVv"
      },
      "execution_count": 34,
      "outputs": []
    },
    {
      "cell_type": "markdown",
      "source": [
        "### SVM"
      ],
      "metadata": {
        "id": "3PpYU_wJiPls"
      }
    },
    {
      "cell_type": "code",
      "execution_count": 20,
      "metadata": {
        "execution": {
          "iopub.execute_input": "2022-01-06T07:19:55.629518Z",
          "iopub.status.busy": "2022-01-06T07:19:55.629290Z",
          "iopub.status.idle": "2022-01-06T07:19:55.815056Z",
          "shell.execute_reply": "2022-01-06T07:19:55.814410Z",
          "shell.execute_reply.started": "2022-01-06T07:19:55.629494Z"
        },
        "trusted": true,
        "id": "HzRAjKNo56dC"
      },
      "outputs": [],
      "source": [
        "# Creating object of TF-IDF vectorizer\n",
        "vectorizer = TfidfVectorizer()\n",
        "X_tf_idf= vectorizer.fit_transform(df.cleaned_tweet)\n",
        "x_train, x_test, y_train, y_test = train_test_split(X_tf_idf, df['airline_sentiment'], random_state=42)\n"
      ]
    },
    {
      "cell_type": "code",
      "execution_count": 21,
      "metadata": {
        "execution": {
          "iopub.execute_input": "2022-01-06T07:20:38.255821Z",
          "iopub.status.busy": "2022-01-06T07:20:38.255355Z",
          "iopub.status.idle": "2022-01-06T07:24:43.964681Z",
          "shell.execute_reply": "2022-01-06T07:24:43.963913Z",
          "shell.execute_reply.started": "2022-01-06T07:20:38.255786Z"
        },
        "trusted": true,
        "id": "s2gECdk-56dR",
        "outputId": "80de8888-bafb-4590-bd4d-6ddfa1c7e311",
        "colab": {
          "base_uri": "https://localhost:8080/"
        }
      },
      "outputs": [
        {
          "output_type": "stream",
          "name": "stdout",
          "text": [
            "Best parameters are: \n",
            "{'C': 3, 'kernel': 'linear'}\n"
          ]
        }
      ],
      "source": [
        "# Tuning the hyperparameters\n",
        "parameters ={\n",
        "    \"C\":[0.1,0.3,1,3,10],\n",
        "    \"kernel\":['linear']} \n",
        "\n",
        "svm_optimal = grid_search(svm.SVC(probability=True), parameters,x_train, y_train)"
      ]
    },
    {
      "cell_type": "code",
      "execution_count": 22,
      "metadata": {
        "execution": {
          "iopub.execute_input": "2022-01-06T07:24:43.966078Z",
          "iopub.status.busy": "2022-01-06T07:24:43.965825Z",
          "iopub.status.idle": "2022-01-06T07:25:36.927423Z",
          "shell.execute_reply": "2022-01-06T07:25:36.926768Z",
          "shell.execute_reply.started": "2022-01-06T07:24:43.966043Z"
        },
        "trusted": true,
        "id": "dpj4ncBA56dU",
        "outputId": "85a9a98b-663a-4776-d52a-b139241f1c93",
        "colab": {
          "base_uri": "https://localhost:8080/",
          "height": 761
        }
      },
      "outputs": [
        {
          "output_type": "stream",
          "name": "stdout",
          "text": [
            "Train confusion matrix is: \n",
            "[[6838   32]\n",
            " [  95 1681]]\n",
            "\n",
            "Test confusion matrix is: \n",
            "[[2214   85]\n",
            " [ 168  416]]\n",
            "\n",
            "              precision    recall  f1-score   support\n",
            "\n",
            "           0       0.93      0.96      0.95      2299\n",
            "           1       0.83      0.71      0.77       584\n",
            "\n",
            "    accuracy                           0.91      2883\n",
            "   macro avg       0.88      0.84      0.86      2883\n",
            "weighted avg       0.91      0.91      0.91      2883\n",
            "\n",
            "\n",
            "\n",
            "Train f1:  0.9635998853539697\n",
            "Test f1:  0.7668202764976959\n",
            "\n",
            "Train accuracy score:  0.9853111265325005\n",
            "Test accuracy score:  0.912244190079778\n",
            "\n",
            "Train ROC-AUC score:  0.9952404369434937\n",
            "Test ROC-AUC score:  0.9406103457727302\n"
          ]
        },
        {
          "output_type": "display_data",
          "data": {
            "text/plain": [
              "<Figure size 432x288 with 1 Axes>"
            ],
            "image/png": "[encoded data removed]"
          },
          "metadata": {
            "needs_background": "light"
          }
        }
      ],
      "source": [
        "so_train_accuracy, so_test_accuracy, so_train_auc, so_test_auc = check_scores(svm_optimal,x_train, x_test, y_train, y_test)"
      ]
    },
    {
      "cell_type": "markdown",
      "metadata": {
        "id": "tMPKkjxf56dX"
      },
      "source": [
        "### Using Multinomial Naive Bayes"
      ]
    },
    {
      "cell_type": "code",
      "execution_count": 23,
      "metadata": {
        "execution": {
          "iopub.execute_input": "2022-01-06T07:25:36.928908Z",
          "iopub.status.busy": "2022-01-06T07:25:36.928675Z",
          "iopub.status.idle": "2022-01-06T07:25:37.388852Z",
          "shell.execute_reply": "2022-01-06T07:25:37.388174Z",
          "shell.execute_reply.started": "2022-01-06T07:25:36.928876Z"
        },
        "trusted": true,
        "id": "tlHJYcbZ56dZ",
        "colab": {
          "base_uri": "https://localhost:8080/",
          "height": 761
        },
        "outputId": "f8635a4c-2239-45ce-ebb3-273c8d310582"
      },
      "outputs": [
        {
          "output_type": "stream",
          "name": "stdout",
          "text": [
            "Train confusion matrix is: \n",
            "[[6868    2]\n",
            " [1144  632]]\n",
            "\n",
            "Test confusion matrix is: \n",
            "[[2296    3]\n",
            " [ 455  129]]\n",
            "\n",
            "              precision    recall  f1-score   support\n",
            "\n",
            "           0       0.83      1.00      0.91      2299\n",
            "           1       0.98      0.22      0.36       584\n",
            "\n",
            "    accuracy                           0.84      2883\n",
            "   macro avg       0.91      0.61      0.63      2883\n",
            "weighted avg       0.86      0.84      0.80      2883\n",
            "\n",
            "\n",
            "\n",
            "Train f1:  0.5244813278008298\n",
            "Test f1:  0.36033519553072624\n",
            "\n",
            "Train accuracy score:  0.8674531575294934\n",
            "Test accuracy score:  0.8411377037807839\n",
            "\n",
            "Train ROC-AUC score:  0.964453427226353\n",
            "Test ROC-AUC score:  0.9221884738450907\n"
          ]
        },
        {
          "output_type": "display_data",
          "data": {
            "text/plain": [
              "<Figure size 432x288 with 1 Axes>"
            ],
            "image/png": "[encoded data removed]"
          },
          "metadata": {
            "needs_background": "light"
          }
        }
      ],
      "source": [
        "m_train_accuracy, m_test_accuracy, m_train_auc, m_test_auc = check_scores(MultinomialNB(),x_train, x_test, y_train, y_test)\n"
      ]
    },
    {
      "cell_type": "markdown",
      "source": [
        "Tends to predict everything as a negative"
      ],
      "metadata": {
        "id": "DTkt2wLd5NhN"
      }
    },
    {
      "cell_type": "markdown",
      "metadata": {
        "id": "oWt_2iRi56df"
      },
      "source": [
        "### Adaboost"
      ]
    },
    {
      "cell_type": "code",
      "execution_count": 25,
      "metadata": {
        "execution": {
          "iopub.execute_input": "2022-01-06T07:25:47.217357Z",
          "iopub.status.busy": "2022-01-06T07:25:47.217096Z",
          "iopub.status.idle": "2022-01-06T07:31:35.356287Z",
          "shell.execute_reply": "2022-01-06T07:31:35.355511Z",
          "shell.execute_reply.started": "2022-01-06T07:25:47.217328Z"
        },
        "trusted": true,
        "id": "0wRSf8Md56dj",
        "colab": {
          "base_uri": "https://localhost:8080/"
        },
        "outputId": "c71790ff-752c-4548-cb37-bd12ae31003b"
      },
      "outputs": [
        {
          "output_type": "stream",
          "name": "stdout",
          "text": [
            "Best parameters are: \n",
            "{'learning_rate': 1.0, 'n_estimators': 200}\n"
          ]
        }
      ],
      "source": [
        "params = {'n_estimators': [100, 200, 500],\n",
        " 'learning_rate': [0.0001, 0.001, 0.01, 0.1, 1.0]}\n",
        "\n",
        "ada_optimal_model = grid_search(AdaBoostClassifier(), params,x_train, y_train)"
      ]
    },
    {
      "cell_type": "code",
      "execution_count": 26,
      "metadata": {
        "execution": {
          "iopub.execute_input": "2022-01-06T07:31:35.358260Z",
          "iopub.status.busy": "2022-01-06T07:31:35.357457Z",
          "iopub.status.idle": "2022-01-06T07:32:07.554842Z",
          "shell.execute_reply": "2022-01-06T07:32:07.554186Z",
          "shell.execute_reply.started": "2022-01-06T07:31:35.358218Z"
        },
        "trusted": true,
        "id": "Cd4orTKJ56dm",
        "colab": {
          "base_uri": "https://localhost:8080/",
          "height": 761
        },
        "outputId": "18cec28e-95c1-4947-af32-43cabecdb8e0"
      },
      "outputs": [
        {
          "output_type": "stream",
          "name": "stdout",
          "text": [
            "Train confusion matrix is: \n",
            "[[6709  161]\n",
            " [ 496 1280]]\n",
            "\n",
            "Test confusion matrix is: \n",
            "[[2192  107]\n",
            " [ 232  352]]\n",
            "\n",
            "              precision    recall  f1-score   support\n",
            "\n",
            "           0       0.90      0.95      0.93      2299\n",
            "           1       0.77      0.60      0.67       584\n",
            "\n",
            "    accuracy                           0.88      2883\n",
            "   macro avg       0.84      0.78      0.80      2883\n",
            "weighted avg       0.88      0.88      0.88      2883\n",
            "\n",
            "\n",
            "\n",
            "Train f1:  0.7957724588125583\n",
            "Test f1:  0.6749760306807286\n",
            "\n",
            "Train accuracy score:  0.9240111034004164\n",
            "Test accuracy score:  0.882414151925078\n",
            "\n",
            "Train ROC-AUC score:  0.9689236316010332\n",
            "Test ROC-AUC score:  0.9011295858234969\n"
          ]
        },
        {
          "output_type": "display_data",
          "data": {
            "text/plain": [
              "<Figure size 432x288 with 1 Axes>"
            ],
            "image/png": "[encoded data removed]"
          },
          "metadata": {
            "needs_background": "light"
          }
        }
      ],
      "source": [
        "ao_train_accuracy, ao_test_accuracy, ao_train_auc, ao_test_auc=check_scores(ada_optimal_model,x_train,x_test, y_train, y_test)\n"
      ]
    },
    {
      "cell_type": "markdown",
      "metadata": {
        "id": "4YPKwQ6d56dq"
      },
      "source": [
        "### Random Forest"
      ]
    },
    {
      "cell_type": "code",
      "execution_count": 39,
      "metadata": {
        "execution": {
          "iopub.execute_input": "2022-01-06T07:32:09.344510Z",
          "iopub.status.busy": "2022-01-06T07:32:09.344047Z",
          "iopub.status.idle": "2022-01-06T07:32:36.268949Z",
          "shell.execute_reply": "2022-01-06T07:32:36.268210Z",
          "shell.execute_reply.started": "2022-01-06T07:32:09.344472Z"
        },
        "trusted": true,
        "id": "7mR4jY1b56dr",
        "colab": {
          "base_uri": "https://localhost:8080/",
          "height": 761
        },
        "outputId": "1bc95ece-af9a-48b7-f3a7-7fdfa9154514"
      },
      "outputs": [
        {
          "output_type": "stream",
          "name": "stdout",
          "text": [
            "Train confusion matrix is: \n",
            "[[6870    0]\n",
            " [ 293 1483]]\n",
            "\n",
            "Test confusion matrix is: \n",
            "[[2179  120]\n",
            " [ 227  357]]\n",
            "\n",
            "              precision    recall  f1-score   support\n",
            "\n",
            "           0       0.91      0.95      0.93      2299\n",
            "           1       0.75      0.61      0.67       584\n",
            "\n",
            "    accuracy                           0.88      2883\n",
            "   macro avg       0.83      0.78      0.80      2883\n",
            "weighted avg       0.87      0.88      0.87      2883\n",
            "\n",
            "\n",
            "\n",
            "Train f1:  0.910095121202823\n",
            "Test f1:  0.6729500471253533\n",
            "\n",
            "Train accuracy score:  0.9661114966458478\n",
            "Test accuracy score:  0.8796392646548734\n",
            "\n",
            "Train ROC-AUC score:  0.9967324311210773\n",
            "Test ROC-AUC score:  0.8923195463185305\n"
          ]
        },
        {
          "output_type": "display_data",
          "data": {
            "text/plain": [
              "<Figure size 432x288 with 1 Axes>"
            ],
            "image/png": "[encoded data removed]"
          },
          "metadata": {
            "needs_background": "light"
          }
        }
      ],
      "source": [
        "r_train_accuracy, r_test_accuracy, r_train_auc, r_test_auc= check_scores(RandomForestClassifier(random_state=0,max_features=0.3, max_depth=100).fit(x_train, y_train), x_train,x_test,y_train,y_test)\n"
      ]
    },
    {
      "cell_type": "markdown",
      "metadata": {
        "id": "woZJFhW456ds"
      },
      "source": [
        "### LSTM\n"
      ]
    },
    {
      "cell_type": "code",
      "execution_count": 98,
      "metadata": {
        "execution": {
          "iopub.execute_input": "2022-01-06T07:32:36.271688Z",
          "iopub.status.busy": "2022-01-06T07:32:36.271159Z",
          "iopub.status.idle": "2022-01-06T07:32:38.849315Z",
          "shell.execute_reply": "2022-01-06T07:32:38.848620Z",
          "shell.execute_reply.started": "2022-01-06T07:32:36.271652Z"
        },
        "trusted": true,
        "id": "ICabgnwJ56du",
        "colab": {
          "base_uri": "https://localhost:8080/"
        },
        "outputId": "f113f63c-a5ed-417e-8039-498255498a60"
      },
      "outputs": [
        {
          "output_type": "stream",
          "name": "stdout",
          "text": [
            "plus added commercial experience tacky\n",
            "[768, 4324, 697, 3341, 1494]\n",
            "[ 768 4324  697 3341 1494    0    0    0    0    0    0    0    0    0\n",
            "    0    0    0    0    0    0    0    0    0    0    0    0    0    0\n",
            "    0    0    0    0    0    0    0    0    0    0    0    0    0    0\n",
            "    0    0    0    0    0    0    0    0    0    0    0    0    0    0\n",
            "    0    0    0    0    0    0    0    0    0    0    0    0    0    0\n",
            "    0    0    0    0    0    0    0    0    0    0    0    0    0    0\n",
            "    0    0    0    0    0    0    0    0    0    0    0    0    0    0\n",
            "    0    0    0    0    0    0    0    0    0    0    0    0    0    0\n",
            "    0    0    0    0    0    0    0    0]\n",
            "(11529, 120) (11529,)\n"
          ]
        }
      ],
      "source": [
        "corpus = [df['cleaned_tweet'][i] for i in df.index]\n",
        "print(df['cleaned_tweet'].iloc[0])\n",
        "\n",
        "# kera's function for tokenizing and one encoding\n",
        "voc_size=5000\n",
        "onehot_enc=[one_hot(words,voc_size) for words in corpus] \n",
        "print(onehot_enc[0])\n",
        "\n",
        "# create sequences of the same length\n",
        "max_sent_length=max([len(i) for i in corpus])\n",
        "embedded_docs=pad_sequences(onehot_enc,padding='post',maxlen=max_sent_length)\n",
        "print(embedded_docs[0])\n",
        "print(len(embedded_docs[0]))\n",
        "\n",
        "model=Sequential()\n",
        "# Embedding with:\n",
        "# - a vocabulary size of voc_size\n",
        "# - condensing info in a vector of size embedding_vector_features\n",
        "# - accounting for information in sequence, length = max_sent_length\n",
        "embedding_vector_features=40\n",
        "emb_layer = Embedding(input_dim=voc_size, output_dim=embedding_vector_features, input_length=max_sent_length)\n",
        "model.add(emb_layer)\n",
        "model.add(Dropout(0.3))\n",
        "\n",
        "model.add(LSTM(100))\n",
        "model.add(Dropout(0.3))\n",
        "\n",
        "model.add(Dense(1,activation='sigmoid'))\n",
        "model.compile(loss='binary_crossentropy',optimizer='adam',metrics=['accuracy'])\n",
        "\n",
        "X_final=np.array(embedded_docs)\n",
        "y_final=np.array(df['airline_sentiment'])\n",
        "print(X_final.shape,y_final.shape)"
      ]
    },
    {
      "cell_type": "code",
      "execution_count": 100,
      "metadata": {
        "execution": {
          "iopub.execute_input": "2022-01-06T07:32:38.850812Z",
          "iopub.status.busy": "2022-01-06T07:32:38.850553Z",
          "iopub.status.idle": "2022-01-06T07:33:03.491439Z",
          "shell.execute_reply": "2022-01-06T07:33:03.490756Z",
          "shell.execute_reply.started": "2022-01-06T07:32:38.850776Z"
        },
        "trusted": true,
        "id": "K53D_cym56dw",
        "colab": {
          "base_uri": "https://localhost:8080/"
        },
        "outputId": "d38973b5-ed02-4f97-e6f0-3166d710fa2b"
      },
      "outputs": [
        {
          "output_type": "stream",
          "name": "stdout",
          "text": [
            "Epoch 1/10\n",
            "136/136 [==============================] - 27s 202ms/step - loss: 0.5116 - accuracy: 0.7946 - val_loss: 0.5000 - val_accuracy: 0.8003\n",
            "Epoch 2/10\n",
            "136/136 [==============================] - 22s 165ms/step - loss: 0.5098 - accuracy: 0.7946 - val_loss: 0.5010 - val_accuracy: 0.8003\n",
            "Epoch 3/10\n",
            "136/136 [==============================] - 23s 172ms/step - loss: 0.5103 - accuracy: 0.7946 - val_loss: 0.5016 - val_accuracy: 0.8003\n",
            "Epoch 4/10\n",
            "136/136 [==============================] - 31s 227ms/step - loss: 0.5105 - accuracy: 0.7946 - val_loss: 0.5001 - val_accuracy: 0.8003\n",
            "Epoch 5/10\n",
            "136/136 [==============================] - 23s 171ms/step - loss: 0.5094 - accuracy: 0.7946 - val_loss: 0.5015 - val_accuracy: 0.8003\n",
            "Epoch 6/10\n",
            "136/136 [==============================] - 22s 165ms/step - loss: 0.5093 - accuracy: 0.7946 - val_loss: 0.5019 - val_accuracy: 0.8003\n",
            "Epoch 7/10\n",
            "136/136 [==============================] - 23s 166ms/step - loss: 0.5104 - accuracy: 0.7946 - val_loss: 0.5017 - val_accuracy: 0.8003\n",
            "Epoch 8/10\n",
            "136/136 [==============================] - 22s 165ms/step - loss: 0.5103 - accuracy: 0.7946 - val_loss: 0.5020 - val_accuracy: 0.8003\n",
            "Epoch 9/10\n",
            "136/136 [==============================] - 23s 166ms/step - loss: 0.5099 - accuracy: 0.7946 - val_loss: 0.5002 - val_accuracy: 0.8003\n",
            "Epoch 10/10\n",
            "136/136 [==============================] - 23s 166ms/step - loss: 0.5095 - accuracy: 0.7946 - val_loss: 0.5004 - val_accuracy: 0.8003\n"
          ]
        },
        {
          "output_type": "execute_result",
          "data": {
            "text/plain": [
              "<keras.callbacks.History at 0x7f693ca67e50>"
            ]
          },
          "metadata": {},
          "execution_count": 100
        }
      ],
      "source": [
        "X_train, X_test, y_train, y_test = train_test_split(X_final, y_final, random_state=42)\n",
        "model.fit(X_train,y_train,validation_data=(X_test,y_test),epochs=10,batch_size=64)\n"
      ]
    },
    {
      "cell_type": "code",
      "source": [
        "print(emb_layer.get_weights()[0])"
      ],
      "metadata": {
        "colab": {
          "base_uri": "https://localhost:8080/"
        },
        "id": "7J-F0SP-GnVr",
        "outputId": "d2cd0a91-124e-4ad4-b5d1-f32bfca7c866"
      },
      "execution_count": 102,
      "outputs": [
        {
          "output_type": "stream",
          "name": "stdout",
          "text": [
            "[[-0.0201618  -0.04950611  0.04942426 ...  0.00620472 -0.0414826\n",
            "   0.04559207]\n",
            " [-0.02103245  0.03102117 -0.00177242 ... -0.03538524 -0.03699581\n",
            "   0.0131152 ]\n",
            " [ 0.02524066  0.0159471  -0.01712537 ...  0.04009491 -0.01630973\n",
            "   0.01992478]\n",
            " ...\n",
            " [ 0.03338911 -0.0097317  -0.02181251 ... -0.03870877 -0.00817182\n",
            "  -0.04314892]\n",
            " [-0.03053494 -0.04574876 -0.03089695 ... -0.02005493 -0.0206831\n",
            "  -0.04778351]\n",
            " [-0.04517946  0.02200583  0.00873969 ...  0.02156997  0.02574045\n",
            "   0.03360526]]\n"
          ]
        }
      ]
    },
    {
      "cell_type": "code",
      "execution_count": null,
      "metadata": {
        "execution": {
          "iopub.execute_input": "2022-01-06T07:33:03.492996Z",
          "iopub.status.busy": "2022-01-06T07:33:03.492662Z",
          "iopub.status.idle": "2022-01-06T07:33:04.881827Z",
          "shell.execute_reply": "2022-01-06T07:33:04.881099Z",
          "shell.execute_reply.started": "2022-01-06T07:33:03.492960Z"
        },
        "trusted": true,
        "id": "3TnRU1Yk56dx"
      },
      "outputs": [],
      "source": [
        "y_test_pred = (model.predict(X_test) > 0.5).astype(\"int32\")\n",
        "y_train_pred = (model.predict(X_train) > 0.5).astype(\"int32\")"
      ]
    },
    {
      "cell_type": "code",
      "execution_count": null,
      "metadata": {
        "execution": {
          "iopub.execute_input": "2022-01-06T07:33:04.885274Z",
          "iopub.status.busy": "2022-01-06T07:33:04.885021Z",
          "iopub.status.idle": "2022-01-06T07:33:04.896350Z",
          "shell.execute_reply": "2022-01-06T07:33:04.895690Z",
          "shell.execute_reply.started": "2022-01-06T07:33:04.885246Z"
        },
        "trusted": true,
        "id": "h9gWWZ1t56dz"
      },
      "outputs": [],
      "source": [
        "test_acc_lstm = accuracy_score(y_test,y_test_pred)\n",
        "train_acc_lstm = accuracy_score(y_train,y_train_pred)\n",
        "test_roc_lstm = roc_auc_score(y_test,y_test_pred)\n",
        "train_roc_lstm = roc_auc_score(y_train,y_train_pred)\n"
      ]
    },
    {
      "cell_type": "markdown",
      "metadata": {
        "id": "RWNSDpKt56d0"
      },
      "source": [
        "<div style=\"color:white;\n",
        "           display:fill;\n",
        "           border-radius:5px;\n",
        "           font-size:110%;\n",
        "           font-family:cursive;\n",
        "           letter-spacing:0.5px;\n",
        "           background-color:powderblue;\n",
        "           color:Black;\n",
        "           font-family:cursive\n",
        "           \">\n",
        "<h1 style=\"text-align:center;font-weight: bold\">Final Results\n",
        " </h1>\n",
        "</div>\n",
        "\n"
      ]
    },
    {
      "cell_type": "code",
      "execution_count": null,
      "metadata": {
        "execution": {
          "iopub.execute_input": "2022-01-06T07:33:04.897820Z",
          "iopub.status.busy": "2022-01-06T07:33:04.897499Z",
          "iopub.status.idle": "2022-01-06T07:33:04.914992Z",
          "shell.execute_reply": "2022-01-06T07:33:04.914291Z",
          "shell.execute_reply.started": "2022-01-06T07:33:04.897783Z"
        },
        "trusted": true,
        "id": "FhJZp9Ka56d1"
      },
      "outputs": [],
      "source": [
        "data = [('SVM', so_train_accuracy, so_test_accuracy, so_train_auc, so_test_auc),\n",
        "('MultinomialNB',m_train_accuracy, m_test_accuracy, m_train_auc, m_test_auc  ),\n",
        "('Random Forest', r_train_accuracy, r_test_accuracy, r_train_auc, r_test_auc),\n",
        "('AdaBoost',ao_train_accuracy, ao_test_accuracy, ao_train_auc, ao_test_auc),\n",
        "('LSTM',train_acc_lstm, test_acc_lstm, train_roc_lstm, test_roc_lstm )]\n",
        "\n",
        "Scores_ =pd.DataFrame(data = data, columns=['Model Name','Train Accuracy', 'Test Accuracy', 'Train AUC', 'Test AUC'])\n",
        "Scores_.set_index('Model Name', inplace = True)\n",
        "\n",
        "Scores_"
      ]
    },
    {
      "cell_type": "markdown",
      "source": [
        "# Topic modeling\n",
        "Why do people have a bad sentiment?"
      ],
      "metadata": {
        "id": "v5wu_4AQQcj2"
      }
    },
    {
      "cell_type": "code",
      "source": [
        "df_neg = df[df['airline_sentiment']==0]\n",
        "df_neg.shape"
      ],
      "metadata": {
        "colab": {
          "base_uri": "https://localhost:8080/"
        },
        "id": "DVyKpOfoQjU0",
        "outputId": "44bb7bae-e3e0-4887-96a6-e9dfd6b10c88"
      },
      "execution_count": 40,
      "outputs": [
        {
          "output_type": "execute_result",
          "data": {
            "text/plain": [
              "(9169, 16)"
            ]
          },
          "metadata": {},
          "execution_count": 40
        }
      ]
    },
    {
      "cell_type": "code",
      "source": [
        "from gensim import corpora\n",
        "from gensim.models import LdaModel\n",
        "from gensim.models import LsiModel\n",
        "from gensim.models import TfidfModel\n",
        "from sklearn.feature_extraction.text import CountVectorizer\n",
        "from sklearn.feature_extraction.text import TfidfVectorizer\n",
        "\n",
        "from gensim import matutils, models\n",
        "from gensim.corpora import Dictionary\n",
        "import scipy.sparse\n",
        "\n",
        "def prepare_corpus(doc_clean):\n",
        "  # Creating the term dictionary of our courpus, where every unique term is assigned an index. dictionary = corpora.Dictionary(doc_clean)\n",
        "  #dictionary = corpora.Dictionary(doc_clean)\n",
        "  # Converting list of documents (corpus) into Document Term Matrix using dictionary prepared above.\n",
        "  #corpus = [dictionary.doc2bow(doc) for doc in doc_clean]\n",
        "  #tfidf = TfidfModel(corpus) ##ngram_range=(1,1),min_df=3\n",
        "  #corpus_tfidf = tfidf[corpus]\n",
        "\n",
        "  cv = TfidfVectorizer(stop_words=stop_words, ngram_range=(1,1), min_df=3)\n",
        "  data_cv = cv.fit_transform(df_neg.cleaned_tweet)\n",
        "  data = pd.DataFrame(data_cv.toarray(), columns=cv.get_feature_names_out())\n",
        "  data.index = df_neg.index\n",
        "  tdm = data.transpose()\n",
        "  sparse_counts = scipy.sparse.csr_matrix(tdm)\n",
        "  corpus = matutils.Sparse2Corpus(sparse_counts)\n",
        "\n",
        "  #d = corpora.Dictionary()\n",
        "  id2word = dict((v, k) for k, v in cv.vocabulary_.items())\n",
        "  #d.id2token = dict((v, k) for k, v in cv.vocabulary_.items())\n",
        "  #d.id2token = id2word\n",
        "\n",
        "  gensim_dict = Dictionary.from_corpus(corpus, id2word=id2word)\n",
        "\n",
        "  return gensim_dict,corpus"
      ],
      "metadata": {
        "id": "M1DpN08kQwzN"
      },
      "execution_count": 81,
      "outputs": []
    },
    {
      "cell_type": "code",
      "source": [
        "from sklearn.feature_extraction.text import CountVectorizer\n",
        "\n",
        "print(df_neg['cleaned_tweet'].iloc[0])\n",
        "dictionary, corpus = prepare_corpus(df_neg.cleaned_tweet.apply(word_tokenize))\n",
        "print(corpus[0])\n",
        "print(len(dictionary))\n"
      ],
      "metadata": {
        "colab": {
          "base_uri": "https://localhost:8080/"
        },
        "id": "bt3ywLEUeI2A",
        "outputId": "7d9d3a92-41c1-4fde-88bf-b9f2d8961d60"
      },
      "execution_count": 82,
      "outputs": [
        {
          "output_type": "stream",
          "name": "stdout",
          "text": [
            "really aggressive blast obnoxious entertainment guest face little recourse\n",
            "[(52, 0.4093206587489333), (249, 0.3988670588001145), (751, 0.3339233641376385), (818, 0.3388591853818621), (1014, 0.3988670588001145), (1321, 0.2959337381018054), (1828, 0.21910119420585708), (1845, 0.3903258457310167)]\n",
            "2591\n"
          ]
        }
      ]
    },
    {
      "cell_type": "code",
      "source": [
        "from gensim.models.coherencemodel import CoherenceModel\n",
        "\n",
        "def compute_coherence_values(dictionary, corpus, doc_clean, stop, start=2, step=3):\n",
        "    \"\"\"\n",
        "    Input   : dictionary : Gensim dictionary\n",
        "              corpus : Gensim corpus\n",
        "              texts : List of input texts\n",
        "              stop : Max num of topics\n",
        "    purpose : Compute c_v coherence for various number of topics\n",
        "    Output  : model_list : List of LDA topic models\n",
        "              c_v : Coherence values corresponding to the LDA model with respective number of topics\n",
        "    \"\"\"\n",
        "    c_v = []\n",
        "    model_list = []\n",
        "    for num_topics in range(start, stop, step):\n",
        "        # generate model\n",
        "        model = LsiModel(corpus, num_topics=num_topics, id2word = dictionary)  # train model\n",
        "        model_list.append(model)\n",
        "        coherencemodel = CoherenceModel(model=model, texts=doc_clean, dictionary=dictionary, coherence='c_v')\n",
        "        c_v.append(coherencemodel.get_coherence())\n",
        "    return model_list, c_v"
      ],
      "metadata": {
        "id": "PiVtTQkcRbWr"
      },
      "execution_count": 111,
      "outputs": []
    },
    {
      "cell_type": "code",
      "source": [
        "def plot_graph(doc_clean, start, stop, step):\n",
        "    dictionary,corpus=prepare_corpus(doc_clean)\n",
        "    model_list,c_v = compute_coherence_values(dictionary, corpus, doc_clean,\n",
        "                                                            stop, start, step)\n",
        "  \n",
        "\n",
        "    # cv\n",
        "    x = range(start, stop, step)\n",
        "    fig = plt.plot(x, c_v, label = 'cv')\n",
        "    plt.xlabel(\"Number of Topics\")\n",
        "    plt.ylabel(\"Coherence score\")\n",
        "    plt.legend(('cv'), loc='best')\n",
        "    plt.xticks(ticks = x)\n",
        "    plt.show()\n",
        "    plt.close()\n",
        "\n",
        "    return model_list\n",
        "\n",
        "model_list = plot_graph(df_neg.cleaned_tweet.apply(word_tokenize),1,15,1)"
      ],
      "metadata": {
        "colab": {
          "base_uri": "https://localhost:8080/",
          "height": 279
        },
        "id": "TDPm6Zw4ESmB",
        "outputId": "4b3afc07-1c64-4ed6-9a93-f8a73e988187"
      },
      "execution_count": 112,
      "outputs": [
        {
          "output_type": "display_data",
          "data": {
            "text/plain": [
              "<Figure size 432x288 with 1 Axes>"
            ],
            "image/png": "[encoded data removed]"
          },
          "metadata": {
            "needs_background": "light"
          }
        }
      ]
    },
    {
      "cell_type": "code",
      "source": [
        "# Unique values of airline\n",
        "\n",
        "plt.figure(figsize=(10,10))\n",
        "ax = sns.countplot(x=\"negativereason\", data=df_neg)\n",
        "ax.tick_params(axis='x', rotation=90)"
      ],
      "metadata": {
        "colab": {
          "base_uri": "https://localhost:8080/",
          "height": 736
        },
        "id": "M0KjgZ9cMFW2",
        "outputId": "de94aa4a-9506-4327-c4d4-c742fc74b680"
      },
      "execution_count": 113,
      "outputs": [
        {
          "output_type": "display_data",
          "data": {
            "text/plain": [
              "<Figure size 720x720 with 1 Axes>"
            ],
            "image/png": "[encoded data removed]"
          },
          "metadata": {
            "needs_background": "light"
          }
        }
      ]
    },
    {
      "cell_type": "code",
      "source": [
        "ntopic = 6\n",
        "model = model_list[ntopic-1]\n",
        "model.show_topics()"
      ],
      "metadata": {
        "colab": {
          "base_uri": "https://localhost:8080/"
        },
        "id": "7416nm3vGE9D",
        "outputId": "40317970-b6d8-4f52-c077-9089681d7c83"
      },
      "execution_count": 123,
      "outputs": [
        {
          "output_type": "execute_result",
          "data": {
            "text/plain": [
              "[(0,\n",
              "  '-0.678*\"flight\" + -0.254*\"cancel\" + -0.161*\"delay\" + -0.157*\"hold\" + -0.138*\"help\" + -0.126*\"time\" + -0.124*\"call\" + -0.122*\"wait\" + -0.111*\"service\" + -0.109*\"customer\"'),\n",
              " (1,\n",
              "  '0.508*\"flight\" + -0.365*\"customer\" + -0.364*\"service\" + 0.257*\"cancel\" + -0.229*\"call\" + -0.164*\"wait\" + -0.160*\"hold\" + -0.118*\"bag\" + -0.115*\"time\" + -0.112*\"still\"'),\n",
              " (2,\n",
              "  '-0.464*\"customer\" + -0.462*\"service\" + 0.347*\"hold\" + 0.274*\"call\" + 0.190*\"wait\" + 0.172*\"help\" + -0.164*\"bad\" + 0.161*\"minute\" + -0.148*\"flight\" + -0.132*\"ever\"'),\n",
              " (3,\n",
              "  '0.376*\"delay\" + -0.358*\"hold\" + 0.288*\"plane\" + -0.225*\"cancel\" + -0.225*\"customer\" + 0.217*\"bag\" + -0.216*\"call\" + -0.215*\"service\" + -0.186*\"help\" + 0.185*\"gate\"'),\n",
              " (4,\n",
              "  '0.454*\"hold\" + -0.345*\"call\" + 0.312*\"wait\" + 0.286*\"minute\" + 0.265*\"delay\" + 0.163*\"min\" + -0.146*\"back\" + -0.145*\"bag\" + 0.143*\"service\" + -0.137*\"say\"'),\n",
              " (5,\n",
              "  '-0.382*\"call\" + 0.315*\"hold\" + 0.286*\"bad\" + 0.275*\"fly\" + 0.268*\"airline\" + -0.243*\"wait\" + 0.237*\"help\" + 0.198*\"ever\" + 0.172*\"never\" + -0.166*\"customer\"')]"
            ]
          },
          "metadata": {},
          "execution_count": 123
        }
      ]
    },
    {
      "cell_type": "code",
      "source": [
        "list_guess = ['Flight Cancelled',   # 0\n",
        "              'Flight Customer Service',   # 1\n",
        "              'CS booking',   # 2\n",
        "              'Flight Delay',   # 3\n",
        "              'CS booking',   # 4\n",
        "              'flight epxerience']   # 5]"
      ],
      "metadata": {
        "id": "I-eJiTjRLP44"
      },
      "execution_count": 140,
      "outputs": []
    },
    {
      "cell_type": "code",
      "source": [
        "lst = []\n",
        "for topic in model.show_topics(formatted=False):\n",
        "    tuples = topic[1]\n",
        "    for tup in tuples:\n",
        "        lst.append(tup[0])\n",
        "\n",
        "counter=pd.DataFrame(lst).value_counts()\n",
        "print(counter.head(10))\n",
        "#plt.show()\n",
        "print('\\n')"
      ],
      "metadata": {
        "colab": {
          "base_uri": "https://localhost:8080/"
        },
        "id": "qcktSLBjQWOr",
        "outputId": "6765e716-47db-4b66-fbe0-d38d45f0d713"
      },
      "execution_count": 124,
      "outputs": [
        {
          "output_type": "stream",
          "name": "stdout",
          "text": [
            "call        6\n",
            "hold        6\n",
            "wait        5\n",
            "customer    5\n",
            "service     5\n",
            "help        4\n",
            "bag         3\n",
            "cancel      3\n",
            "delay       3\n",
            "flight      3\n",
            "dtype: int64\n",
            "\n",
            "\n"
          ]
        }
      ]
    },
    {
      "cell_type": "markdown",
      "source": [
        "### Find the most dominant topic in each document"
      ],
      "metadata": {
        "id": "Xtxj7Vqt2zn2"
      }
    },
    {
      "cell_type": "code",
      "source": [
        "corpus_transformed = model[corpus]\n",
        "len(corpus_transformed)"
      ],
      "metadata": {
        "colab": {
          "base_uri": "https://localhost:8080/"
        },
        "id": "jh6yo8uD2yym",
        "outputId": "c7396025-7056-4174-da55-a2161c80198f"
      },
      "execution_count": 125,
      "outputs": [
        {
          "output_type": "execute_result",
          "data": {
            "text/plain": [
              "9169"
            ]
          },
          "metadata": {},
          "execution_count": 125
        }
      ]
    },
    {
      "cell_type": "code",
      "source": [
        "j=list(corpus_transformed)[0]\n",
        "j[0][1]"
      ],
      "metadata": {
        "colab": {
          "base_uri": "https://localhost:8080/"
        },
        "id": "HC_aG7zq6iMZ",
        "outputId": "be7a1f79-58d0-4f82-ef36-aadc9bf32c1f"
      },
      "execution_count": 126,
      "outputs": [
        {
          "output_type": "execute_result",
          "data": {
            "text/plain": [
              "-0.013402563499510254"
            ]
          },
          "metadata": {},
          "execution_count": 126
        }
      ]
    },
    {
      "cell_type": "code",
      "source": [
        "from pandas.core.common import not_none\n",
        "topic_prediction=[]\n",
        "for j in list(corpus_transformed):\n",
        "    if len(j) > 0:\n",
        "      main_topic=j[0][0]\n",
        "      weigth=np.abs(j[0][1])\n",
        "      for t,w in j:\n",
        "          if np.abs(w) > weigth :\n",
        "              main_topic=t\n",
        "              weigth=np.abs(w)\n",
        "    topic_prediction.append(main_topic)"
      ],
      "metadata": {
        "id": "OnXzkvf76FGa"
      },
      "execution_count": 139,
      "outputs": []
    },
    {
      "cell_type": "code",
      "source": [
        "from sklearn import preprocessing\n",
        "le = preprocessing.LabelEncoder()\n",
        "le.fit(list(df_neg.negativereason))\n",
        "\n",
        "print(le.classes_)\n",
        "\n",
        "enc_negativereason=le.transform(list(df_neg.negativereason))"
      ],
      "metadata": {
        "colab": {
          "base_uri": "https://localhost:8080/"
        },
        "id": "8cXMSkO39_QX",
        "outputId": "0d4a49a5-4f59-49fa-f303-d66a6e9d59c4"
      },
      "execution_count": 134,
      "outputs": [
        {
          "output_type": "stream",
          "name": "stdout",
          "text": [
            "['Bad Flight' \"Can't Tell\" 'Cancelled Flight' 'Customer Service Issue'\n",
            " 'Damaged Luggage' 'Flight Attendant Complaints' 'Flight Booking Problems'\n",
            " 'Late Flight' 'Lost Luggage' 'longlines']\n"
          ]
        }
      ]
    },
    {
      "cell_type": "code",
      "source": [
        "from sklearn.metrics import confusion_matrix\n",
        "cm=confusion_matrix(enc_negativereason,topic_prediction,normalize='pred')\n",
        "print(cm)"
      ],
      "metadata": {
        "colab": {
          "base_uri": "https://localhost:8080/"
        },
        "id": "-crnLF4j-JpX",
        "outputId": "aa31e769-3fed-4a92-bef7-235718fa25ce"
      },
      "execution_count": 137,
      "outputs": [
        {
          "output_type": "stream",
          "name": "stdout",
          "text": [
            "[[0.07308216 0.01652893 0.01757188 0.10080645 0.04873294 0.06905371\n",
            "  0.         0.         0.         0.        ]\n",
            " [0.10145256 0.12855831 0.06070288 0.09516129 0.16276803 0.35294118\n",
            "  0.         0.         0.         0.        ]\n",
            " [0.17635043 0.00459137 0.00958466 0.01129032 0.01851852 0.03324808\n",
            "  0.         0.         0.         0.        ]\n",
            " [0.21970041 0.60881543 0.80031949 0.08629032 0.4337232  0.28388747\n",
            "  0.         0.         0.         0.        ]\n",
            " [0.00522015 0.01010101 0.00159744 0.01370968 0.01267057 0.01150895\n",
            "  0.         0.         0.         0.        ]\n",
            " [0.05674081 0.04958678 0.02715655 0.07580645 0.02923977 0.04603581\n",
            "  0.         0.         0.         0.        ]\n",
            " [0.08125284 0.02020202 0.02875399 0.00887097 0.07309942 0.05754476\n",
            "  0.         0.         0.         0.        ]\n",
            " [0.21289151 0.0523416  0.03194888 0.39112903 0.08479532 0.09846547\n",
            "  0.         0.         0.         0.        ]\n",
            " [0.05810259 0.07621671 0.01597444 0.17983871 0.11890838 0.03836317\n",
            "  0.         0.         0.         0.        ]\n",
            " [0.01520654 0.03305785 0.00638978 0.03709677 0.01754386 0.00895141\n",
            "  0.         0.         0.         0.        ]]\n"
          ]
        }
      ]
    },
    {
      "cell_type": "code",
      "source": [
        "plt.figure(figsize = (15,8))\n",
        "\n",
        "ax=sns.heatmap(cm, annot=True, fmt='g');  #annot=True to annotate cells, ftm='g' to disable scientific notation\n",
        "\n",
        "# labels, title and ticks\n",
        "ax.set_xlabel('Predicted labels');ax.set_ylabel('True labels'); \n",
        "ax.set_title('Confusion Matrix'); \n",
        "ax.yaxis.set_ticklabels(['Bad Flight', \"Can't Tell\", 'Cancelled Flight', 'Customer Service Issue',\n",
        " 'Damaged Luggage', 'Flight Attendant Complaints', 'Flight Booking Problems',\n",
        " 'Late Flight', 'Lost Luggage', 'longlines','nan'])\n",
        "ax.tick_params(axis='y', rotation=0)\n",
        "ax.xaxis.set_ticklabels(list_guess)\n",
        "ax.tick_params(axis='x', rotation=90)\n",
        "plt.show()\n",
        "plt.close()\n",
        "#plt.set_xticklabels(ax.get_xticklabels(),rotation = 30)"
      ],
      "metadata": {
        "colab": {
          "base_uri": "https://localhost:8080/",
          "height": 622
        },
        "id": "ZHyiEoFZ-QtI",
        "outputId": "391780c6-c94d-434f-bc08-f7e77a8bd84d"
      },
      "execution_count": 141,
      "outputs": [
        {
          "output_type": "display_data",
          "data": {
            "text/plain": [
              "<Figure size 1080x576 with 2 Axes>"
            ],
            "image/png": "[encoded data removed]"
          },
          "metadata": {
            "needs_background": "light"
          }
        }
      ]
    },
    {
      "cell_type": "code",
      "source": [
        ""
      ],
      "metadata": {
        "id": "Fby74SIrMdp-"
      },
      "execution_count": null,
      "outputs": []
    }
  ],
  "metadata": {
    "kernelspec": {
      "display_name": "Python 3",
      "language": "python",
      "name": "python3"
    },
    "language_info": {
      "codemirror_mode": {
        "name": "ipython",
        "version": 3
      },
      "file_extension": ".py",
      "mimetype": "text/x-python",
      "name": "python",
      "nbconvert_exporter": "python",
      "pygments_lexer": "ipython3",
      "version": "3.7.10"
    },
    "colab": {
      "name": "01_sentiment-analysis-topic-modeling.ipynb",
      "provenance": [],
      "collapsed_sections": [],
      "toc_visible": true
    }
  },
  "nbformat": 4,
  "nbformat_minor": 0
}