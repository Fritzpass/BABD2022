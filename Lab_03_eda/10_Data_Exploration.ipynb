{
 "cells": [
  {
   "cell_type": "markdown",
   "metadata": {},
   "source": [
    "## Import data"
   ]
  },
  {
   "cell_type": "code",
   "execution_count": null,
   "metadata": {},
   "outputs": [],
   "source": [
    "import numpy as np\n",
    "import pandas as pd\n",
    "\n",
    "from sklearn.datasets import load_breast_cancer\n",
    "\n",
    "dataset = load_breast_cancer()\n",
    "\n",
    "#create the dataframe\n",
    "dataset_df = pd.DataFrame(dataset.data)\n",
    "\n",
    "dataset_df.columns = dataset.feature_names\n",
    "\n",
    "#dataset_df.head()"
   ]
  },
  {
   "cell_type": "code",
   "execution_count": null,
   "metadata": {},
   "outputs": [],
   "source": [
    "dataset_df"
   ]
  },
  {
   "cell_type": "code",
   "execution_count": null,
   "metadata": {},
   "outputs": [],
   "source": [
    "dataset"
   ]
  },
  {
   "cell_type": "code",
   "execution_count": null,
   "metadata": {},
   "outputs": [],
   "source": [
    "dataset_df.shape"
   ]
  },
  {
   "cell_type": "code",
   "execution_count": null,
   "metadata": {},
   "outputs": [],
   "source": [
    "dataset_df['target']=dataset.target"
   ]
  },
  {
   "cell_type": "code",
   "execution_count": null,
   "metadata": {},
   "outputs": [],
   "source": [
    "dataset_df"
   ]
  },
  {
   "cell_type": "markdown",
   "metadata": {},
   "source": [
    "# Remove low variance variables (be carefull!!!)"
   ]
  },
  {
   "cell_type": "code",
   "execution_count": null,
   "metadata": {},
   "outputs": [],
   "source": [
    "dataset_df.describe()"
   ]
  },
  {
   "cell_type": "code",
   "execution_count": null,
   "metadata": {},
   "outputs": [],
   "source": [
    "from sklearn import feature_selection\n",
    "\n",
    "selector = feature_selection.VarianceThreshold(threshold=0.02)\n",
    "selector.fit_transform(dataset_df).shape"
   ]
  },
  {
   "cell_type": "code",
   "execution_count": null,
   "metadata": {},
   "outputs": [],
   "source": [
    "selector.get_support()"
   ]
  },
  {
   "cell_type": "code",
   "execution_count": null,
   "metadata": {},
   "outputs": [],
   "source": [
    "dataset_df.columns[selector.get_support()]"
   ]
  },
  {
   "cell_type": "code",
   "execution_count": null,
   "metadata": {},
   "outputs": [],
   "source": [
    "dataset_df[dataset_df.columns[selector.get_support()]]"
   ]
  },
  {
   "cell_type": "code",
   "execution_count": null,
   "metadata": {},
   "outputs": [],
   "source": [
    "%matplotlib inline\n",
    "dataset_df.hist('mean smoothness')"
   ]
  },
  {
   "cell_type": "markdown",
   "metadata": {},
   "source": [
    "## Univariate distributions"
   ]
  },
  {
   "cell_type": "code",
   "execution_count": null,
   "metadata": {},
   "outputs": [],
   "source": [
    "%matplotlib inline\n",
    "import seaborn as sns\n",
    "import matplotlib.pyplot as plt\n",
    "\n",
    "X=dataset_df\n",
    "\n",
    "X0 = X[X['target']==0]\n",
    "X1 = X[X['target']==1]\n",
    "\n",
    "fig, axes = plt.subplots(ncols=5, nrows=6, figsize=(20,15))\n",
    "fig.tight_layout()\n",
    "\n",
    "for i, ax in zip(range(X.columns.size), axes.flat):\n",
    "    sns.histplot(X0.iloc[:,i], color=\"blue\", element=\"step\", ax=ax,  alpha=0.3)\n",
    "    sns.histplot(X1.iloc[:,i], color=\"red\", element=\"step\", ax=ax,  alpha=0.3)\n",
    "plt.show()"
   ]
  },
  {
   "cell_type": "code",
   "execution_count": null,
   "metadata": {
    "scrolled": false
   },
   "outputs": [],
   "source": [
    "%matplotlib inline\n",
    "\n",
    "fig, axes = plt.subplots(ncols=5, nrows=6, figsize=(12,15))\n",
    "fig.tight_layout(pad=2)\n",
    "\n",
    "for i, col in enumerate(X.columns[:-1]):\n",
    "    sns.boxplot(y = col, x = \"target\",data=dataset_df, orient='v', ax=axes[int(i/5),i%5])\n"
   ]
  },
  {
   "cell_type": "markdown",
   "metadata": {},
   "source": [
    "## Univariate test (BE CAREFULL)"
   ]
  },
  {
   "cell_type": "code",
   "execution_count": null,
   "metadata": {},
   "outputs": [],
   "source": [
    "from sklearn import feature_selection\n",
    "from sklearn.feature_selection import SelectKBest\n",
    "\n",
    "X=dataset_df.iloc[:,:-1]\n",
    "\n",
    "y=dataset.target\n",
    "\n",
    "selector_chi=SelectKBest(feature_selection.chi2, k=5)\n",
    "selector_f=SelectKBest(feature_selection.f_classif, k=5)\n",
    "\n",
    "#Test\n",
    "#classification: chi2, f_classif, mutual_info_classif\n",
    "#regression: f_regression, mutual_info_regression\n",
    "\n",
    "X_chi = pd.DataFrame(selector_chi.fit_transform(X, y),columns=X.columns[selector_chi.get_support()])\n",
    "X_f = pd.DataFrame(selector_f.fit_transform(X, y),columns=X.columns[selector_f.get_support()])\n"
   ]
  },
  {
   "cell_type": "code",
   "execution_count": null,
   "metadata": {},
   "outputs": [],
   "source": [
    "X"
   ]
  },
  {
   "cell_type": "code",
   "execution_count": null,
   "metadata": {},
   "outputs": [],
   "source": [
    "print(X.columns[selector_chi.get_support()])\n",
    "print(X.columns[selector_f.get_support()])\n"
   ]
  },
  {
   "cell_type": "code",
   "execution_count": null,
   "metadata": {},
   "outputs": [],
   "source": [
    "X.columns"
   ]
  },
  {
   "cell_type": "code",
   "execution_count": null,
   "metadata": {},
   "outputs": [],
   "source": [
    "for i in range(len(selector_chi.scores_)):\n",
    "    print('Feature %i %s: %f' % (i, X.columns[i], selector_chi.scores_[i]))\n"
   ]
  },
  {
   "cell_type": "markdown",
   "metadata": {},
   "source": [
    "## Bivariate "
   ]
  },
  {
   "cell_type": "code",
   "execution_count": null,
   "metadata": {},
   "outputs": [],
   "source": [
    "dataset_df.head()"
   ]
  },
  {
   "cell_type": "code",
   "execution_count": null,
   "metadata": {},
   "outputs": [],
   "source": [
    "dataset_df"
   ]
  },
  {
   "cell_type": "code",
   "execution_count": null,
   "metadata": {},
   "outputs": [],
   "source": [
    "# We take a sample of columns with the target\n",
    "\n",
    "df_subset=dataset_df.copy()\n",
    "\n",
    "df_subset=df_subset.iloc[:,:6]"
   ]
  },
  {
   "cell_type": "code",
   "execution_count": null,
   "metadata": {},
   "outputs": [],
   "source": [
    "df_subset['target']=dataset_df['target']\n",
    "df_subset"
   ]
  },
  {
   "cell_type": "code",
   "execution_count": null,
   "metadata": {},
   "outputs": [],
   "source": [
    "%matplotlib inline\n",
    "\n",
    "import seaborn as sns\n",
    "sns.pairplot(df_subset,hue='target')"
   ]
  }
 ],
 "metadata": {
  "kernelspec": {
   "display_name": "Python 3 (ipykernel)",
   "language": "python",
   "name": "python3"
  },
  "language_info": {
   "codemirror_mode": {
    "name": "ipython",
    "version": 3
   },
   "file_extension": ".py",
   "mimetype": "text/x-python",
   "name": "python",
   "nbconvert_exporter": "python",
   "pygments_lexer": "ipython3",
   "version": "3.8.8"
  }
 },
 "nbformat": 4,
 "nbformat_minor": 4
}
