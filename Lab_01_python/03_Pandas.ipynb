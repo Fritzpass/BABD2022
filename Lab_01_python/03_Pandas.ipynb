{
 "cells": [
  {
   "cell_type": "markdown",
   "metadata": {},
   "source": [
    "# Pandas\n",
    "\n",
    "Data manipulation and analysis. "
   ]
  },
  {
   "cell_type": "code",
   "execution_count": null,
   "metadata": {},
   "outputs": [],
   "source": [
    "import pandas as pd\n",
    "\n",
    "#create a database (from a dictionary)\n",
    "#creating key-value pairs\n",
    "dictionary = {\"Restaurant Name\":[\"HABITAT COFFEE SHOP\",\"REILLY'S\"],\n",
    "              \"Location\":[\"Milan\",\"Los Angeles\"]}\n",
    "\n",
    "print(dictionary)"
   ]
  },
  {
   "cell_type": "markdown",
   "metadata": {},
   "source": [
    "### DataFrame\n",
    "Pandas DataFrame is two-dimensional size-mutable, potentially heterogeneous tabular data structure with labeled axes (rows and columns)\n",
    "\n",
    "\n"
   ]
  },
  {
   "cell_type": "code",
   "execution_count": null,
   "metadata": {},
   "outputs": [],
   "source": [
    "ranrest = pd.DataFrame(dictionary)"
   ]
  },
  {
   "cell_type": "code",
   "execution_count": null,
   "metadata": {},
   "outputs": [],
   "source": [
    "ranrest"
   ]
  },
  {
   "cell_type": "code",
   "execution_count": null,
   "metadata": {},
   "outputs": [],
   "source": [
    "ranrest.index = [\"HCS\",\"RS\"]\n",
    "ranrest "
   ]
  },
  {
   "cell_type": "code",
   "execution_count": null,
   "metadata": {},
   "outputs": [],
   "source": [
    "#not efficient!\n",
    "#build importing from csv!"
   ]
  },
  {
   "cell_type": "markdown",
   "metadata": {},
   "source": [
    "## Importing a database"
   ]
  },
  {
   "cell_type": "code",
   "execution_count": null,
   "metadata": {},
   "outputs": [],
   "source": [
    "import pandas as pd\n",
    "df = pd.read_csv(\"randomrestaurants.csv\", sep = \";\",index_col = 0) #try to set: index_col = 0\n",
    "\n",
    "#filepath_or_buffer : str, path object or file-like object\n",
    "#   Any valid string path is acceptable. The string could be a URL.\n",
    "#\n",
    "#sep : str, default ‘,’\n",
    "#   Delimiter to use.\n",
    "#\n",
    "#delimiter : str, default None\n",
    "#   Alias for sep.\n",
    "#\n",
    "#header : int, list of int, default ‘infer’\n",
    "#   Row number(s) to use as the column name\n",
    "#   Default behavior is to infer the column names: \n",
    "#\n",
    "#names : array-like, optional\n",
    "#   List of column names to use.\n",
    "#\n",
    "#index_col : int, str, sequence of int / str, or False, default None\n",
    "#   Column(s) to use as the row labels of the DataFrame"
   ]
  },
  {
   "cell_type": "code",
   "execution_count": null,
   "metadata": {},
   "outputs": [],
   "source": [
    "df"
   ]
  },
  {
   "cell_type": "code",
   "execution_count": null,
   "metadata": {},
   "outputs": [],
   "source": [
    "print(help(pd.read_csv))"
   ]
  },
  {
   "cell_type": "code",
   "execution_count": null,
   "metadata": {},
   "outputs": [],
   "source": [
    "df.tail(5)"
   ]
  },
  {
   "cell_type": "code",
   "execution_count": null,
   "metadata": {},
   "outputs": [],
   "source": [
    "df.sample(3) "
   ]
  },
  {
   "cell_type": "code",
   "execution_count": null,
   "metadata": {},
   "outputs": [],
   "source": [
    "#a further example of importing a dataset\n",
    "import pandas as pd\n",
    "df2 = pd.read_csv(\"glass.csv\")\n",
    "#try to set: index_col=0\n",
    "#df2.head(2)\n",
    "\n",
    "'''\n",
    "RI: refractive index\n",
    "Na: Sodium (unit measurement: weight percent in corresponding oxide, as are attributes 4-10)\n",
    "Mg: Magnesium\n",
    "Al: Aluminum\n",
    "Si: Silicon\n",
    "K: Potassium\n",
    "Ca: Calcium\n",
    "Ba: Barium\n",
    "Fe: Iron\n",
    "Type of glass: (class attribute) \n",
    "'''\n",
    "\n",
    "df2.head(10)"
   ]
  },
  {
   "cell_type": "code",
   "execution_count": null,
   "metadata": {},
   "outputs": [],
   "source": [
    "df2"
   ]
  },
  {
   "cell_type": "markdown",
   "metadata": {},
   "source": [
    "## Index and select data\n",
    "\n",
    "three options:\n",
    "1. using square brackets\n",
    "2. loc\n",
    "3. iloc"
   ]
  },
  {
   "cell_type": "code",
   "execution_count": null,
   "metadata": {},
   "outputs": [],
   "source": [
    "#square brackets\n",
    "import pandas as pd\n",
    "restaurants = pd.read_csv(\"randomrestaurants.csv\", sep = \";\",index_col=0)\n",
    "\n",
    "restaurants"
   ]
  },
  {
   "cell_type": "code",
   "execution_count": null,
   "metadata": {},
   "outputs": [],
   "source": [
    "restaurants[[\"Location\"]] #panda series (1d labelled array)\n"
   ]
  },
  {
   "cell_type": "code",
   "execution_count": null,
   "metadata": {},
   "outputs": [],
   "source": [
    "type(restaurants[[\"Location\"]])"
   ]
  },
  {
   "cell_type": "code",
   "execution_count": null,
   "metadata": {},
   "outputs": [],
   "source": [
    "restaurants[[\"Location\",\"Score\"]]# data frame\n",
    "#type(restaurants[[\"Location\"]])"
   ]
  },
  {
   "cell_type": "code",
   "execution_count": null,
   "metadata": {},
   "outputs": [],
   "source": [
    "restaurants[[\"Location\",\"Score\"]] #select columns"
   ]
  },
  {
   "cell_type": "code",
   "execution_count": null,
   "metadata": {},
   "outputs": [],
   "source": [
    "#select rows\n",
    "restaurants[1:4] # three rows in position [1,2,3]"
   ]
  },
  {
   "cell_type": "code",
   "execution_count": null,
   "metadata": {},
   "outputs": [],
   "source": [
    "#WHAT IF i want to select columns and rows as 2D numpy array\n",
    "\n",
    "#you can use:\n",
    "#1) loc (based on labels)\n",
    "#2) iloc (position based)\n",
    "\n",
    "restaurants.loc[\"RS\"]#as pandas series"
   ]
  },
  {
   "cell_type": "code",
   "execution_count": null,
   "metadata": {},
   "outputs": [],
   "source": [
    "restaurants.loc[[\"RS\"]]"
   ]
  },
  {
   "cell_type": "code",
   "execution_count": null,
   "metadata": {},
   "outputs": [],
   "source": [
    "restaurants.loc[[\"HCS\",\"RS\",\"LPQ\"]]"
   ]
  },
  {
   "cell_type": "code",
   "execution_count": null,
   "metadata": {},
   "outputs": [],
   "source": [
    "#extend selecting columns\n",
    "restaurants.loc[[\"HCS\",\"RS\",\"LPQ\"],[\"Location\",\"Score\"]]"
   ]
  },
  {
   "cell_type": "code",
   "execution_count": null,
   "metadata": {},
   "outputs": [],
   "source": [
    "restaurants.loc[:,[\"Location\",\"Score\"]] #all rows"
   ]
  },
  {
   "cell_type": "code",
   "execution_count": null,
   "metadata": {},
   "outputs": [],
   "source": [
    "#iloc based on positions\n",
    "restaurants.iloc[[1]]"
   ]
  },
  {
   "cell_type": "code",
   "execution_count": null,
   "metadata": {},
   "outputs": [],
   "source": [
    "restaurants.iloc[[1,2,3]]"
   ]
  },
  {
   "cell_type": "code",
   "execution_count": null,
   "metadata": {},
   "outputs": [],
   "source": [
    "restaurants.iloc[[1,2,3],[1,2]]"
   ]
  },
  {
   "cell_type": "code",
   "execution_count": null,
   "metadata": {},
   "outputs": [],
   "source": [
    "restaurants.iloc[:,[1,2]]"
   ]
  },
  {
   "cell_type": "code",
   "execution_count": null,
   "metadata": {},
   "outputs": [],
   "source": [
    "restaurants.iloc[:5,[0,1,2]]  "
   ]
  },
  {
   "cell_type": "code",
   "execution_count": null,
   "metadata": {
    "scrolled": true
   },
   "outputs": [],
   "source": [
    "#IMPORTING as NUMPY (only with numerical datasets)\n",
    "import numpy as np\n",
    "filename = \"glass.csv\"\n",
    "data = np.loadtxt(filename, delimiter=\",\", skiprows=1)#usecols=[0,2]\n",
    "data"
   ]
  },
  {
   "cell_type": "markdown",
   "metadata": {},
   "source": [
    "## Looping on DataFrames"
   ]
  },
  {
   "cell_type": "code",
   "execution_count": null,
   "metadata": {},
   "outputs": [],
   "source": [
    "restaurants"
   ]
  },
  {
   "cell_type": "code",
   "execution_count": null,
   "metadata": {},
   "outputs": [],
   "source": [
    "restaurants"
   ]
  },
  {
   "cell_type": "code",
   "execution_count": null,
   "metadata": {},
   "outputs": [],
   "source": [
    "for i in restaurants:\n",
    "    print(i) #!!! just the columns names"
   ]
  },
  {
   "cell_type": "code",
   "execution_count": null,
   "metadata": {},
   "outputs": [],
   "source": [
    "for label, row in restaurants.iterrows():\n",
    "    print(label,\":\",row)\n"
   ]
  },
  {
   "cell_type": "code",
   "execution_count": null,
   "metadata": {},
   "outputs": [],
   "source": [
    "#if I just want the ID : the  full name of the restaurant\n",
    "for label, row in restaurants.iterrows():\n",
    "    print(label+\": \"+row[\"Restaurant\"]+\" \"+str(row[\"Score\"]) )"
   ]
  },
  {
   "cell_type": "code",
   "execution_count": null,
   "metadata": {},
   "outputs": [],
   "source": [
    "#if i want to add a column while iterating\n",
    "for label, row in restaurants.iterrows():\n",
    "    restaurants.loc[label,\"name_len\"] = int(len(row[\"Restaurant\"]))\n",
    "\n",
    "restaurants"
   ]
  },
  {
   "cell_type": "code",
   "execution_count": null,
   "metadata": {},
   "outputs": [],
   "source": [
    "#or use a more efficient apply **instead of a for loop**\n",
    "restaurants[\"name_len2\"] = restaurants[\"Restaurant\"].apply(len)\n",
    "\n",
    "restaurants"
   ]
  },
  {
   "cell_type": "code",
   "execution_count": null,
   "metadata": {},
   "outputs": [],
   "source": [
    "restaurants[\"Half Score\"]=restaurants[\"Score\"]/2\n",
    "\n",
    "restaurants"
   ]
  },
  {
   "cell_type": "code",
   "execution_count": null,
   "metadata": {},
   "outputs": [],
   "source": [
    "#using a custom function\n",
    "\n",
    "\n",
    "restaurants[\"class\"] = restaurants[\"Score\"].apply(lambda x: \"A\" if (x>95) else \"B\")\n",
    "\n",
    "restaurants"
   ]
  },
  {
   "cell_type": "code",
   "execution_count": null,
   "metadata": {},
   "outputs": [],
   "source": [
    "restaurants[\"ratio\"]= restaurants[\"Score\"]/restaurants[\"name_len\"]\n",
    "restaurants"
   ]
  },
  {
   "cell_type": "markdown",
   "metadata": {},
   "source": [
    "## MERGING"
   ]
  },
  {
   "cell_type": "code",
   "execution_count": null,
   "metadata": {},
   "outputs": [],
   "source": [
    "# First Dataset\n",
    "restaurants = pd.read_csv(\"randomrestaurants.csv\", sep = \";\",index_col=0)\n",
    "restaurants"
   ]
  },
  {
   "cell_type": "code",
   "execution_count": null,
   "metadata": {},
   "outputs": [],
   "source": [
    "# Second Dataset\n",
    "restaurants2 = pd.read_csv(\"randomrestaurants_2.csv\", sep = \";\",index_col=0) # Load a different source\n",
    "restaurants2"
   ]
  },
  {
   "cell_type": "code",
   "execution_count": null,
   "metadata": {},
   "outputs": [],
   "source": [
    "#  We merge the two data frames by common index\n",
    "pd.merge(restaurants,restaurants2 ,left_index=True,right_index=True)  "
   ]
  },
  {
   "cell_type": "code",
   "execution_count": null,
   "metadata": {},
   "outputs": [],
   "source": [
    " # ..but we can do it by a different column\n",
    "pd.merge(restaurants,restaurants2,left_on=\"Restaurant\",right_on=\"Restaurant\" )"
   ]
  },
  {
   "cell_type": "code",
   "execution_count": null,
   "metadata": {},
   "outputs": [],
   "source": [
    " # ..or multiple columns\n",
    "pd.merge(restaurants,restaurants2, left_on=[\"Restaurant\"],right_on=[\"Restaurant\"] )"
   ]
  },
  {
   "cell_type": "code",
   "execution_count": null,
   "metadata": {},
   "outputs": [],
   "source": [
    "# we can prioritize one of the df to be merged\n",
    "pd.merge(restaurants,restaurants2,left_on=\"Restaurant\",right_on=\"Restaurant\", how='left' ) \n",
    "# Let's try how ='outer', how= 'left', how = 'right' \n"
   ]
  },
  {
   "cell_type": "markdown",
   "metadata": {},
   "source": [
    "![Join](join.jpg)"
   ]
  },
  {
   "cell_type": "markdown",
   "metadata": {},
   "source": [
    "## Try by yourself\n",
    "\n",
    "- Import the dataset iris as a DataFrame\n",
    "- Add the columns names (sepal length, sepal width, petal length, petal width, type).\n",
    "- Create a new column *ratio_length* that  contains the ratio between the sepal and petal length.\n",
    "- Add  a new column  named target  with value 1  if the type is setosa and 0 otherwise."
   ]
  },
  {
   "cell_type": "code",
   "execution_count": null,
   "metadata": {},
   "outputs": [],
   "source": []
  },
  {
   "cell_type": "code",
   "execution_count": null,
   "metadata": {},
   "outputs": [],
   "source": []
  }
 ],
 "metadata": {
  "kernelspec": {
   "display_name": "Python 3 (ipykernel)",
   "language": "python",
   "name": "python3"
  },
  "language_info": {
   "codemirror_mode": {
    "name": "ipython",
    "version": 3
   },
   "file_extension": ".py",
   "mimetype": "text/x-python",
   "name": "python",
   "nbconvert_exporter": "python",
   "pygments_lexer": "ipython3",
   "version": "3.8.8"
  }
 },
 "nbformat": 4,
 "nbformat_minor": 2
}
