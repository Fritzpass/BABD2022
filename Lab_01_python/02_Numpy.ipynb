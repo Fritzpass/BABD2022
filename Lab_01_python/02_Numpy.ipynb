{
 "cells": [
  {
   "cell_type": "markdown",
   "metadata": {},
   "source": [
    "# Numpy library\n",
    "\n",
    "\n",
    "Core library for scientific computing in Python. It provides a\n",
    "high-performance multidimensional array object, and tools for\n",
    "working with these arrays\n",
    "1. Numeric Python\n",
    "2. Calculation over entire arrays\n",
    "3. Efficient\n",
    "4. Linear algebra\n",
    "\n",
    "BE AWARE:\n",
    "- can only contain values of the same type!\n",
    "- operator + works differently than with LIST type!"
   ]
  },
  {
   "cell_type": "code",
   "execution_count": 1,
   "metadata": {},
   "outputs": [
    {
     "name": "stdout",
     "output_type": "stream",
     "text": [
      "[24 23 30 29 17 16 15]\n",
      "[24, 23, 30, 29, 17, 16, 15, 24, 23, 30, 29, 17, 16, 15]\n",
      "[48 46 60 58 34 32 30]\n",
      "[25 24 31 30 18 17 16]\n",
      "<class 'list'>\n",
      "<class 'numpy.ndarray'>\n"
     ]
    }
   ],
   "source": [
    "import numpy as np\n",
    "\n",
    "scores = [24, 23, 30, 29, 17, 16, 15]\n",
    "\n",
    "np_scores = np.array(scores)\n",
    "\n",
    "print(np_scores)  #or try *2 or whatever operation...\n",
    "\n",
    "print(scores*2)\n",
    "print(np_scores*2)\n",
    "\n",
    "#print(np_scores) \n",
    "print(np_scores+1)  \n",
    "\n",
    "print(type(scores))\n",
    "print(type(np_scores))"
   ]
  },
  {
   "cell_type": "code",
   "execution_count": 4,
   "metadata": {},
   "outputs": [
    {
     "data": {
      "text/plain": [
       "array([29, 17])"
      ]
     },
     "execution_count": 4,
     "metadata": {},
     "output_type": "execute_result"
    }
   ],
   "source": [
    "#subsetting as the list type using square brackets\n",
    "np_scores[3:-2]\n",
    "# we can convert it to a list\n",
    "#np_scores_list=np_scores.tolist()\n",
    "#np_scores_list[:4]"
   ]
  },
  {
   "cell_type": "code",
   "execution_count": 2,
   "metadata": {},
   "outputs": [
    {
     "data": {
      "text/plain": [
       "array([ True,  True,  True,  True, False, False, False])"
      ]
     },
     "execution_count": 2,
     "metadata": {},
     "output_type": "execute_result"
    }
   ],
   "source": [
    "## subsetting specifically for numpy \n",
    "np_scores >= 18"
   ]
  },
  {
   "cell_type": "code",
   "execution_count": 3,
   "metadata": {},
   "outputs": [
    {
     "data": {
      "text/plain": [
       "array([24, 23, 30, 29])"
      ]
     },
     "execution_count": 3,
     "metadata": {},
     "output_type": "execute_result"
    }
   ],
   "source": [
    "np_scores[np_scores>=18]"
   ]
  },
  {
   "cell_type": "markdown",
   "metadata": {},
   "source": [
    "# 2D Numpy arrays"
   ]
  },
  {
   "cell_type": "code",
   "execution_count": null,
   "metadata": {},
   "outputs": [],
   "source": [
    "scores_1 = [24, 23, 30, 29, 17, 16, 15]\n",
    "scores_2 = [15, 26, 24, 25, 18, 30, 23]"
   ]
  },
  {
   "cell_type": "code",
   "execution_count": null,
   "metadata": {},
   "outputs": [],
   "source": [
    "np_2d_scores = np.array([scores_1,scores_2])"
   ]
  },
  {
   "cell_type": "code",
   "execution_count": null,
   "metadata": {},
   "outputs": [],
   "source": [
    "np_2d_scores  #as a list of lists "
   ]
  },
  {
   "cell_type": "code",
   "execution_count": null,
   "metadata": {},
   "outputs": [],
   "source": [
    "np_2d_scores.shape  "
   ]
  },
  {
   "cell_type": "code",
   "execution_count": null,
   "metadata": {},
   "outputs": [],
   "source": [
    "np_2d_scores[0][2]\n",
    "np_2d_scores[0,2]"
   ]
  },
  {
   "cell_type": "code",
   "execution_count": null,
   "metadata": {},
   "outputs": [],
   "source": [
    "np_2d_scores[:,1:3] #all rows"
   ]
  },
  {
   "cell_type": "code",
   "execution_count": null,
   "metadata": {},
   "outputs": [],
   "source": [
    "np_2d_scores[1,:] #all columns first row"
   ]
  },
  {
   "cell_type": "markdown",
   "metadata": {},
   "source": [
    "## Loop on a numpy array"
   ]
  },
  {
   "cell_type": "code",
   "execution_count": null,
   "metadata": {},
   "outputs": [],
   "source": [
    "for score in scores: \n",
    "    print(score)"
   ]
  },
  {
   "cell_type": "code",
   "execution_count": null,
   "metadata": {},
   "outputs": [],
   "source": [
    "for score in np_2d_scores: #doesnt work if 2D\n",
    "    print(score)\n"
   ]
  },
  {
   "cell_type": "code",
   "execution_count": null,
   "metadata": {},
   "outputs": [],
   "source": [
    "for val in np.nditer(np_2d_scores):\n",
    "    print(val) "
   ]
  },
  {
   "cell_type": "code",
   "execution_count": null,
   "metadata": {},
   "outputs": [],
   "source": [
    "for row in np_2d_scores:\n",
    "    for x in row:\n",
    "        print(x)"
   ]
  },
  {
   "cell_type": "markdown",
   "metadata": {},
   "source": [
    "## We can go  further"
   ]
  },
  {
   "cell_type": "code",
   "execution_count": null,
   "metadata": {},
   "outputs": [],
   "source": [
    "np_2d_scores_2 = np_2d_scores*2\n",
    "np_2d_scores_2 "
   ]
  },
  {
   "cell_type": "code",
   "execution_count": null,
   "metadata": {},
   "outputs": [],
   "source": [
    "np_3d_scores=[np_2d_scores,np_2d_scores_2]  "
   ]
  },
  {
   "cell_type": "code",
   "execution_count": null,
   "metadata": {},
   "outputs": [],
   "source": [
    "np_3d_scores"
   ]
  },
  {
   "cell_type": "code",
   "execution_count": null,
   "metadata": {},
   "outputs": [],
   "source": [
    "np.shape(np_3d_scores)"
   ]
  },
  {
   "cell_type": "code",
   "execution_count": null,
   "metadata": {},
   "outputs": [],
   "source": [
    "np_3d_scores[0][1][3]\n",
    "np_3d_scores[1][:,1]"
   ]
  },
  {
   "cell_type": "markdown",
   "metadata": {},
   "source": [
    "## Try by yourself\n",
    "\n",
    "- Create a random array of length 100.Hint: np.random.rand()\n",
    "- Sort your array.\n",
    "- Compute the mean, median and sample variance."
   ]
  }
 ],
 "metadata": {
  "kernelspec": {
   "display_name": "Python 3",
   "language": "python",
   "name": "python3"
  },
  "language_info": {
   "codemirror_mode": {
    "name": "ipython",
    "version": 3
   },
   "file_extension": ".py",
   "mimetype": "text/x-python",
   "name": "python",
   "nbconvert_exporter": "python",
   "pygments_lexer": "ipython3",
   "version": "3.8.8"
  }
 },
 "nbformat": 4,
 "nbformat_minor": 2
}
